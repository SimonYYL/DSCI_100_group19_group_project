{
 "cells": [
  {
   "cell_type": "markdown",
   "metadata": {},
   "source": [
    "# < Insert Title here >"
   ]
  },
  {
   "cell_type": "markdown",
   "metadata": {},
   "source": [
    "# Introduction\n",
    "### Background \n",
    "\n",
    "Tennis is a popular, competitive sport played around the world. In tennis, players gain points by hitting a tennis ball, across a net in the court, in such a way that their opponent is unable to hit it back without the ball bouncing twice. \n",
    "Tennis can be played in \"singles\" where there is only one person on each side of the net or \"doubles\" where there are teams of two. \n",
    "It can be played on a variety of surfaces such as grass, clay, or hard court (i.e. like a gym floor)\n",
    "\n",
    "- Professional tennis players participate in large **tournaments** for ranks, prizes, and fame. \n",
    "- In a tournament, players advance to the next round by winning their **match** against an opponent. \n",
    "- To win a match, a player must win two (or three, depending on the tournament) **sets**. \n",
    "- A set is won by the player who wins six **games**.\n",
    "- A game is won by the first player to reach four **points**\n",
    "\n",
    "The association of tennis professionals, or ATP, organizes these tournaments and also collects data on the players and the matches that take place.\n",
    "\n",
    "\n",
    "\n",
    "### Our Question\n",
    "\n",
    "### Our Dataset\n"
   ]
  },
  {
   "cell_type": "markdown",
   "metadata": {},
   "source": []
  },
  {
   "cell_type": "markdown",
   "metadata": {},
   "source": [
    "# Preliminary Exploratory Data Analysis"
   ]
  },
  {
   "cell_type": "markdown",
   "metadata": {},
   "source": [
    "# Methods"
   ]
  },
  {
   "cell_type": "markdown",
   "metadata": {},
   "source": [
    "# Expected outcomes and significance"
   ]
  },
  {
   "cell_type": "code",
   "execution_count": null,
   "metadata": {},
   "outputs": [],
   "source": []
  }
 ],
 "metadata": {
  "kernelspec": {
   "display_name": "R",
   "language": "R",
   "name": "ir"
  },
  "language_info": {
   "codemirror_mode": "r",
   "file_extension": ".r",
   "mimetype": "text/x-r-source",
   "name": "R",
   "pygments_lexer": "r",
   "version": "4.0.0"
  }
 },
 "nbformat": 4,
 "nbformat_minor": 4
}
