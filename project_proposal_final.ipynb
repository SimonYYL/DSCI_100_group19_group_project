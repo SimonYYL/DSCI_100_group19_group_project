{
 "cells": [
  {
   "cell_type": "markdown",
   "metadata": {},
   "source": [
    "# < Insert Title here >"
   ]
  },
  {
   "cell_type": "markdown",
   "metadata": {},
   "source": [
    "# Introduction"
   ]
  },
  {
   "cell_type": "markdown",
   "metadata": {},
   "source": [
    "# Preliminary Exploratory Data Analysis"
   ]
  },
  {
   "cell_type": "markdown",
   "metadata": {},
   "source": [
    "# Methods"
   ]
  },
  {
   "cell_type": "markdown",
   "metadata": {},
   "source": [
    "Each winner and loser of a match will have their stats mutated into three percentage predictors which will be used to Classify whether or not that player was the Winner or Loser of the match. The first predictor calculates successful saved breakpoints while the second and third predictors calculate serves and whether or not that Player won a point on their second serve or received a double fault.\n",
    "\n",
    "We can apply these values by using scatterplot graphs to compare the Winner and Loser stats for each match and visualize a trend. For example, we can compare the amount of points won on the second serve versus the number of double faults and have each point colored on whether or not that player won or lost the match."
   ]
  },
  {
   "cell_type": "markdown",
   "metadata": {},
   "source": [
    "# Expected outcomes and significance"
   ]
  },
  {
   "cell_type": "code",
   "execution_count": null,
   "metadata": {},
   "outputs": [],
   "source": []
  }
 ],
 "metadata": {
  "kernelspec": {
   "display_name": "R",
   "language": "R",
   "name": "ir"
  },
  "language_info": {
   "codemirror_mode": "r",
   "file_extension": ".r",
   "mimetype": "text/x-r-source",
   "name": "R",
   "pygments_lexer": "r",
   "version": "4.0.0"
  }
 },
 "nbformat": 4,
 "nbformat_minor": 4
}
