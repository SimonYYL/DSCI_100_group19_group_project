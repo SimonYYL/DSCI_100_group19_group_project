{
 "cells": [
  {
   "cell_type": "markdown",
   "metadata": {},
   "source": [
    "# < Insert Title here >"
   ]
  },
  {
   "cell_type": "markdown",
   "metadata": {},
   "source": [
    "# Introduction"
   ]
  },
  {
   "cell_type": "markdown",
   "metadata": {},
   "source": [
    "# Preliminary Exploratory Data Analysis"
   ]
  },
  {
   "cell_type": "markdown",
   "metadata": {},
   "source": [
    "# Methods"
   ]
  },
  {
   "cell_type": "markdown",
   "metadata": {},
   "source": [
    "# Expected outcomes and significance"
   ]
  },
  {
   "cell_type": "markdown",
   "metadata": {},
   "source": [
    "We expect that if our created tennis player has superior stats to their opponent, they will be victorious. Conversely, if our player has inferior stats to the opponent, they will lose the match. These findings could be useful in predicting the outcomes of future or hypothetical tennis matches, given the competing players' past match histories. It could also be helpful in isolating certain stats that most strongly dictate the chances of victory, thus providing a better way of judging a player's skill.\n",
    "\n",
    "Additionally, this model could pose the following questions/possibilities:\n",
    " - Is it possible to simulate entire tournaments with this model?\n",
    " - Can a player's career trajectory be predicted given their past statistics?\n",
    " - Are there other statistics that can prove more valuable in increasing the effectiveness of the model? "
   ]
  },
  {
   "cell_type": "code",
   "execution_count": null,
   "metadata": {},
   "outputs": [],
   "source": []
  }
 ],
 "metadata": {
  "kernelspec": {
   "display_name": "R",
   "language": "R",
   "name": "ir"
  },
  "language_info": {
   "codemirror_mode": "r",
   "file_extension": ".r",
   "mimetype": "text/x-r-source",
   "name": "R",
   "pygments_lexer": "r",
   "version": "4.0.0"
  }
 },
 "nbformat": 4,
 "nbformat_minor": 4
}
