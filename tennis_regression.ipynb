{
 "cells": [
  {
   "cell_type": "code",
   "execution_count": 8,
   "metadata": {},
   "outputs": [],
   "source": [
    "library(tidyverse)\n",
    "library(repr)\n",
    "library(tidymodels)\n",
    "library(rvest)\n",
    "library(stringr)\n",
    "library(DBI)\n",
    "library(dbplyr)\n",
    "options(repr.matrix.max.rows = 6)"
   ]
  },
  {
   "cell_type": "code",
   "execution_count": 9,
   "metadata": {},
   "outputs": [
    {
     "name": "stderr",
     "output_type": "stream",
     "text": [
      "Warning message:\n",
      "“Missing column names filled in: 'X1' [1]”\n",
      "Parsed with column specification:\n",
      "cols(\n",
      "  .default = col_double(),\n",
      "  tourney_id = \u001b[31mcol_character()\u001b[39m,\n",
      "  tourney_name = \u001b[31mcol_character()\u001b[39m,\n",
      "  surface = \u001b[31mcol_character()\u001b[39m,\n",
      "  tourney_level = \u001b[31mcol_character()\u001b[39m,\n",
      "  winner_seed = \u001b[31mcol_character()\u001b[39m,\n",
      "  winner_entry = \u001b[31mcol_character()\u001b[39m,\n",
      "  winner_name = \u001b[31mcol_character()\u001b[39m,\n",
      "  winner_hand = \u001b[31mcol_character()\u001b[39m,\n",
      "  winner_ioc = \u001b[31mcol_character()\u001b[39m,\n",
      "  loser_seed = \u001b[31mcol_character()\u001b[39m,\n",
      "  loser_entry = \u001b[31mcol_character()\u001b[39m,\n",
      "  loser_name = \u001b[31mcol_character()\u001b[39m,\n",
      "  loser_hand = \u001b[31mcol_character()\u001b[39m,\n",
      "  loser_ioc = \u001b[31mcol_character()\u001b[39m,\n",
      "  score = \u001b[31mcol_character()\u001b[39m,\n",
      "  round = \u001b[31mcol_character()\u001b[39m\n",
      ")\n",
      "\n",
      "See spec(...) for full column specifications.\n",
      "\n"
     ]
    },
    {
     "data": {
      "text/html": [
       "<table>\n",
       "<caption>A tibble: 6 × 50</caption>\n",
       "<thead>\n",
       "\t<tr><th scope=col>X1</th><th scope=col>tourney_id</th><th scope=col>tourney_name</th><th scope=col>surface</th><th scope=col>draw_size</th><th scope=col>tourney_level</th><th scope=col>tourney_date</th><th scope=col>match_num</th><th scope=col>winner_id</th><th scope=col>winner_seed</th><th scope=col>⋯</th><th scope=col>l_1stIn</th><th scope=col>l_1stWon</th><th scope=col>l_2ndWon</th><th scope=col>l_SvGms</th><th scope=col>l_bpSaved</th><th scope=col>l_bpFaced</th><th scope=col>winner_rank</th><th scope=col>winner_rank_points</th><th scope=col>loser_rank</th><th scope=col>loser_rank_points</th></tr>\n",
       "\t<tr><th scope=col>&lt;dbl&gt;</th><th scope=col>&lt;chr&gt;</th><th scope=col>&lt;chr&gt;</th><th scope=col>&lt;chr&gt;</th><th scope=col>&lt;dbl&gt;</th><th scope=col>&lt;chr&gt;</th><th scope=col>&lt;dbl&gt;</th><th scope=col>&lt;dbl&gt;</th><th scope=col>&lt;dbl&gt;</th><th scope=col>&lt;chr&gt;</th><th scope=col>⋯</th><th scope=col>&lt;dbl&gt;</th><th scope=col>&lt;dbl&gt;</th><th scope=col>&lt;dbl&gt;</th><th scope=col>&lt;dbl&gt;</th><th scope=col>&lt;dbl&gt;</th><th scope=col>&lt;dbl&gt;</th><th scope=col>&lt;dbl&gt;</th><th scope=col>&lt;dbl&gt;</th><th scope=col>&lt;dbl&gt;</th><th scope=col>&lt;dbl&gt;</th></tr>\n",
       "</thead>\n",
       "<tbody>\n",
       "\t<tr><td>0</td><td>2019-M020</td><td>Brisbane</td><td>Hard</td><td>32</td><td>A</td><td>20181231</td><td>300</td><td>105453</td><td>2 </td><td>⋯</td><td>54</td><td>34</td><td>20</td><td>14</td><td>10</td><td>15</td><td>  9</td><td>3590</td><td> 16</td><td>1977</td></tr>\n",
       "\t<tr><td>1</td><td>2019-M020</td><td>Brisbane</td><td>Hard</td><td>32</td><td>A</td><td>20181231</td><td>299</td><td>106421</td><td>4 </td><td>⋯</td><td>52</td><td>36</td><td> 7</td><td>10</td><td>10</td><td>13</td><td> 16</td><td>1977</td><td>239</td><td> 200</td></tr>\n",
       "\t<tr><td>2</td><td>2019-M020</td><td>Brisbane</td><td>Hard</td><td>32</td><td>A</td><td>20181231</td><td>298</td><td>105453</td><td>2 </td><td>⋯</td><td>27</td><td>15</td><td> 6</td><td> 8</td><td> 1</td><td> 5</td><td>  9</td><td>3590</td><td> 40</td><td>1050</td></tr>\n",
       "\t<tr><td>3</td><td>2019-M020</td><td>Brisbane</td><td>Hard</td><td>32</td><td>A</td><td>20181231</td><td>297</td><td>104542</td><td>NA</td><td>⋯</td><td>60</td><td>38</td><td> 9</td><td>11</td><td> 4</td><td> 6</td><td>239</td><td> 200</td><td> 31</td><td>1298</td></tr>\n",
       "\t<tr><td>4</td><td>2019-M020</td><td>Brisbane</td><td>Hard</td><td>32</td><td>A</td><td>20181231</td><td>296</td><td>106421</td><td>4 </td><td>⋯</td><td>56</td><td>46</td><td>19</td><td>15</td><td> 2</td><td> 4</td><td> 16</td><td>1977</td><td> 18</td><td>1855</td></tr>\n",
       "\t<tr><td>5</td><td>2019-M020</td><td>Brisbane</td><td>Hard</td><td>32</td><td>A</td><td>20181231</td><td>295</td><td>104871</td><td>NA</td><td>⋯</td><td>54</td><td>40</td><td>18</td><td>15</td><td> 6</td><td> 9</td><td> 40</td><td>1050</td><td>185</td><td> 275</td></tr>\n",
       "</tbody>\n",
       "</table>\n"
      ],
      "text/latex": [
       "A tibble: 6 × 50\n",
       "\\begin{tabular}{lllllllllllllllllllll}\n",
       " X1 & tourney\\_id & tourney\\_name & surface & draw\\_size & tourney\\_level & tourney\\_date & match\\_num & winner\\_id & winner\\_seed & ⋯ & l\\_1stIn & l\\_1stWon & l\\_2ndWon & l\\_SvGms & l\\_bpSaved & l\\_bpFaced & winner\\_rank & winner\\_rank\\_points & loser\\_rank & loser\\_rank\\_points\\\\\n",
       " <dbl> & <chr> & <chr> & <chr> & <dbl> & <chr> & <dbl> & <dbl> & <dbl> & <chr> & ⋯ & <dbl> & <dbl> & <dbl> & <dbl> & <dbl> & <dbl> & <dbl> & <dbl> & <dbl> & <dbl>\\\\\n",
       "\\hline\n",
       "\t 0 & 2019-M020 & Brisbane & Hard & 32 & A & 20181231 & 300 & 105453 & 2  & ⋯ & 54 & 34 & 20 & 14 & 10 & 15 &   9 & 3590 &  16 & 1977\\\\\n",
       "\t 1 & 2019-M020 & Brisbane & Hard & 32 & A & 20181231 & 299 & 106421 & 4  & ⋯ & 52 & 36 &  7 & 10 & 10 & 13 &  16 & 1977 & 239 &  200\\\\\n",
       "\t 2 & 2019-M020 & Brisbane & Hard & 32 & A & 20181231 & 298 & 105453 & 2  & ⋯ & 27 & 15 &  6 &  8 &  1 &  5 &   9 & 3590 &  40 & 1050\\\\\n",
       "\t 3 & 2019-M020 & Brisbane & Hard & 32 & A & 20181231 & 297 & 104542 & NA & ⋯ & 60 & 38 &  9 & 11 &  4 &  6 & 239 &  200 &  31 & 1298\\\\\n",
       "\t 4 & 2019-M020 & Brisbane & Hard & 32 & A & 20181231 & 296 & 106421 & 4  & ⋯ & 56 & 46 & 19 & 15 &  2 &  4 &  16 & 1977 &  18 & 1855\\\\\n",
       "\t 5 & 2019-M020 & Brisbane & Hard & 32 & A & 20181231 & 295 & 104871 & NA & ⋯ & 54 & 40 & 18 & 15 &  6 &  9 &  40 & 1050 & 185 &  275\\\\\n",
       "\\end{tabular}\n"
      ],
      "text/markdown": [
       "\n",
       "A tibble: 6 × 50\n",
       "\n",
       "| X1 &lt;dbl&gt; | tourney_id &lt;chr&gt; | tourney_name &lt;chr&gt; | surface &lt;chr&gt; | draw_size &lt;dbl&gt; | tourney_level &lt;chr&gt; | tourney_date &lt;dbl&gt; | match_num &lt;dbl&gt; | winner_id &lt;dbl&gt; | winner_seed &lt;chr&gt; | ⋯ ⋯ | l_1stIn &lt;dbl&gt; | l_1stWon &lt;dbl&gt; | l_2ndWon &lt;dbl&gt; | l_SvGms &lt;dbl&gt; | l_bpSaved &lt;dbl&gt; | l_bpFaced &lt;dbl&gt; | winner_rank &lt;dbl&gt; | winner_rank_points &lt;dbl&gt; | loser_rank &lt;dbl&gt; | loser_rank_points &lt;dbl&gt; |\n",
       "|---|---|---|---|---|---|---|---|---|---|---|---|---|---|---|---|---|---|---|---|---|\n",
       "| 0 | 2019-M020 | Brisbane | Hard | 32 | A | 20181231 | 300 | 105453 | 2  | ⋯ | 54 | 34 | 20 | 14 | 10 | 15 |   9 | 3590 |  16 | 1977 |\n",
       "| 1 | 2019-M020 | Brisbane | Hard | 32 | A | 20181231 | 299 | 106421 | 4  | ⋯ | 52 | 36 |  7 | 10 | 10 | 13 |  16 | 1977 | 239 |  200 |\n",
       "| 2 | 2019-M020 | Brisbane | Hard | 32 | A | 20181231 | 298 | 105453 | 2  | ⋯ | 27 | 15 |  6 |  8 |  1 |  5 |   9 | 3590 |  40 | 1050 |\n",
       "| 3 | 2019-M020 | Brisbane | Hard | 32 | A | 20181231 | 297 | 104542 | NA | ⋯ | 60 | 38 |  9 | 11 |  4 |  6 | 239 |  200 |  31 | 1298 |\n",
       "| 4 | 2019-M020 | Brisbane | Hard | 32 | A | 20181231 | 296 | 106421 | 4  | ⋯ | 56 | 46 | 19 | 15 |  2 |  4 |  16 | 1977 |  18 | 1855 |\n",
       "| 5 | 2019-M020 | Brisbane | Hard | 32 | A | 20181231 | 295 | 104871 | NA | ⋯ | 54 | 40 | 18 | 15 |  6 |  9 |  40 | 1050 | 185 |  275 |\n",
       "\n"
      ],
      "text/plain": [
       "  X1 tourney_id tourney_name surface draw_size tourney_level tourney_date\n",
       "1 0  2019-M020  Brisbane     Hard    32        A             20181231    \n",
       "2 1  2019-M020  Brisbane     Hard    32        A             20181231    \n",
       "3 2  2019-M020  Brisbane     Hard    32        A             20181231    \n",
       "4 3  2019-M020  Brisbane     Hard    32        A             20181231    \n",
       "5 4  2019-M020  Brisbane     Hard    32        A             20181231    \n",
       "6 5  2019-M020  Brisbane     Hard    32        A             20181231    \n",
       "  match_num winner_id winner_seed ⋯ l_1stIn l_1stWon l_2ndWon l_SvGms l_bpSaved\n",
       "1 300       105453    2           ⋯ 54      34       20       14      10       \n",
       "2 299       106421    4           ⋯ 52      36        7       10      10       \n",
       "3 298       105453    2           ⋯ 27      15        6        8       1       \n",
       "4 297       104542    NA          ⋯ 60      38        9       11       4       \n",
       "5 296       106421    4           ⋯ 56      46       19       15       2       \n",
       "6 295       104871    NA          ⋯ 54      40       18       15       6       \n",
       "  l_bpFaced winner_rank winner_rank_points loser_rank loser_rank_points\n",
       "1 15          9         3590                16        1977             \n",
       "2 13         16         1977               239         200             \n",
       "3  5          9         3590                40        1050             \n",
       "4  6        239          200                31        1298             \n",
       "5  4         16         1977                18        1855             \n",
       "6  9         40         1050               185         275             "
      ]
     },
     "metadata": {},
     "output_type": "display_data"
    }
   ],
   "source": [
    "atp_data_frame <- read_csv(\"https://drive.google.com/uc?export=download&id=1fOQ8sy_qMkQiQEAO6uFdRX4tLI8EpSTn\")\n",
    "head(atp_data_frame)"
   ]
  },
  {
   "cell_type": "code",
   "execution_count": 10,
   "metadata": {},
   "outputs": [
    {
     "data": {
      "text/html": [
       "<style>\n",
       ".list-inline {list-style: none; margin:0; padding: 0}\n",
       ".list-inline>li {display: inline-block}\n",
       ".list-inline>li:not(:last-child)::after {content: \"\\00b7\"; padding: 0 .5ex}\n",
       "</style>\n",
       "<ol class=list-inline><li>'X1'</li><li>'tourney_id'</li><li>'tourney_name'</li><li>'surface'</li><li>'draw_size'</li><li>'tourney_level'</li><li>'tourney_date'</li><li>'match_num'</li><li>'winner_id'</li><li>'winner_seed'</li><li>'winner_entry'</li><li>'winner_name'</li><li>'winner_hand'</li><li>'winner_ht'</li><li>'winner_ioc'</li><li>'winner_age'</li><li>'loser_id'</li><li>'loser_seed'</li><li>'loser_entry'</li><li>'loser_name'</li><li>'loser_hand'</li><li>'loser_ht'</li><li>'loser_ioc'</li><li>'loser_age'</li><li>'score'</li><li>'best_of'</li><li>'round'</li><li>'minutes'</li><li>'w_ace'</li><li>'w_df'</li><li>'w_svpt'</li><li>'w_1stIn'</li><li>'w_1stWon'</li><li>'w_2ndWon'</li><li>'w_SvGms'</li><li>'w_bpSaved'</li><li>'w_bpFaced'</li><li>'l_ace'</li><li>'l_df'</li><li>'l_svpt'</li><li>'l_1stIn'</li><li>'l_1stWon'</li><li>'l_2ndWon'</li><li>'l_SvGms'</li><li>'l_bpSaved'</li><li>'l_bpFaced'</li><li>'winner_rank'</li><li>'winner_rank_points'</li><li>'loser_rank'</li><li>'loser_rank_points'</li></ol>\n"
      ],
      "text/latex": [
       "\\begin{enumerate*}\n",
       "\\item 'X1'\n",
       "\\item 'tourney\\_id'\n",
       "\\item 'tourney\\_name'\n",
       "\\item 'surface'\n",
       "\\item 'draw\\_size'\n",
       "\\item 'tourney\\_level'\n",
       "\\item 'tourney\\_date'\n",
       "\\item 'match\\_num'\n",
       "\\item 'winner\\_id'\n",
       "\\item 'winner\\_seed'\n",
       "\\item 'winner\\_entry'\n",
       "\\item 'winner\\_name'\n",
       "\\item 'winner\\_hand'\n",
       "\\item 'winner\\_ht'\n",
       "\\item 'winner\\_ioc'\n",
       "\\item 'winner\\_age'\n",
       "\\item 'loser\\_id'\n",
       "\\item 'loser\\_seed'\n",
       "\\item 'loser\\_entry'\n",
       "\\item 'loser\\_name'\n",
       "\\item 'loser\\_hand'\n",
       "\\item 'loser\\_ht'\n",
       "\\item 'loser\\_ioc'\n",
       "\\item 'loser\\_age'\n",
       "\\item 'score'\n",
       "\\item 'best\\_of'\n",
       "\\item 'round'\n",
       "\\item 'minutes'\n",
       "\\item 'w\\_ace'\n",
       "\\item 'w\\_df'\n",
       "\\item 'w\\_svpt'\n",
       "\\item 'w\\_1stIn'\n",
       "\\item 'w\\_1stWon'\n",
       "\\item 'w\\_2ndWon'\n",
       "\\item 'w\\_SvGms'\n",
       "\\item 'w\\_bpSaved'\n",
       "\\item 'w\\_bpFaced'\n",
       "\\item 'l\\_ace'\n",
       "\\item 'l\\_df'\n",
       "\\item 'l\\_svpt'\n",
       "\\item 'l\\_1stIn'\n",
       "\\item 'l\\_1stWon'\n",
       "\\item 'l\\_2ndWon'\n",
       "\\item 'l\\_SvGms'\n",
       "\\item 'l\\_bpSaved'\n",
       "\\item 'l\\_bpFaced'\n",
       "\\item 'winner\\_rank'\n",
       "\\item 'winner\\_rank\\_points'\n",
       "\\item 'loser\\_rank'\n",
       "\\item 'loser\\_rank\\_points'\n",
       "\\end{enumerate*}\n"
      ],
      "text/markdown": [
       "1. 'X1'\n",
       "2. 'tourney_id'\n",
       "3. 'tourney_name'\n",
       "4. 'surface'\n",
       "5. 'draw_size'\n",
       "6. 'tourney_level'\n",
       "7. 'tourney_date'\n",
       "8. 'match_num'\n",
       "9. 'winner_id'\n",
       "10. 'winner_seed'\n",
       "11. 'winner_entry'\n",
       "12. 'winner_name'\n",
       "13. 'winner_hand'\n",
       "14. 'winner_ht'\n",
       "15. 'winner_ioc'\n",
       "16. 'winner_age'\n",
       "17. 'loser_id'\n",
       "18. 'loser_seed'\n",
       "19. 'loser_entry'\n",
       "20. 'loser_name'\n",
       "21. 'loser_hand'\n",
       "22. 'loser_ht'\n",
       "23. 'loser_ioc'\n",
       "24. 'loser_age'\n",
       "25. 'score'\n",
       "26. 'best_of'\n",
       "27. 'round'\n",
       "28. 'minutes'\n",
       "29. 'w_ace'\n",
       "30. 'w_df'\n",
       "31. 'w_svpt'\n",
       "32. 'w_1stIn'\n",
       "33. 'w_1stWon'\n",
       "34. 'w_2ndWon'\n",
       "35. 'w_SvGms'\n",
       "36. 'w_bpSaved'\n",
       "37. 'w_bpFaced'\n",
       "38. 'l_ace'\n",
       "39. 'l_df'\n",
       "40. 'l_svpt'\n",
       "41. 'l_1stIn'\n",
       "42. 'l_1stWon'\n",
       "43. 'l_2ndWon'\n",
       "44. 'l_SvGms'\n",
       "45. 'l_bpSaved'\n",
       "46. 'l_bpFaced'\n",
       "47. 'winner_rank'\n",
       "48. 'winner_rank_points'\n",
       "49. 'loser_rank'\n",
       "50. 'loser_rank_points'\n",
       "\n",
       "\n"
      ],
      "text/plain": [
       " [1] \"X1\"                 \"tourney_id\"         \"tourney_name\"      \n",
       " [4] \"surface\"            \"draw_size\"          \"tourney_level\"     \n",
       " [7] \"tourney_date\"       \"match_num\"          \"winner_id\"         \n",
       "[10] \"winner_seed\"        \"winner_entry\"       \"winner_name\"       \n",
       "[13] \"winner_hand\"        \"winner_ht\"          \"winner_ioc\"        \n",
       "[16] \"winner_age\"         \"loser_id\"           \"loser_seed\"        \n",
       "[19] \"loser_entry\"        \"loser_name\"         \"loser_hand\"        \n",
       "[22] \"loser_ht\"           \"loser_ioc\"          \"loser_age\"         \n",
       "[25] \"score\"              \"best_of\"            \"round\"             \n",
       "[28] \"minutes\"            \"w_ace\"              \"w_df\"              \n",
       "[31] \"w_svpt\"             \"w_1stIn\"            \"w_1stWon\"          \n",
       "[34] \"w_2ndWon\"           \"w_SvGms\"            \"w_bpSaved\"         \n",
       "[37] \"w_bpFaced\"          \"l_ace\"              \"l_df\"              \n",
       "[40] \"l_svpt\"             \"l_1stIn\"            \"l_1stWon\"          \n",
       "[43] \"l_2ndWon\"           \"l_SvGms\"            \"l_bpSaved\"         \n",
       "[46] \"l_bpFaced\"          \"winner_rank\"        \"winner_rank_points\"\n",
       "[49] \"loser_rank\"         \"loser_rank_points\" "
      ]
     },
     "metadata": {},
     "output_type": "display_data"
    }
   ],
   "source": [
    "colnames(atp_data_frame)"
   ]
  },
  {
   "cell_type": "code",
   "execution_count": 11,
   "metadata": {},
   "outputs": [
    {
     "name": "stderr",
     "output_type": "stream",
     "text": [
      "`summarise()` ungrouping output (override with `.groups` argument)\n",
      "\n",
      "`summarise()` ungrouping output (override with `.groups` argument)\n",
      "\n",
      "Joining, by = \"player_id\"\n",
      "\n"
     ]
    },
    {
     "data": {
      "text/html": [
       "<table>\n",
       "<caption>A tibble: 103 × 9</caption>\n",
       "<thead>\n",
       "\t<tr><th scope=col>player_id</th><th scope=col>height</th><th scope=col>breakpoint_saved_pct</th><th scope=col>second_serve_win_pct</th><th scope=col>df_pct</th><th scope=col>first_serve_pct</th><th scope=col>win_rate</th><th scope=col>age</th><th scope=col>mean_rank_points</th></tr>\n",
       "\t<tr><th scope=col>&lt;chr&gt;</th><th scope=col>&lt;dbl&gt;</th><th scope=col>&lt;dbl&gt;</th><th scope=col>&lt;dbl&gt;</th><th scope=col>&lt;dbl&gt;</th><th scope=col>&lt;dbl&gt;</th><th scope=col>&lt;dbl&gt;</th><th scope=col>&lt;dbl&gt;</th><th scope=col>&lt;dbl&gt;</th></tr>\n",
       "</thead>\n",
       "<tbody>\n",
       "\t<tr><td>100644</td><td>198</td><td>0.5592240</td><td>0.1700660</td><td>0.05146736</td><td>0.7351579</td><td>69.34673</td><td>21.15730</td><td>4281.6435</td></tr>\n",
       "\t<tr><td>103333</td><td>208</td><td>0.7024075</td><td>0.1934502</td><td>0.05467902</td><td>0.8336761</td><td>41.02564</td><td>39.12084</td><td> 962.8682</td></tr>\n",
       "\t<tr><td>103819</td><td>185</td><td>0.6093525</td><td>0.2114465</td><td>0.02279807</td><td>0.7770562</td><td>84.17722</td><td>37.09069</td><td>6720.2910</td></tr>\n",
       "\t<tr><td>⋮</td><td>⋮</td><td>⋮</td><td>⋮</td><td>⋮</td><td>⋮</td><td>⋮</td><td>⋮</td><td>⋮</td></tr>\n",
       "\t<tr><td>106296</td><td>183</td><td>0.5769397</td><td>0.1768606</td><td>0.04200586</td><td>0.6743243</td><td>33.33333</td><td>25.12377</td><td> 458.375</td></tr>\n",
       "\t<tr><td>106298</td><td>185</td><td>0.6420310</td><td>0.2225114</td><td>0.04366584</td><td>0.7383816</td><td>58.08824</td><td>24.20236</td><td>1914.473</td></tr>\n",
       "\t<tr><td>106401</td><td>193</td><td>0.6480872</td><td>0.1862049</td><td>0.04705221</td><td>0.7819567</td><td>62.71186</td><td>23.02092</td><td>1722.535</td></tr>\n",
       "</tbody>\n",
       "</table>\n"
      ],
      "text/latex": [
       "A tibble: 103 × 9\n",
       "\\begin{tabular}{lllllllll}\n",
       " player\\_id & height & breakpoint\\_saved\\_pct & second\\_serve\\_win\\_pct & df\\_pct & first\\_serve\\_pct & win\\_rate & age & mean\\_rank\\_points\\\\\n",
       " <chr> & <dbl> & <dbl> & <dbl> & <dbl> & <dbl> & <dbl> & <dbl> & <dbl>\\\\\n",
       "\\hline\n",
       "\t 100644 & 198 & 0.5592240 & 0.1700660 & 0.05146736 & 0.7351579 & 69.34673 & 21.15730 & 4281.6435\\\\\n",
       "\t 103333 & 208 & 0.7024075 & 0.1934502 & 0.05467902 & 0.8336761 & 41.02564 & 39.12084 &  962.8682\\\\\n",
       "\t 103819 & 185 & 0.6093525 & 0.2114465 & 0.02279807 & 0.7770562 & 84.17722 & 37.09069 & 6720.2910\\\\\n",
       "\t ⋮ & ⋮ & ⋮ & ⋮ & ⋮ & ⋮ & ⋮ & ⋮ & ⋮\\\\\n",
       "\t 106296 & 183 & 0.5769397 & 0.1768606 & 0.04200586 & 0.6743243 & 33.33333 & 25.12377 &  458.375\\\\\n",
       "\t 106298 & 185 & 0.6420310 & 0.2225114 & 0.04366584 & 0.7383816 & 58.08824 & 24.20236 & 1914.473\\\\\n",
       "\t 106401 & 193 & 0.6480872 & 0.1862049 & 0.04705221 & 0.7819567 & 62.71186 & 23.02092 & 1722.535\\\\\n",
       "\\end{tabular}\n"
      ],
      "text/markdown": [
       "\n",
       "A tibble: 103 × 9\n",
       "\n",
       "| player_id &lt;chr&gt; | height &lt;dbl&gt; | breakpoint_saved_pct &lt;dbl&gt; | second_serve_win_pct &lt;dbl&gt; | df_pct &lt;dbl&gt; | first_serve_pct &lt;dbl&gt; | win_rate &lt;dbl&gt; | age &lt;dbl&gt; | mean_rank_points &lt;dbl&gt; |\n",
       "|---|---|---|---|---|---|---|---|---|\n",
       "| 100644 | 198 | 0.5592240 | 0.1700660 | 0.05146736 | 0.7351579 | 69.34673 | 21.15730 | 4281.6435 |\n",
       "| 103333 | 208 | 0.7024075 | 0.1934502 | 0.05467902 | 0.8336761 | 41.02564 | 39.12084 |  962.8682 |\n",
       "| 103819 | 185 | 0.6093525 | 0.2114465 | 0.02279807 | 0.7770562 | 84.17722 | 37.09069 | 6720.2910 |\n",
       "| ⋮ | ⋮ | ⋮ | ⋮ | ⋮ | ⋮ | ⋮ | ⋮ | ⋮ |\n",
       "| 106296 | 183 | 0.5769397 | 0.1768606 | 0.04200586 | 0.6743243 | 33.33333 | 25.12377 |  458.375 |\n",
       "| 106298 | 185 | 0.6420310 | 0.2225114 | 0.04366584 | 0.7383816 | 58.08824 | 24.20236 | 1914.473 |\n",
       "| 106401 | 193 | 0.6480872 | 0.1862049 | 0.04705221 | 0.7819567 | 62.71186 | 23.02092 | 1722.535 |\n",
       "\n"
      ],
      "text/plain": [
       "    player_id height breakpoint_saved_pct second_serve_win_pct df_pct    \n",
       "1   100644    198    0.5592240            0.1700660            0.05146736\n",
       "2   103333    208    0.7024075            0.1934502            0.05467902\n",
       "3   103819    185    0.6093525            0.2114465            0.02279807\n",
       "⋮   ⋮         ⋮      ⋮                    ⋮                    ⋮         \n",
       "101 106296    183    0.5769397            0.1768606            0.04200586\n",
       "102 106298    185    0.6420310            0.2225114            0.04366584\n",
       "103 106401    193    0.6480872            0.1862049            0.04705221\n",
       "    first_serve_pct win_rate age      mean_rank_points\n",
       "1   0.7351579       69.34673 21.15730 4281.6435       \n",
       "2   0.8336761       41.02564 39.12084  962.8682       \n",
       "3   0.7770562       84.17722 37.09069 6720.2910       \n",
       "⋮   ⋮               ⋮        ⋮        ⋮               \n",
       "101 0.6743243       33.33333 25.12377  458.375        \n",
       "102 0.7383816       58.08824 24.20236 1914.473        \n",
       "103 0.7819567       62.71186 23.02092 1722.535        "
      ]
     },
     "metadata": {},
     "output_type": "display_data"
    }
   ],
   "source": [
    "player_wins <- atp_data_frame %>%\n",
    "    group_by(player_id = winner_id) %>%\n",
    "    summarize(w_height = mean(winner_ht, na.rm =TRUE),\n",
    "              w_breakpoint_saved_pct = mean(w_bpSaved/w_bpFaced, na.rm =TRUE),\n",
    "              w_second_serve_win_pct = mean(w_2ndWon / w_svpt,na.rm =TRUE),\n",
    "              w_df_pct = mean(w_df / w_svpt,na.rm =TRUE),\n",
    "              w_first_serve_pct = mean(w_1stWon / w_1stIn,na.rm =TRUE),\n",
    "              n_wins = n(),\n",
    "              mean_age_w  = mean(winner_age),\n",
    "              mean_rank_points_w = mean(winner_rank_points)    \n",
    "             ) %>%\n",
    "    drop_na() %>%\n",
    "    mutate(player_id = as.character(player_id))\n",
    "\n",
    "\n",
    "player_lose <- atp_data_frame %>%\n",
    "    group_by(player_id = loser_id) %>%\n",
    "    summarize(l_height = mean(loser_ht, na.rm =TRUE),\n",
    "              l_breakpoint_saved_pct = mean(l_bpSaved/l_bpFaced, na.rm =TRUE),\n",
    "              l_second_serve_win_pct = mean(l_2ndWon / l_svpt,na.rm =TRUE),\n",
    "              l_df_pct = mean(l_df / l_svpt, na.rm =TRUE),\n",
    "              l_first_serve_pct = mean(l_1stWon / l_1stIn,na.rm =TRUE),\n",
    "              n_lose = n(),\n",
    "              mean_age_l  = mean(loser_age),\n",
    "              mean_rank_points_l = mean(loser_rank_points)    \n",
    "             ) %>%\n",
    "    drop_na() %>%\n",
    "    mutate(player_id = as.character(player_id))\n",
    "\n",
    "player_join <- left_join(player_wins, player_lose, by = NULL, copy = TRUE)\n",
    "\n",
    "player_career <- player_join %>%\n",
    "    mutate(height = (w_height + l_height)/2,\n",
    "          breakpoint_saved_pct = (w_breakpoint_saved_pct+l_breakpoint_saved_pct)/2,\n",
    "          second_serve_win_pct = (w_second_serve_win_pct+l_second_serve_win_pct)/2,\n",
    "          df_pct = (w_df_pct+l_df_pct)/2,\n",
    "          first_serve_pct = (w_first_serve_pct+l_first_serve_pct)/2,\n",
    "          win_rate = (n_wins/(n_lose+n_wins)*100),\n",
    "          age = (mean_age_w + mean_age_l) /2,\n",
    "          mean_rank_points = (mean_rank_points_w + mean_rank_points_l)/2) %>%\n",
    "    select(player_id,height,breakpoint_saved_pct,second_serve_win_pct,df_pct,first_serve_pct,win_rate,age,mean_rank_points) %>%\n",
    "    drop_na()\n",
    "\n",
    "player_career"
   ]
  },
  {
   "cell_type": "code",
   "execution_count": 12,
   "metadata": {},
   "outputs": [
    {
     "name": "stdout",
     "output_type": "stream",
     "text": [
      "[1] \"Creating recipe\"\n",
      "[1] \"Creating spec\"\n",
      "[1] \"Creating folds\"\n"
     ]
    },
    {
     "name": "stderr",
     "output_type": "stream",
     "text": [
      "Warning message:\n",
      "“The number of observations in each quantile is below the recommended threshold of 20. Stratification will be done with 3 breaks instead.”\n"
     ]
    },
    {
     "name": "stdout",
     "output_type": "stream",
     "text": [
      "[1] \"Creating workflow\"\n",
      "[1] \"Tuning grid\"\n"
     ]
    },
    {
     "data": {
      "text/html": [
       "<table>\n",
       "<caption>A tibble: 1 × 7</caption>\n",
       "<thead>\n",
       "\t<tr><th scope=col>neighbors</th><th scope=col>.metric</th><th scope=col>.estimator</th><th scope=col>mean</th><th scope=col>n</th><th scope=col>std_err</th><th scope=col>.config</th></tr>\n",
       "\t<tr><th scope=col>&lt;int&gt;</th><th scope=col>&lt;chr&gt;</th><th scope=col>&lt;chr&gt;</th><th scope=col>&lt;dbl&gt;</th><th scope=col>&lt;int&gt;</th><th scope=col>&lt;dbl&gt;</th><th scope=col>&lt;chr&gt;</th></tr>\n",
       "</thead>\n",
       "<tbody>\n",
       "\t<tr><td>2</td><td>rmse</td><td>standard</td><td>10.26389</td><td>5</td><td>0.7897034</td><td>Model02</td></tr>\n",
       "</tbody>\n",
       "</table>\n"
      ],
      "text/latex": [
       "A tibble: 1 × 7\n",
       "\\begin{tabular}{lllllll}\n",
       " neighbors & .metric & .estimator & mean & n & std\\_err & .config\\\\\n",
       " <int> & <chr> & <chr> & <dbl> & <int> & <dbl> & <chr>\\\\\n",
       "\\hline\n",
       "\t 2 & rmse & standard & 10.26389 & 5 & 0.7897034 & Model02\\\\\n",
       "\\end{tabular}\n"
      ],
      "text/markdown": [
       "\n",
       "A tibble: 1 × 7\n",
       "\n",
       "| neighbors &lt;int&gt; | .metric &lt;chr&gt; | .estimator &lt;chr&gt; | mean &lt;dbl&gt; | n &lt;int&gt; | std_err &lt;dbl&gt; | .config &lt;chr&gt; |\n",
       "|---|---|---|---|---|---|---|\n",
       "| 2 | rmse | standard | 10.26389 | 5 | 0.7897034 | Model02 |\n",
       "\n"
      ],
      "text/plain": [
       "  neighbors .metric .estimator mean     n std_err   .config\n",
       "1 2         rmse    standard   10.26389 5 0.7897034 Model02"
      ]
     },
     "metadata": {},
     "output_type": "display_data"
    }
   ],
   "source": [
    "\n",
    "set.seed(1)\n",
    "player_split <- initial_split(player_career, prop = 0.75, strata = win_rate)\n",
    "player_train <- training(player_split)\n",
    "player_test <- testing(player_split)\n",
    "\n",
    "print(\"Creating recipe\")\n",
    "tennis_recipe <- recipe(win_rate ~ ., data = player_train) %>%\n",
    "  step_rm(player_id) %>%\n",
    "  step_scale(all_predictors()) %>%\n",
    "  step_center(all_predictors())\n",
    "\n",
    "print(\"Creating spec\")\n",
    "tennis_spec <- nearest_neighbor(weight_func = \"rectangular\", neighbors = tune()) %>%\n",
    "  set_engine(\"kknn\") %>%\n",
    "  set_mode(\"regression\")\n",
    "\n",
    "print(\"Creating folds\")\n",
    "tennis_vfold <- vfold_cv(player_train, v = 5, strata = win_rate)\n",
    "\n",
    "print(\"Creating workflow\")\n",
    "tennis_wkflw <- workflow() %>%\n",
    "  add_recipe(tennis_recipe) %>%\n",
    "  add_model(tennis_spec)\n",
    "\n",
    "gridvals <- tibble(neighbors = seq(1,50))\n",
    "\n",
    "print(\"Tuning grid\")\n",
    "tennis_results <- tennis_wkflw %>%\n",
    "    tune_grid(resamples = tennis_vfold, grid = gridvals) %>%\n",
    "    collect_metrics()\n",
    "\n",
    "tennis_min <- tennis_results %>%\n",
    "    filter(.metric == \"rmse\") %>%\n",
    "    arrange(mean) %>%\n",
    "    slice(1)\n",
    "\n",
    "tennis_min"
   ]
  },
  {
   "cell_type": "code",
   "execution_count": 13,
   "metadata": {},
   "outputs": [
    {
     "data": {
      "image/png": "[encoded data removed]",
      "text/plain": [
       "plot without title"
      ]
     },
     "metadata": {
      "image/png": {
       "height": 420,
       "width": 420
      }
     },
     "output_type": "display_data"
    }
   ],
   "source": [
    "ggplot(player_career, aes(x=mean_rank_points,y=win_rate)) + \n",
    "    geom_point() +\n",
    "    xlab(\"Average Rank points\") +\n",
    "    ylab(\"Win Rate\")"
   ]
  },
  {
   "cell_type": "code",
   "execution_count": null,
   "metadata": {},
   "outputs": [],
   "source": []
  }
 ],
 "metadata": {
  "kernelspec": {
   "display_name": "R",
   "language": "R",
   "name": "ir"
  },
  "language_info": {
   "codemirror_mode": "r",
   "file_extension": ".r",
   "mimetype": "text/x-r-source",
   "name": "R",
   "pygments_lexer": "r",
   "version": "4.0.0"
  }
 },
 "nbformat": 4,
 "nbformat_minor": 4
}
