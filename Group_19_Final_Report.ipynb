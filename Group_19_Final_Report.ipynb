{
 "cells": [
  {
   "cell_type": "markdown",
   "metadata": {},
   "source": [
    "## Remaining Write-up Sections\n",
    "- ~~Introduction/outline of methods section~~\n",
    "- Descriptions of exploratory analysis section (scatter plots and ggpairs)\n",
    "- Descriptions of modelling section (single and multi knn and linear regression)\n",
    "- Discussion section (see outline below)\n",
    "- References (see outline below)"
   ]
  },
  {
   "cell_type": "code",
   "execution_count": 17,
   "metadata": {},
   "outputs": [],
   "source": [
    "library(tidyverse)\n",
    "library(repr)\n",
    "library(tidymodels)\n",
    "library(rvest)\n",
    "library(stringr)\n",
    "library(DBI)\n",
    "library(dbplyr)\n",
    "library(GGally)\n",
    "options(repr.matrix.max.rows = 10)"
   ]
  },
  {
   "cell_type": "markdown",
   "metadata": {},
   "source": [
    "# Predicting the Win Rate of Tennis Players  \n",
    "<img align=\"left\" src=\"https://images.unsplash.com/photo-1554068865-24cecd4e34b8?ixid=MnwxMjA3fDB8MHxzZWFyY2h8MXx8dGVubmlzfGVufDB8fDB8fA%3D%3D&ixlib=rb-1.2.1&auto=format&fit=crop&w=500&q=60\" width=\"1000\" />  \n",
    "\n",
    "*Source: https://unsplash.com/photos/WqI-PbYugn4*"
   ]
  },
  {
   "cell_type": "markdown",
   "metadata": {},
   "source": [
    "# Introduction<img align=\"left\" src=\"https://encrypted-tbn0.gstatic.com/images?q=tbn:ANd9GcSDixQBw3HoqS_gnC9xVtHO-5NrnS1eQ91N3w&usqp=CAU\" width=\"35\" />   \n",
    "\n",
    "\n",
    "### Background \n",
    "\n",
    "Tennis is a popular, competitive sport played around the world.\n",
    "Tennis can be played in \"singles\" where there is only one person on each side of the net or \"doubles\" where there are teams of two. \n",
    "It can be played on a variety of surfaces such as grass, clay, or hard court (i.e. like a gym floor).\n",
    "\n",
    "The association of tennis professionals, or ATP, organizes these tournaments and collects data on the players and the matches that take place.\n",
    "\n",
    "### Our Question\n",
    "\n",
    "Based on the career statistics of a tennis player, what will be their win rate?\n",
    "\n",
    "### Our Dataset\n",
    "\n",
    "We are using the \"Game results for Top 500 Players from 2017-2019\" dataset for our analysis. Each row in this dataset represents a singles match between two players. Each row contains player stats (e.g. age, height, rank) and match stats (break points, serve points, double faults etc.). We can use this data to determine the relationship between a player's stats and their win rate for this time period.\n",
    "\n",
    "*Picture source: https://www.emojipng.com/preview/458725*"
   ]
  },
  {
   "cell_type": "markdown",
   "metadata": {},
   "source": [
    "# Methods and Results<img align=\"left\" src=\"https://encrypted-tbn0.gstatic.com/images?q=tbn:ANd9GcSDixQBw3HoqS_gnC9xVtHO-5NrnS1eQ91N3w&usqp=CAU\" width=\"35\" />   \n",
    "\n",
    "<span style=\"color:red\">\n",
    "    describe in written English the methods you used to perform your analysis from beginning to end that narrates the code the does the analysis.\n",
    "    your report should include code which:\n",
    "        loads data from the original source on the web \n",
    "        wrangles and cleans the data from it's original (downloaded) format to the format necessary for the planned analysis\n",
    "        performs a summary of the data set that is relevant for exploratory data analysis related to the planned analysis \n",
    "        creates a visualization of the dataset that is relevant for exploratory data analysis related to the planned analysis\n",
    "        performs the data analysis\n",
    "        creates a visualization of the analysis \n",
    "        note: all tables and figure should have a figure/table number and a legend\n",
    "</span>"
   ]
  },
  {
   "cell_type": "markdown",
   "metadata": {},
   "source": [
    "### Outline\n",
    "\n",
    "We will first transform the dataset of tennis matches into a tidy dataset with only player stats. Next, we will look at the relationships between the different variables and win_rate to choose predictors for our regression models. To answer our predictive question, we will train both KNN and linear regression models and then compare to find the model type and predictors that give the lowest error. Once we we have the best model, we will try to predict the win rate for a new player observation."
   ]
  },
  {
   "cell_type": "markdown",
   "metadata": {},
   "source": [
    "### Exploring the Data"
   ]
  },
  {
   "cell_type": "markdown",
   "metadata": {},
   "source": [
    "<span style=\"color:blue\"> **The code below reads the CSV file from the given URL link.** </span>."
   ]
  },
  {
   "cell_type": "code",
   "execution_count": 18,
   "metadata": {},
   "outputs": [
    {
     "name": "stderr",
     "output_type": "stream",
     "text": [
      "Warning message:\n",
      "“Missing column names filled in: 'X1' [1]”\n",
      "Parsed with column specification:\n",
      "cols(\n",
      "  .default = col_double(),\n",
      "  tourney_id = \u001b[31mcol_character()\u001b[39m,\n",
      "  tourney_name = \u001b[31mcol_character()\u001b[39m,\n",
      "  surface = \u001b[31mcol_character()\u001b[39m,\n",
      "  tourney_level = \u001b[31mcol_character()\u001b[39m,\n",
      "  winner_seed = \u001b[31mcol_character()\u001b[39m,\n",
      "  winner_entry = \u001b[31mcol_character()\u001b[39m,\n",
      "  winner_name = \u001b[31mcol_character()\u001b[39m,\n",
      "  winner_hand = \u001b[31mcol_character()\u001b[39m,\n",
      "  winner_ioc = \u001b[31mcol_character()\u001b[39m,\n",
      "  loser_seed = \u001b[31mcol_character()\u001b[39m,\n",
      "  loser_entry = \u001b[31mcol_character()\u001b[39m,\n",
      "  loser_name = \u001b[31mcol_character()\u001b[39m,\n",
      "  loser_hand = \u001b[31mcol_character()\u001b[39m,\n",
      "  loser_ioc = \u001b[31mcol_character()\u001b[39m,\n",
      "  score = \u001b[31mcol_character()\u001b[39m,\n",
      "  round = \u001b[31mcol_character()\u001b[39m\n",
      ")\n",
      "\n",
      "See spec(...) for full column specifications.\n",
      "\n"
     ]
    },
    {
     "data": {
      "text/html": [
       "<table>\n",
       "<caption>A spec_tbl_df: 6866 × 50</caption>\n",
       "<thead>\n",
       "\t<tr><th scope=col>X1</th><th scope=col>tourney_id</th><th scope=col>tourney_name</th><th scope=col>surface</th><th scope=col>draw_size</th><th scope=col>tourney_level</th><th scope=col>tourney_date</th><th scope=col>match_num</th><th scope=col>winner_id</th><th scope=col>winner_seed</th><th scope=col>⋯</th><th scope=col>l_1stIn</th><th scope=col>l_1stWon</th><th scope=col>l_2ndWon</th><th scope=col>l_SvGms</th><th scope=col>l_bpSaved</th><th scope=col>l_bpFaced</th><th scope=col>winner_rank</th><th scope=col>winner_rank_points</th><th scope=col>loser_rank</th><th scope=col>loser_rank_points</th></tr>\n",
       "\t<tr><th scope=col>&lt;dbl&gt;</th><th scope=col>&lt;chr&gt;</th><th scope=col>&lt;chr&gt;</th><th scope=col>&lt;chr&gt;</th><th scope=col>&lt;dbl&gt;</th><th scope=col>&lt;chr&gt;</th><th scope=col>&lt;dbl&gt;</th><th scope=col>&lt;dbl&gt;</th><th scope=col>&lt;dbl&gt;</th><th scope=col>&lt;chr&gt;</th><th scope=col>⋯</th><th scope=col>&lt;dbl&gt;</th><th scope=col>&lt;dbl&gt;</th><th scope=col>&lt;dbl&gt;</th><th scope=col>&lt;dbl&gt;</th><th scope=col>&lt;dbl&gt;</th><th scope=col>&lt;dbl&gt;</th><th scope=col>&lt;dbl&gt;</th><th scope=col>&lt;dbl&gt;</th><th scope=col>&lt;dbl&gt;</th><th scope=col>&lt;dbl&gt;</th></tr>\n",
       "</thead>\n",
       "<tbody>\n",
       "\t<tr><td>0</td><td>2019-M020</td><td>Brisbane</td><td>Hard</td><td>32</td><td>A</td><td>20181231</td><td>300</td><td>105453</td><td>2 </td><td>⋯</td><td>54</td><td>34</td><td>20</td><td>14</td><td>10</td><td>15</td><td>  9</td><td>3590</td><td> 16</td><td>1977</td></tr>\n",
       "\t<tr><td>1</td><td>2019-M020</td><td>Brisbane</td><td>Hard</td><td>32</td><td>A</td><td>20181231</td><td>299</td><td>106421</td><td>4 </td><td>⋯</td><td>52</td><td>36</td><td> 7</td><td>10</td><td>10</td><td>13</td><td> 16</td><td>1977</td><td>239</td><td> 200</td></tr>\n",
       "\t<tr><td>2</td><td>2019-M020</td><td>Brisbane</td><td>Hard</td><td>32</td><td>A</td><td>20181231</td><td>298</td><td>105453</td><td>2 </td><td>⋯</td><td>27</td><td>15</td><td> 6</td><td> 8</td><td> 1</td><td> 5</td><td>  9</td><td>3590</td><td> 40</td><td>1050</td></tr>\n",
       "\t<tr><td>3</td><td>2019-M020</td><td>Brisbane</td><td>Hard</td><td>32</td><td>A</td><td>20181231</td><td>297</td><td>104542</td><td>NA</td><td>⋯</td><td>60</td><td>38</td><td> 9</td><td>11</td><td> 4</td><td> 6</td><td>239</td><td> 200</td><td> 31</td><td>1298</td></tr>\n",
       "\t<tr><td>4</td><td>2019-M020</td><td>Brisbane</td><td>Hard</td><td>32</td><td>A</td><td>20181231</td><td>296</td><td>106421</td><td>4 </td><td>⋯</td><td>56</td><td>46</td><td>19</td><td>15</td><td> 2</td><td> 4</td><td> 16</td><td>1977</td><td> 18</td><td>1855</td></tr>\n",
       "\t<tr><td>⋮</td><td>⋮</td><td>⋮</td><td>⋮</td><td>⋮</td><td>⋮</td><td>⋮</td><td>⋮</td><td>⋮</td><td>⋮</td><td>⋱</td><td>⋮</td><td>⋮</td><td>⋮</td><td>⋮</td><td>⋮</td><td>⋮</td><td>⋮</td><td>⋮</td><td>⋮</td><td>⋮</td></tr>\n",
       "\t<tr><td>2881</td><td>2017-0605                     </td><td>Tour Finals               </td><td>Hard</td><td>8</td><td>F</td><td>20171113</td><td>300</td><td>105777</td><td>6.0</td><td>⋯</td><td>54</td><td>42</td><td>22</td><td>15</td><td>11</td><td>15</td><td> 6</td><td>3650</td><td> 8</td><td>2975</td></tr>\n",
       "\t<tr><td>2882</td><td>2017-M-DC-2017-WG-M-BEL-FRA-01</td><td>Davis Cup WG F: BEL vs FRA</td><td>Hard</td><td>4</td><td>D</td><td>20171124</td><td>  1</td><td>105676</td><td>NA </td><td>⋯</td><td>53</td><td>33</td><td>21</td><td>14</td><td> 6</td><td>11</td><td> 7</td><td>3775</td><td>18</td><td>2235</td></tr>\n",
       "\t<tr><td>2883</td><td>2017-M-DC-2017-WG-M-BEL-FRA-01</td><td>Davis Cup WG F: BEL vs FRA</td><td>Hard</td><td>4</td><td>D</td><td>20171124</td><td>  2</td><td>104542</td><td>NA </td><td>⋯</td><td>54</td><td>30</td><td>12</td><td>12</td><td> 5</td><td>11</td><td>15</td><td>2320</td><td>76</td><td> 667</td></tr>\n",
       "\t<tr><td>2884</td><td>2017-M-DC-2017-WG-M-BEL-FRA-01</td><td>Davis Cup WG F: BEL vs FRA</td><td>Hard</td><td>4</td><td>D</td><td>20171124</td><td>  4</td><td>105676</td><td>NA </td><td>⋯</td><td>54</td><td>44</td><td>13</td><td>14</td><td> 7</td><td>10</td><td> 7</td><td>3775</td><td>15</td><td>2320</td></tr>\n",
       "\t<tr><td>2885</td><td>2017-M-DC-2017-WG-M-BEL-FRA-01</td><td>Davis Cup WG F: BEL vs FRA</td><td>Hard</td><td>4</td><td>D</td><td>20171124</td><td>  5</td><td>106298</td><td>NA </td><td>⋯</td><td>53</td><td>29</td><td>11</td><td>11</td><td> 4</td><td>11</td><td>18</td><td>2235</td><td>76</td><td> 667</td></tr>\n",
       "</tbody>\n",
       "</table>\n"
      ],
      "text/latex": [
       "A spec\\_tbl\\_df: 6866 × 50\n",
       "\\begin{tabular}{lllllllllllllllllllll}\n",
       " X1 & tourney\\_id & tourney\\_name & surface & draw\\_size & tourney\\_level & tourney\\_date & match\\_num & winner\\_id & winner\\_seed & ⋯ & l\\_1stIn & l\\_1stWon & l\\_2ndWon & l\\_SvGms & l\\_bpSaved & l\\_bpFaced & winner\\_rank & winner\\_rank\\_points & loser\\_rank & loser\\_rank\\_points\\\\\n",
       " <dbl> & <chr> & <chr> & <chr> & <dbl> & <chr> & <dbl> & <dbl> & <dbl> & <chr> & ⋯ & <dbl> & <dbl> & <dbl> & <dbl> & <dbl> & <dbl> & <dbl> & <dbl> & <dbl> & <dbl>\\\\\n",
       "\\hline\n",
       "\t 0 & 2019-M020 & Brisbane & Hard & 32 & A & 20181231 & 300 & 105453 & 2  & ⋯ & 54 & 34 & 20 & 14 & 10 & 15 &   9 & 3590 &  16 & 1977\\\\\n",
       "\t 1 & 2019-M020 & Brisbane & Hard & 32 & A & 20181231 & 299 & 106421 & 4  & ⋯ & 52 & 36 &  7 & 10 & 10 & 13 &  16 & 1977 & 239 &  200\\\\\n",
       "\t 2 & 2019-M020 & Brisbane & Hard & 32 & A & 20181231 & 298 & 105453 & 2  & ⋯ & 27 & 15 &  6 &  8 &  1 &  5 &   9 & 3590 &  40 & 1050\\\\\n",
       "\t 3 & 2019-M020 & Brisbane & Hard & 32 & A & 20181231 & 297 & 104542 & NA & ⋯ & 60 & 38 &  9 & 11 &  4 &  6 & 239 &  200 &  31 & 1298\\\\\n",
       "\t 4 & 2019-M020 & Brisbane & Hard & 32 & A & 20181231 & 296 & 106421 & 4  & ⋯ & 56 & 46 & 19 & 15 &  2 &  4 &  16 & 1977 &  18 & 1855\\\\\n",
       "\t ⋮ & ⋮ & ⋮ & ⋮ & ⋮ & ⋮ & ⋮ & ⋮ & ⋮ & ⋮ & ⋱ & ⋮ & ⋮ & ⋮ & ⋮ & ⋮ & ⋮ & ⋮ & ⋮ & ⋮ & ⋮\\\\\n",
       "\t 2881 & 2017-0605                      & Tour Finals                & Hard & 8 & F & 20171113 & 300 & 105777 & 6.0 & ⋯ & 54 & 42 & 22 & 15 & 11 & 15 &  6 & 3650 &  8 & 2975\\\\\n",
       "\t 2882 & 2017-M-DC-2017-WG-M-BEL-FRA-01 & Davis Cup WG F: BEL vs FRA & Hard & 4 & D & 20171124 &   1 & 105676 & NA  & ⋯ & 53 & 33 & 21 & 14 &  6 & 11 &  7 & 3775 & 18 & 2235\\\\\n",
       "\t 2883 & 2017-M-DC-2017-WG-M-BEL-FRA-01 & Davis Cup WG F: BEL vs FRA & Hard & 4 & D & 20171124 &   2 & 104542 & NA  & ⋯ & 54 & 30 & 12 & 12 &  5 & 11 & 15 & 2320 & 76 &  667\\\\\n",
       "\t 2884 & 2017-M-DC-2017-WG-M-BEL-FRA-01 & Davis Cup WG F: BEL vs FRA & Hard & 4 & D & 20171124 &   4 & 105676 & NA  & ⋯ & 54 & 44 & 13 & 14 &  7 & 10 &  7 & 3775 & 15 & 2320\\\\\n",
       "\t 2885 & 2017-M-DC-2017-WG-M-BEL-FRA-01 & Davis Cup WG F: BEL vs FRA & Hard & 4 & D & 20171124 &   5 & 106298 & NA  & ⋯ & 53 & 29 & 11 & 11 &  4 & 11 & 18 & 2235 & 76 &  667\\\\\n",
       "\\end{tabular}\n"
      ],
      "text/markdown": [
       "\n",
       "A spec_tbl_df: 6866 × 50\n",
       "\n",
       "| X1 &lt;dbl&gt; | tourney_id &lt;chr&gt; | tourney_name &lt;chr&gt; | surface &lt;chr&gt; | draw_size &lt;dbl&gt; | tourney_level &lt;chr&gt; | tourney_date &lt;dbl&gt; | match_num &lt;dbl&gt; | winner_id &lt;dbl&gt; | winner_seed &lt;chr&gt; | ⋯ ⋯ | l_1stIn &lt;dbl&gt; | l_1stWon &lt;dbl&gt; | l_2ndWon &lt;dbl&gt; | l_SvGms &lt;dbl&gt; | l_bpSaved &lt;dbl&gt; | l_bpFaced &lt;dbl&gt; | winner_rank &lt;dbl&gt; | winner_rank_points &lt;dbl&gt; | loser_rank &lt;dbl&gt; | loser_rank_points &lt;dbl&gt; |\n",
       "|---|---|---|---|---|---|---|---|---|---|---|---|---|---|---|---|---|---|---|---|---|\n",
       "| 0 | 2019-M020 | Brisbane | Hard | 32 | A | 20181231 | 300 | 105453 | 2  | ⋯ | 54 | 34 | 20 | 14 | 10 | 15 |   9 | 3590 |  16 | 1977 |\n",
       "| 1 | 2019-M020 | Brisbane | Hard | 32 | A | 20181231 | 299 | 106421 | 4  | ⋯ | 52 | 36 |  7 | 10 | 10 | 13 |  16 | 1977 | 239 |  200 |\n",
       "| 2 | 2019-M020 | Brisbane | Hard | 32 | A | 20181231 | 298 | 105453 | 2  | ⋯ | 27 | 15 |  6 |  8 |  1 |  5 |   9 | 3590 |  40 | 1050 |\n",
       "| 3 | 2019-M020 | Brisbane | Hard | 32 | A | 20181231 | 297 | 104542 | NA | ⋯ | 60 | 38 |  9 | 11 |  4 |  6 | 239 |  200 |  31 | 1298 |\n",
       "| 4 | 2019-M020 | Brisbane | Hard | 32 | A | 20181231 | 296 | 106421 | 4  | ⋯ | 56 | 46 | 19 | 15 |  2 |  4 |  16 | 1977 |  18 | 1855 |\n",
       "| ⋮ | ⋮ | ⋮ | ⋮ | ⋮ | ⋮ | ⋮ | ⋮ | ⋮ | ⋮ | ⋱ | ⋮ | ⋮ | ⋮ | ⋮ | ⋮ | ⋮ | ⋮ | ⋮ | ⋮ | ⋮ |\n",
       "| 2881 | 2017-0605                      | Tour Finals                | Hard | 8 | F | 20171113 | 300 | 105777 | 6.0 | ⋯ | 54 | 42 | 22 | 15 | 11 | 15 |  6 | 3650 |  8 | 2975 |\n",
       "| 2882 | 2017-M-DC-2017-WG-M-BEL-FRA-01 | Davis Cup WG F: BEL vs FRA | Hard | 4 | D | 20171124 |   1 | 105676 | NA  | ⋯ | 53 | 33 | 21 | 14 |  6 | 11 |  7 | 3775 | 18 | 2235 |\n",
       "| 2883 | 2017-M-DC-2017-WG-M-BEL-FRA-01 | Davis Cup WG F: BEL vs FRA | Hard | 4 | D | 20171124 |   2 | 104542 | NA  | ⋯ | 54 | 30 | 12 | 12 |  5 | 11 | 15 | 2320 | 76 |  667 |\n",
       "| 2884 | 2017-M-DC-2017-WG-M-BEL-FRA-01 | Davis Cup WG F: BEL vs FRA | Hard | 4 | D | 20171124 |   4 | 105676 | NA  | ⋯ | 54 | 44 | 13 | 14 |  7 | 10 |  7 | 3775 | 15 | 2320 |\n",
       "| 2885 | 2017-M-DC-2017-WG-M-BEL-FRA-01 | Davis Cup WG F: BEL vs FRA | Hard | 4 | D | 20171124 |   5 | 106298 | NA  | ⋯ | 53 | 29 | 11 | 11 |  4 | 11 | 18 | 2235 | 76 |  667 |\n",
       "\n"
      ],
      "text/plain": [
       "     X1   tourney_id                     tourney_name               surface\n",
       "1    0    2019-M020                      Brisbane                   Hard   \n",
       "2    1    2019-M020                      Brisbane                   Hard   \n",
       "3    2    2019-M020                      Brisbane                   Hard   \n",
       "4    3    2019-M020                      Brisbane                   Hard   \n",
       "5    4    2019-M020                      Brisbane                   Hard   \n",
       "⋮    ⋮    ⋮                              ⋮                          ⋮      \n",
       "6862 2881 2017-0605                      Tour Finals                Hard   \n",
       "6863 2882 2017-M-DC-2017-WG-M-BEL-FRA-01 Davis Cup WG F: BEL vs FRA Hard   \n",
       "6864 2883 2017-M-DC-2017-WG-M-BEL-FRA-01 Davis Cup WG F: BEL vs FRA Hard   \n",
       "6865 2884 2017-M-DC-2017-WG-M-BEL-FRA-01 Davis Cup WG F: BEL vs FRA Hard   \n",
       "6866 2885 2017-M-DC-2017-WG-M-BEL-FRA-01 Davis Cup WG F: BEL vs FRA Hard   \n",
       "     draw_size tourney_level tourney_date match_num winner_id winner_seed ⋯\n",
       "1    32        A             20181231     300       105453    2           ⋯\n",
       "2    32        A             20181231     299       106421    4           ⋯\n",
       "3    32        A             20181231     298       105453    2           ⋯\n",
       "4    32        A             20181231     297       104542    NA          ⋯\n",
       "5    32        A             20181231     296       106421    4           ⋯\n",
       "⋮    ⋮         ⋮             ⋮            ⋮         ⋮         ⋮           ⋱\n",
       "6862 8         F             20171113     300       105777    6.0         ⋯\n",
       "6863 4         D             20171124       1       105676    NA          ⋯\n",
       "6864 4         D             20171124       2       104542    NA          ⋯\n",
       "6865 4         D             20171124       4       105676    NA          ⋯\n",
       "6866 4         D             20171124       5       106298    NA          ⋯\n",
       "     l_1stIn l_1stWon l_2ndWon l_SvGms l_bpSaved l_bpFaced winner_rank\n",
       "1    54      34       20       14      10        15          9        \n",
       "2    52      36        7       10      10        13         16        \n",
       "3    27      15        6        8       1         5          9        \n",
       "4    60      38        9       11       4         6        239        \n",
       "5    56      46       19       15       2         4         16        \n",
       "⋮    ⋮       ⋮        ⋮        ⋮       ⋮         ⋮         ⋮          \n",
       "6862 54      42       22       15      11        15         6         \n",
       "6863 53      33       21       14       6        11         7         \n",
       "6864 54      30       12       12       5        11        15         \n",
       "6865 54      44       13       14       7        10         7         \n",
       "6866 53      29       11       11       4        11        18         \n",
       "     winner_rank_points loser_rank loser_rank_points\n",
       "1    3590                16        1977             \n",
       "2    1977               239         200             \n",
       "3    3590                40        1050             \n",
       "4     200                31        1298             \n",
       "5    1977                18        1855             \n",
       "⋮    ⋮                  ⋮          ⋮                \n",
       "6862 3650                8         2975             \n",
       "6863 3775               18         2235             \n",
       "6864 2320               76          667             \n",
       "6865 3775               15         2320             \n",
       "6866 2235               76          667             "
      ]
     },
     "metadata": {},
     "output_type": "display_data"
    }
   ],
   "source": [
    "## the dataset can be read from the URL link:\n",
    "atp_data_frame <- read_csv(\"https://drive.google.com/uc?export=download&id=1fOQ8sy_qMkQiQEAO6uFdRX4tLI8EpSTn\")\n",
    "atp_data_frame"
   ]
  },
  {
   "cell_type": "markdown",
   "metadata": {},
   "source": [
    "<span style=\"color:blue\"> **The code below cleans and wrangles the raw data set into tidy form by grouping the observations by player. We mutate some statistics to percentages through ratios of the raw variables. We then obtain each player's \"career stats\" by joining observations in both winning and losing rounds to the player ID. This forms a data frame with each row representing an individual player.** </span>"
   ]
  },
  {
   "cell_type": "code",
   "execution_count": 19,
   "metadata": {},
   "outputs": [
    {
     "name": "stderr",
     "output_type": "stream",
     "text": [
      "`summarise()` ungrouping output (override with `.groups` argument)\n",
      "\n",
      "`summarise()` ungrouping output (override with `.groups` argument)\n",
      "\n",
      "Joining, by = \"player_id\"\n",
      "\n"
     ]
    },
    {
     "data": {
      "text/html": [
       "<table>\n",
       "<caption>A tibble: 103 × 10</caption>\n",
       "<thead>\n",
       "\t<tr><th scope=col>player_id</th><th scope=col>height</th><th scope=col>breakpoint_saved_pct</th><th scope=col>second_serve_win_pct</th><th scope=col>first_serve_pct</th><th scope=col>first_serve_win_pct</th><th scope=col>win_rate</th><th scope=col>age</th><th scope=col>mean_rank_points</th><th scope=col>ace_point_pct</th></tr>\n",
       "\t<tr><th scope=col>&lt;chr&gt;</th><th scope=col>&lt;dbl&gt;</th><th scope=col>&lt;dbl&gt;</th><th scope=col>&lt;dbl&gt;</th><th scope=col>&lt;dbl&gt;</th><th scope=col>&lt;dbl&gt;</th><th scope=col>&lt;dbl&gt;</th><th scope=col>&lt;dbl&gt;</th><th scope=col>&lt;dbl&gt;</th><th scope=col>&lt;dbl&gt;</th></tr>\n",
       "</thead>\n",
       "<tbody>\n",
       "\t<tr><td>100644</td><td>198</td><td>0.5592240</td><td>0.1700660</td><td>0.7351579</td><td>0.4788888</td><td>69.34673</td><td>21.15730</td><td>4281.6435</td><td>0.11124906</td></tr>\n",
       "\t<tr><td>103333</td><td>208</td><td>0.7024075</td><td>0.1934502</td><td>0.8336761</td><td>0.5415601</td><td>41.02564</td><td>39.12084</td><td> 962.8682</td><td>0.23093646</td></tr>\n",
       "\t<tr><td>103819</td><td>185</td><td>0.6093525</td><td>0.2114465</td><td>0.7770562</td><td>0.4895284</td><td>84.17722</td><td>37.09069</td><td>6720.2910</td><td>0.10225660</td></tr>\n",
       "\t<tr><td>103852</td><td>188</td><td>0.6435922</td><td>0.2029322</td><td>0.7678518</td><td>0.4570213</td><td>47.11538</td><td>36.59486</td><td>1064.2837</td><td>0.13948328</td></tr>\n",
       "\t<tr><td>103893</td><td>183</td><td>0.6032682</td><td>0.2086046</td><td>0.7053554</td><td>0.4156136</td><td>34.56790</td><td>36.00516</td><td> 929.3494</td><td>0.05544316</td></tr>\n",
       "\t<tr><td>⋮</td><td>⋮</td><td>⋮</td><td>⋮</td><td>⋮</td><td>⋮</td><td>⋮</td><td>⋮</td><td>⋮</td><td>⋮</td></tr>\n",
       "\t<tr><td>106071</td><td>193</td><td>0.6247593</td><td>0.1647858</td><td>0.7115762</td><td>0.4748335</td><td>36.06557</td><td>25.58023</td><td> 653.8502</td><td>0.10261438</td></tr>\n",
       "\t<tr><td>106233</td><td>185</td><td>0.5928571</td><td>0.2059738</td><td>0.7307146</td><td>0.4397496</td><td>69.26829</td><td>24.73736</td><td>4010.7090</td><td>0.07383174</td></tr>\n",
       "\t<tr><td>106296</td><td>183</td><td>0.5769397</td><td>0.1768606</td><td>0.6743243</td><td>0.4253424</td><td>33.33333</td><td>25.12377</td><td> 458.3750</td><td>0.07423463</td></tr>\n",
       "\t<tr><td>106298</td><td>185</td><td>0.6420310</td><td>0.2225114</td><td>0.7383816</td><td>0.4218095</td><td>58.08824</td><td>24.20236</td><td>1914.4731</td><td>0.08959409</td></tr>\n",
       "\t<tr><td>106401</td><td>193</td><td>0.6480872</td><td>0.1862049</td><td>0.7819567</td><td>0.5078608</td><td>62.71186</td><td>23.02092</td><td>1722.5353</td><td>0.19922835</td></tr>\n",
       "</tbody>\n",
       "</table>\n"
      ],
      "text/latex": [
       "A tibble: 103 × 10\n",
       "\\begin{tabular}{llllllllll}\n",
       " player\\_id & height & breakpoint\\_saved\\_pct & second\\_serve\\_win\\_pct & first\\_serve\\_pct & first\\_serve\\_win\\_pct & win\\_rate & age & mean\\_rank\\_points & ace\\_point\\_pct\\\\\n",
       " <chr> & <dbl> & <dbl> & <dbl> & <dbl> & <dbl> & <dbl> & <dbl> & <dbl> & <dbl>\\\\\n",
       "\\hline\n",
       "\t 100644 & 198 & 0.5592240 & 0.1700660 & 0.7351579 & 0.4788888 & 69.34673 & 21.15730 & 4281.6435 & 0.11124906\\\\\n",
       "\t 103333 & 208 & 0.7024075 & 0.1934502 & 0.8336761 & 0.5415601 & 41.02564 & 39.12084 &  962.8682 & 0.23093646\\\\\n",
       "\t 103819 & 185 & 0.6093525 & 0.2114465 & 0.7770562 & 0.4895284 & 84.17722 & 37.09069 & 6720.2910 & 0.10225660\\\\\n",
       "\t 103852 & 188 & 0.6435922 & 0.2029322 & 0.7678518 & 0.4570213 & 47.11538 & 36.59486 & 1064.2837 & 0.13948328\\\\\n",
       "\t 103893 & 183 & 0.6032682 & 0.2086046 & 0.7053554 & 0.4156136 & 34.56790 & 36.00516 &  929.3494 & 0.05544316\\\\\n",
       "\t ⋮ & ⋮ & ⋮ & ⋮ & ⋮ & ⋮ & ⋮ & ⋮ & ⋮ & ⋮\\\\\n",
       "\t 106071 & 193 & 0.6247593 & 0.1647858 & 0.7115762 & 0.4748335 & 36.06557 & 25.58023 &  653.8502 & 0.10261438\\\\\n",
       "\t 106233 & 185 & 0.5928571 & 0.2059738 & 0.7307146 & 0.4397496 & 69.26829 & 24.73736 & 4010.7090 & 0.07383174\\\\\n",
       "\t 106296 & 183 & 0.5769397 & 0.1768606 & 0.6743243 & 0.4253424 & 33.33333 & 25.12377 &  458.3750 & 0.07423463\\\\\n",
       "\t 106298 & 185 & 0.6420310 & 0.2225114 & 0.7383816 & 0.4218095 & 58.08824 & 24.20236 & 1914.4731 & 0.08959409\\\\\n",
       "\t 106401 & 193 & 0.6480872 & 0.1862049 & 0.7819567 & 0.5078608 & 62.71186 & 23.02092 & 1722.5353 & 0.19922835\\\\\n",
       "\\end{tabular}\n"
      ],
      "text/markdown": [
       "\n",
       "A tibble: 103 × 10\n",
       "\n",
       "| player_id &lt;chr&gt; | height &lt;dbl&gt; | breakpoint_saved_pct &lt;dbl&gt; | second_serve_win_pct &lt;dbl&gt; | first_serve_pct &lt;dbl&gt; | first_serve_win_pct &lt;dbl&gt; | win_rate &lt;dbl&gt; | age &lt;dbl&gt; | mean_rank_points &lt;dbl&gt; | ace_point_pct &lt;dbl&gt; |\n",
       "|---|---|---|---|---|---|---|---|---|---|\n",
       "| 100644 | 198 | 0.5592240 | 0.1700660 | 0.7351579 | 0.4788888 | 69.34673 | 21.15730 | 4281.6435 | 0.11124906 |\n",
       "| 103333 | 208 | 0.7024075 | 0.1934502 | 0.8336761 | 0.5415601 | 41.02564 | 39.12084 |  962.8682 | 0.23093646 |\n",
       "| 103819 | 185 | 0.6093525 | 0.2114465 | 0.7770562 | 0.4895284 | 84.17722 | 37.09069 | 6720.2910 | 0.10225660 |\n",
       "| 103852 | 188 | 0.6435922 | 0.2029322 | 0.7678518 | 0.4570213 | 47.11538 | 36.59486 | 1064.2837 | 0.13948328 |\n",
       "| 103893 | 183 | 0.6032682 | 0.2086046 | 0.7053554 | 0.4156136 | 34.56790 | 36.00516 |  929.3494 | 0.05544316 |\n",
       "| ⋮ | ⋮ | ⋮ | ⋮ | ⋮ | ⋮ | ⋮ | ⋮ | ⋮ | ⋮ |\n",
       "| 106071 | 193 | 0.6247593 | 0.1647858 | 0.7115762 | 0.4748335 | 36.06557 | 25.58023 |  653.8502 | 0.10261438 |\n",
       "| 106233 | 185 | 0.5928571 | 0.2059738 | 0.7307146 | 0.4397496 | 69.26829 | 24.73736 | 4010.7090 | 0.07383174 |\n",
       "| 106296 | 183 | 0.5769397 | 0.1768606 | 0.6743243 | 0.4253424 | 33.33333 | 25.12377 |  458.3750 | 0.07423463 |\n",
       "| 106298 | 185 | 0.6420310 | 0.2225114 | 0.7383816 | 0.4218095 | 58.08824 | 24.20236 | 1914.4731 | 0.08959409 |\n",
       "| 106401 | 193 | 0.6480872 | 0.1862049 | 0.7819567 | 0.5078608 | 62.71186 | 23.02092 | 1722.5353 | 0.19922835 |\n",
       "\n"
      ],
      "text/plain": [
       "    player_id height breakpoint_saved_pct second_serve_win_pct first_serve_pct\n",
       "1   100644    198    0.5592240            0.1700660            0.7351579      \n",
       "2   103333    208    0.7024075            0.1934502            0.8336761      \n",
       "3   103819    185    0.6093525            0.2114465            0.7770562      \n",
       "4   103852    188    0.6435922            0.2029322            0.7678518      \n",
       "5   103893    183    0.6032682            0.2086046            0.7053554      \n",
       "⋮   ⋮         ⋮      ⋮                    ⋮                    ⋮              \n",
       "99  106071    193    0.6247593            0.1647858            0.7115762      \n",
       "100 106233    185    0.5928571            0.2059738            0.7307146      \n",
       "101 106296    183    0.5769397            0.1768606            0.6743243      \n",
       "102 106298    185    0.6420310            0.2225114            0.7383816      \n",
       "103 106401    193    0.6480872            0.1862049            0.7819567      \n",
       "    first_serve_win_pct win_rate age      mean_rank_points ace_point_pct\n",
       "1   0.4788888           69.34673 21.15730 4281.6435        0.11124906   \n",
       "2   0.5415601           41.02564 39.12084  962.8682        0.23093646   \n",
       "3   0.4895284           84.17722 37.09069 6720.2910        0.10225660   \n",
       "4   0.4570213           47.11538 36.59486 1064.2837        0.13948328   \n",
       "5   0.4156136           34.56790 36.00516  929.3494        0.05544316   \n",
       "⋮   ⋮                   ⋮        ⋮        ⋮                ⋮            \n",
       "99  0.4748335           36.06557 25.58023  653.8502        0.10261438   \n",
       "100 0.4397496           69.26829 24.73736 4010.7090        0.07383174   \n",
       "101 0.4253424           33.33333 25.12377  458.3750        0.07423463   \n",
       "102 0.4218095           58.08824 24.20236 1914.4731        0.08959409   \n",
       "103 0.5078608           62.71186 23.02092 1722.5353        0.19922835   "
      ]
     },
     "metadata": {},
     "output_type": "display_data"
    }
   ],
   "source": [
    "# calculate player wins and mean match stats for winning matches\n",
    "player_wins <- atp_data_frame %>%\n",
    "    group_by(player_id = winner_id) %>%\n",
    "    summarize(w_height = mean(winner_ht, na.rm =TRUE),\n",
    "              w_breakpoint_saved_pct = mean(w_bpSaved/w_bpFaced, na.rm =TRUE),\n",
    "              w_second_serve_win_pct = mean(w_2ndWon / w_svpt,na.rm =TRUE),\n",
    "              w_first_serve_pct = mean(w_1stWon / w_1stIn,na.rm =TRUE),\n",
    "              w_first_serve_win_pct = mean(w_1stWon / w_svpt, na.rm = TRUE),\n",
    "              n_wins = n(),\n",
    "              mean_age_w  = mean(winner_age),\n",
    "              mean_rank_points_w = mean(winner_rank_points),\n",
    "              w_ace_point_pct = mean(w_ace/w_svpt,na.rm = TRUE)\n",
    "             ) %>%\n",
    "    drop_na() %>%\n",
    "    mutate(player_id = as.character(player_id))\n",
    "\n",
    "# calculate player losses and mean match stats for losing matches\n",
    "player_lose <- atp_data_frame %>%\n",
    "    group_by(player_id = loser_id) %>%\n",
    "    summarize(l_height = mean(loser_ht, na.rm =TRUE),\n",
    "              l_breakpoint_saved_pct = mean(l_bpSaved/l_bpFaced, na.rm =TRUE),\n",
    "              l_second_serve_win_pct = mean(l_2ndWon / l_svpt,na.rm =TRUE),\n",
    "              l_first_serve_pct = mean(l_1stWon / l_1stIn,na.rm =TRUE),\n",
    "              l_first_serve_win_pct = mean(l_1stWon / l_svpt, na.rm = TRUE),\n",
    "              n_lose = n(),\n",
    "              mean_age_l  = mean(loser_age),\n",
    "              mean_rank_points_l = mean(loser_rank_points),\n",
    "              l_ace_point_pct = mean(l_ace/l_svpt,na.rm = TRUE)\n",
    "             ) %>%\n",
    "    drop_na() %>%\n",
    "    mutate(player_id = as.character(player_id))\n",
    "\n",
    "# join datasets for wins and losses using unique player ids\n",
    "player_join <- left_join(player_wins, player_lose, by = NULL, copy = TRUE)\n",
    "\n",
    "# calculate career stats for all player matches\n",
    "player_career <- player_join %>%\n",
    "    mutate(height = (w_height + l_height)/2,\n",
    "          breakpoint_saved_pct = (w_breakpoint_saved_pct+l_breakpoint_saved_pct)/2,\n",
    "          second_serve_win_pct = (w_second_serve_win_pct+l_second_serve_win_pct)/2,\n",
    "          first_serve_pct = (w_first_serve_pct+l_first_serve_pct)/2,\n",
    "          first_serve_win_pct = (w_first_serve_win_pct + l_first_serve_win_pct)/2,\n",
    "          win_rate = (n_wins/(n_lose+n_wins)*100),\n",
    "          age = (mean_age_w + mean_age_l) /2,\n",
    "          mean_rank_points = (mean_rank_points_w + mean_rank_points_l)/2,\n",
    "          ace_point_pct = (w_ace_point_pct+l_ace_point_pct)/2) %>%\n",
    "    select(player_id,height,breakpoint_saved_pct,second_serve_win_pct,first_serve_pct,first_serve_win_pct, win_rate,age,mean_rank_points,ace_point_pct) %>%\n",
    "    drop_na()\n",
    "player_career"
   ]
  },
  {
   "cell_type": "markdown",
   "metadata": {},
   "source": []
  },
  {
   "cell_type": "markdown",
   "metadata": {},
   "source": [
    "<span style=\"color:blue\"> **The code below splits the player career dataset into testing and training sets, which are necessary for model tuning and evaluation.** </span>"
   ]
  },
  {
   "cell_type": "code",
   "execution_count": 20,
   "metadata": {},
   "outputs": [],
   "source": [
    "# split the data set into training and testing set. The following exploratory data analysis uses only the training set\n",
    "set.seed(20)\n",
    "player_split <- initial_split(player_career, prop = 0.75, strata = win_rate)\n",
    "player_train <- training(player_split)\n",
    "player_test <- testing(player_split)"
   ]
  },
  {
   "cell_type": "markdown",
   "metadata": {},
   "source": [
    "<span style=\"color:blue\">**The table below contains the mean of each quantitative variable in the training set. This gives an idea of the average statistics for a given player, which is relevant for exploratory data analysis. It tells us what sort of values (or percentages) we can expect for each stat.** </span>"
   ]
  },
  {
   "cell_type": "code",
   "execution_count": 21,
   "metadata": {},
   "outputs": [
    {
     "data": {
      "text/html": [
       "<table>\n",
       "<caption>A tibble: 1 × 9</caption>\n",
       "<thead>\n",
       "\t<tr><th scope=col>height</th><th scope=col>breakpoint_saved_pct</th><th scope=col>second_serve_win_pct</th><th scope=col>first_serve_pct</th><th scope=col>first_serve_win_pct</th><th scope=col>win_rate</th><th scope=col>age</th><th scope=col>mean_rank_points</th><th scope=col>ace_point_pct</th></tr>\n",
       "\t<tr><th scope=col>&lt;dbl&gt;</th><th scope=col>&lt;dbl&gt;</th><th scope=col>&lt;dbl&gt;</th><th scope=col>&lt;dbl&gt;</th><th scope=col>&lt;dbl&gt;</th><th scope=col>&lt;dbl&gt;</th><th scope=col>&lt;dbl&gt;</th><th scope=col>&lt;dbl&gt;</th><th scope=col>&lt;dbl&gt;</th></tr>\n",
       "</thead>\n",
       "<tbody>\n",
       "\t<tr><td>186.0253</td><td>0.5947108</td><td>0.1958433</td><td>0.7193289</td><td>0.44232</td><td>45.90908</td><td>30.0706</td><td>1208.705</td><td>0.07991921</td></tr>\n",
       "</tbody>\n",
       "</table>\n"
      ],
      "text/latex": [
       "A tibble: 1 × 9\n",
       "\\begin{tabular}{lllllllll}\n",
       " height & breakpoint\\_saved\\_pct & second\\_serve\\_win\\_pct & first\\_serve\\_pct & first\\_serve\\_win\\_pct & win\\_rate & age & mean\\_rank\\_points & ace\\_point\\_pct\\\\\n",
       " <dbl> & <dbl> & <dbl> & <dbl> & <dbl> & <dbl> & <dbl> & <dbl> & <dbl>\\\\\n",
       "\\hline\n",
       "\t 186.0253 & 0.5947108 & 0.1958433 & 0.7193289 & 0.44232 & 45.90908 & 30.0706 & 1208.705 & 0.07991921\\\\\n",
       "\\end{tabular}\n"
      ],
      "text/markdown": [
       "\n",
       "A tibble: 1 × 9\n",
       "\n",
       "| height &lt;dbl&gt; | breakpoint_saved_pct &lt;dbl&gt; | second_serve_win_pct &lt;dbl&gt; | first_serve_pct &lt;dbl&gt; | first_serve_win_pct &lt;dbl&gt; | win_rate &lt;dbl&gt; | age &lt;dbl&gt; | mean_rank_points &lt;dbl&gt; | ace_point_pct &lt;dbl&gt; |\n",
       "|---|---|---|---|---|---|---|---|---|\n",
       "| 186.0253 | 0.5947108 | 0.1958433 | 0.7193289 | 0.44232 | 45.90908 | 30.0706 | 1208.705 | 0.07991921 |\n",
       "\n"
      ],
      "text/plain": [
       "  height   breakpoint_saved_pct second_serve_win_pct first_serve_pct\n",
       "1 186.0253 0.5947108            0.1958433            0.7193289      \n",
       "  first_serve_win_pct win_rate age     mean_rank_points ace_point_pct\n",
       "1 0.44232             45.90908 30.0706 1208.705         0.07991921   "
      ]
     },
     "metadata": {},
     "output_type": "display_data"
    }
   ],
   "source": [
    "# exploratory data analysis table:\n",
    "\n",
    "# the means of the predictor variables we plan to use in our analysis\n",
    "exploratory_data_analysis_table <- player_train %>%\n",
    "    select(-player_id) %>%\n",
    "    map_df(mean, na.rm = TRUE)\n",
    "exploratory_data_analysis_table"
   ]
  },
  {
   "cell_type": "markdown",
   "metadata": {},
   "source": [
    "<span style=\"color:blue\"> **The code below produces a visualization which is also very useful in our exploratory data analysis. By using the function `ggpairs`, we can see the \"big picture\" of all the relationships between each pair of variables. This visualization helps us pick variables which have a relatively strong relationship with win rate, and thus will be effective in predictions.** </span>"
   ]
  },
  {
   "cell_type": "code",
   "execution_count": 22,
   "metadata": {},
   "outputs": [
    {
     "data": {
      "image/png": "[encoded data removed]",
      "text/plain": [
       "plot without title"
      ]
     },
     "metadata": {
      "image/png": {
       "height": 420,
       "width": 420
      }
     },
     "output_type": "display_data"
    }
   ],
   "source": [
    "player_ggpairs <- player_train %>%\n",
    "    select(-player_id) %>%\n",
    "    ggpairs(title = \"Figure 1: Plot of All Predictor Relationships using ggpairs\")\n",
    "\n",
    "player_ggpairs"
   ]
  },
  {
   "cell_type": "markdown",
   "metadata": {},
   "source": [
    "### Model Selection"
   ]
  },
  {
   "cell_type": "markdown",
   "metadata": {},
   "source": [
    "<span style=\"color:blue\"> **The first option for our model is K-NN regression for *individual predictors* with win_rate as the target. In order to simplify the steps, we use a for loop to run the model on each predictor. The result is a table with 3 columns: the predictor, the best k value (as chosen through cross validation), and the RMSPE.** </span> \n",
    "\n",
    "<span style=\"color:red\">**Warning! The for_loop iteration may take time.** </span>"
   ]
  },
  {
   "cell_type": "code",
   "execution_count": 23,
   "metadata": {},
   "outputs": [
    {
     "name": "stdout",
     "output_type": "stream",
     "text": [
      "[1] \"height\"\n"
     ]
    },
    {
     "name": "stderr",
     "output_type": "stream",
     "text": [
      "Warning message:\n",
      "“The number of observations in each quantile is below the recommended threshold of 20. Stratification will be done with 3 breaks instead.”\n"
     ]
    },
    {
     "name": "stdout",
     "output_type": "stream",
     "text": [
      "[1] \"breakpoint_saved_pct\"\n"
     ]
    },
    {
     "name": "stderr",
     "output_type": "stream",
     "text": [
      "Warning message:\n",
      "“The number of observations in each quantile is below the recommended threshold of 20. Stratification will be done with 3 breaks instead.”\n"
     ]
    },
    {
     "name": "stdout",
     "output_type": "stream",
     "text": [
      "[1] \"second_serve_win_pct\"\n"
     ]
    },
    {
     "name": "stderr",
     "output_type": "stream",
     "text": [
      "Warning message:\n",
      "“The number of observations in each quantile is below the recommended threshold of 20. Stratification will be done with 3 breaks instead.”\n"
     ]
    },
    {
     "name": "stdout",
     "output_type": "stream",
     "text": [
      "[1] \"first_serve_pct\"\n"
     ]
    },
    {
     "name": "stderr",
     "output_type": "stream",
     "text": [
      "Warning message:\n",
      "“The number of observations in each quantile is below the recommended threshold of 20. Stratification will be done with 3 breaks instead.”\n"
     ]
    },
    {
     "name": "stdout",
     "output_type": "stream",
     "text": [
      "[1] \"first_serve_win_pct\"\n"
     ]
    },
    {
     "name": "stderr",
     "output_type": "stream",
     "text": [
      "Warning message:\n",
      "“The number of observations in each quantile is below the recommended threshold of 20. Stratification will be done with 3 breaks instead.”\n"
     ]
    },
    {
     "name": "stdout",
     "output_type": "stream",
     "text": [
      "[1] \"age\"\n"
     ]
    },
    {
     "name": "stderr",
     "output_type": "stream",
     "text": [
      "Warning message:\n",
      "“The number of observations in each quantile is below the recommended threshold of 20. Stratification will be done with 3 breaks instead.”\n"
     ]
    },
    {
     "name": "stdout",
     "output_type": "stream",
     "text": [
      "[1] \"mean_rank_points\"\n"
     ]
    },
    {
     "name": "stderr",
     "output_type": "stream",
     "text": [
      "Warning message:\n",
      "“The number of observations in each quantile is below the recommended threshold of 20. Stratification will be done with 3 breaks instead.”\n"
     ]
    },
    {
     "name": "stdout",
     "output_type": "stream",
     "text": [
      "[1] \"ace_point_pct\"\n"
     ]
    },
    {
     "name": "stderr",
     "output_type": "stream",
     "text": [
      "Warning message:\n",
      "“The number of observations in each quantile is below the recommended threshold of 20. Stratification will be done with 3 breaks instead.”\n"
     ]
    },
    {
     "name": "stdout",
     "output_type": "stream",
     "text": [
      "[1] \"Table 1: RMSPE and Best K Values for Single Predictor Models\"\n"
     ]
    },
    {
     "data": {
      "text/html": [
       "<table>\n",
       "<caption>A tibble: 8 × 3</caption>\n",
       "<thead>\n",
       "\t<tr><th scope=col>predictor</th><th scope=col>best_k</th><th scope=col>rmspe</th></tr>\n",
       "\t<tr><th scope=col>&lt;chr&gt;</th><th scope=col>&lt;dbl&gt;</th><th scope=col>&lt;dbl&gt;</th></tr>\n",
       "</thead>\n",
       "<tbody>\n",
       "\t<tr><td>mean_rank_points    </td><td> 7</td><td>10.24509</td></tr>\n",
       "\t<tr><td>first_serve_win_pct </td><td>36</td><td>15.55832</td></tr>\n",
       "\t<tr><td>height              </td><td>37</td><td>15.89049</td></tr>\n",
       "\t<tr><td>first_serve_pct     </td><td>28</td><td>16.09443</td></tr>\n",
       "\t<tr><td>age                 </td><td>39</td><td>16.23855</td></tr>\n",
       "\t<tr><td>breakpoint_saved_pct</td><td>33</td><td>16.26547</td></tr>\n",
       "\t<tr><td>second_serve_win_pct</td><td>32</td><td>16.31776</td></tr>\n",
       "\t<tr><td>ace_point_pct       </td><td> 5</td><td>17.91994</td></tr>\n",
       "</tbody>\n",
       "</table>\n"
      ],
      "text/latex": [
       "A tibble: 8 × 3\n",
       "\\begin{tabular}{lll}\n",
       " predictor & best\\_k & rmspe\\\\\n",
       " <chr> & <dbl> & <dbl>\\\\\n",
       "\\hline\n",
       "\t mean\\_rank\\_points     &  7 & 10.24509\\\\\n",
       "\t first\\_serve\\_win\\_pct  & 36 & 15.55832\\\\\n",
       "\t height               & 37 & 15.89049\\\\\n",
       "\t first\\_serve\\_pct      & 28 & 16.09443\\\\\n",
       "\t age                  & 39 & 16.23855\\\\\n",
       "\t breakpoint\\_saved\\_pct & 33 & 16.26547\\\\\n",
       "\t second\\_serve\\_win\\_pct & 32 & 16.31776\\\\\n",
       "\t ace\\_point\\_pct        &  5 & 17.91994\\\\\n",
       "\\end{tabular}\n"
      ],
      "text/markdown": [
       "\n",
       "A tibble: 8 × 3\n",
       "\n",
       "| predictor &lt;chr&gt; | best_k &lt;dbl&gt; | rmspe &lt;dbl&gt; |\n",
       "|---|---|---|\n",
       "| mean_rank_points     |  7 | 10.24509 |\n",
       "| first_serve_win_pct  | 36 | 15.55832 |\n",
       "| height               | 37 | 15.89049 |\n",
       "| first_serve_pct      | 28 | 16.09443 |\n",
       "| age                  | 39 | 16.23855 |\n",
       "| breakpoint_saved_pct | 33 | 16.26547 |\n",
       "| second_serve_win_pct | 32 | 16.31776 |\n",
       "| ace_point_pct        |  5 | 17.91994 |\n",
       "\n"
      ],
      "text/plain": [
       "  predictor            best_k rmspe   \n",
       "1 mean_rank_points      7     10.24509\n",
       "2 first_serve_win_pct  36     15.55832\n",
       "3 height               37     15.89049\n",
       "4 first_serve_pct      28     16.09443\n",
       "5 age                  39     16.23855\n",
       "6 breakpoint_saved_pct 33     16.26547\n",
       "7 second_serve_win_pct 32     16.31776\n",
       "8 ace_point_pct         5     17.91994"
      ]
     },
     "metadata": {},
     "output_type": "display_data"
    }
   ],
   "source": [
    "set.seed(1)\n",
    "\n",
    "predictors <- c(\n",
    "    'height','breakpoint_saved_pct','second_serve_win_pct','first_serve_pct','first_serve_win_pct','age','mean_rank_points','ace_point_pct'\n",
    ")\n",
    "\n",
    "results <- tibble()\n",
    "results <- mutate(results, predictor = \"\", best_k = 0, rmspe = 0)\n",
    "\n",
    "for (pred in predictors) {\n",
    "\n",
    "    print(pred)\n",
    "    \n",
    "    train_data <- player_train %>%\n",
    "        select(win_rate, all_of(pred))\n",
    "    \n",
    "    test_data <- player_test %>%\n",
    "        select(win_rate, all_of(pred))\n",
    "    \n",
    "    tennis_recipe <- recipe(win_rate ~ ., data = train_data) %>%\n",
    "       step_scale(all_predictors()) %>%\n",
    "       step_center(all_predictors())\n",
    "    \n",
    "    tennis_spec <- nearest_neighbor(weight_func = \"rectangular\", neighbors = tune()) %>%\n",
    "       set_engine(\"kknn\") %>%\n",
    "       set_mode(\"regression\")\n",
    "    \n",
    "    tennis_vfold <- vfold_cv(train_data, v = 5, strata = win_rate)\n",
    "    \n",
    "    tennis_workflow <- workflow() %>%\n",
    "       add_recipe(tennis_recipe) %>%\n",
    "       add_model(tennis_spec)\n",
    "    \n",
    "    gridvals <- tibble(neighbors = seq(1,40))\n",
    "    \n",
    "    tennis_results <- tennis_workflow %>%\n",
    "       tune_grid(resamples = tennis_vfold, grid = gridvals) %>%\n",
    "       collect_metrics() %>%\n",
    "       filter(.metric == \"rmse\") %>%\n",
    "       filter(mean == min(mean))\n",
    "    \n",
    "    kmin <- pull(tennis_results, neighbors)\n",
    "    \n",
    "    tennis_spec_kmin <- nearest_neighbor(weight_func = \"rectangular\", neighbors = kmin) %>%\n",
    "       set_engine(\"kknn\") %>%\n",
    "       set_mode(\"regression\")\n",
    "    \n",
    "    tennis_fit <- workflow() %>%\n",
    "       add_recipe(tennis_recipe) %>%\n",
    "       add_model(tennis_spec_kmin) %>%\n",
    "       fit(data = train_data)\n",
    "    \n",
    "    rmspe_val <- tennis_fit %>%\n",
    "       predict(test_data) %>%\n",
    "       bind_cols(test_data) %>%\n",
    "       metrics(truth = win_rate, estimate = .pred) %>%\n",
    "       filter(.metric == \"rmse\") %>%\n",
    "       select(.estimate) %>%\n",
    "       pull()\n",
    "    \n",
    "    \n",
    "    results <- results %>%\n",
    "        add_row(predictor = pred, best_k=kmin, rmspe = rmspe_val)\n",
    "    \n",
    "}\n",
    "\n",
    "print(\"Table 1: RMSPE and Best K Values for Single Predictor Models\")\n",
    "results %>% arrange(rmspe)"
   ]
  },
  {
   "cell_type": "markdown",
   "metadata": {},
   "source": [
    "<span style=\"color:blue\"> **The second option is K-NN regression for *combined predictors* with win_rate as the target. The combined predictors are chosen from the strongest relationships we observed in player_ggpairs. Again, we iterate with a for loop to reduce the amount of code. The resulting table contains the same 3 columns as the individual predictors.** \n",
    "\n",
    "</span> <span style=\"color:red\"> **Warning! The for_loop iteration may take time.** </span>"
   ]
  },
  {
   "cell_type": "code",
   "execution_count": 24,
   "metadata": {},
   "outputs": [
    {
     "name": "stdout",
     "output_type": "stream",
     "text": [
      "win_rate ~ mean_rank_points + first_serve_win_pct\n"
     ]
    },
    {
     "name": "stderr",
     "output_type": "stream",
     "text": [
      "Warning message:\n",
      "“The number of observations in each quantile is below the recommended threshold of 20. Stratification will be done with 3 breaks instead.”\n"
     ]
    },
    {
     "name": "stdout",
     "output_type": "stream",
     "text": [
      "win_rate ~ mean_rank_points + height\n"
     ]
    },
    {
     "name": "stderr",
     "output_type": "stream",
     "text": [
      "Warning message:\n",
      "“The number of observations in each quantile is below the recommended threshold of 20. Stratification will be done with 3 breaks instead.”\n"
     ]
    },
    {
     "name": "stdout",
     "output_type": "stream",
     "text": [
      "win_rate ~ mean_rank_points + first_serve_pct\n"
     ]
    },
    {
     "name": "stderr",
     "output_type": "stream",
     "text": [
      "Warning message:\n",
      "“The number of observations in each quantile is below the recommended threshold of 20. Stratification will be done with 3 breaks instead.”\n"
     ]
    },
    {
     "name": "stdout",
     "output_type": "stream",
     "text": [
      "win_rate ~ mean_rank_points + first_serve_pct + first_serve_win_pct\n"
     ]
    },
    {
     "name": "stderr",
     "output_type": "stream",
     "text": [
      "Warning message:\n",
      "“The number of observations in each quantile is below the recommended threshold of 20. Stratification will be done with 3 breaks instead.”\n"
     ]
    },
    {
     "name": "stdout",
     "output_type": "stream",
     "text": [
      "win_rate ~ mean_rank_points + first_serve_pct + height\n"
     ]
    },
    {
     "name": "stderr",
     "output_type": "stream",
     "text": [
      "Warning message:\n",
      "“The number of observations in each quantile is below the recommended threshold of 20. Stratification will be done with 3 breaks instead.”\n"
     ]
    },
    {
     "name": "stdout",
     "output_type": "stream",
     "text": [
      "[1] \"Table 2: RMSPE and Best K Values for Multi Predictor Models\"\n"
     ]
    },
    {
     "data": {
      "text/html": [
       "<table>\n",
       "<caption>A tibble: 5 × 3</caption>\n",
       "<thead>\n",
       "\t<tr><th scope=col>predictor</th><th scope=col>best_k</th><th scope=col>rmspe</th></tr>\n",
       "\t<tr><th scope=col>&lt;chr&gt;</th><th scope=col>&lt;dbl&gt;</th><th scope=col>&lt;dbl&gt;</th></tr>\n",
       "</thead>\n",
       "<tbody>\n",
       "\t<tr><td>win_rate ~ mean_rank_points + first_serve_win_pct                  </td><td>6</td><td> 8.53232</td></tr>\n",
       "\t<tr><td>win_rate ~ mean_rank_points + first_serve_pct                      </td><td>4</td><td> 9.11855</td></tr>\n",
       "\t<tr><td>win_rate ~ mean_rank_points + first_serve_pct + first_serve_win_pct</td><td>2</td><td>10.46228</td></tr>\n",
       "\t<tr><td>win_rate ~ mean_rank_points + height                               </td><td>4</td><td>10.46816</td></tr>\n",
       "\t<tr><td>win_rate ~ mean_rank_points + first_serve_pct + height             </td><td>2</td><td>11.78315</td></tr>\n",
       "</tbody>\n",
       "</table>\n"
      ],
      "text/latex": [
       "A tibble: 5 × 3\n",
       "\\begin{tabular}{lll}\n",
       " predictor & best\\_k & rmspe\\\\\n",
       " <chr> & <dbl> & <dbl>\\\\\n",
       "\\hline\n",
       "\t win\\_rate \\textasciitilde{} mean\\_rank\\_points + first\\_serve\\_win\\_pct                   & 6 &  8.53232\\\\\n",
       "\t win\\_rate \\textasciitilde{} mean\\_rank\\_points + first\\_serve\\_pct                       & 4 &  9.11855\\\\\n",
       "\t win\\_rate \\textasciitilde{} mean\\_rank\\_points + first\\_serve\\_pct + first\\_serve\\_win\\_pct & 2 & 10.46228\\\\\n",
       "\t win\\_rate \\textasciitilde{} mean\\_rank\\_points + height                                & 4 & 10.46816\\\\\n",
       "\t win\\_rate \\textasciitilde{} mean\\_rank\\_points + first\\_serve\\_pct + height              & 2 & 11.78315\\\\\n",
       "\\end{tabular}\n"
      ],
      "text/markdown": [
       "\n",
       "A tibble: 5 × 3\n",
       "\n",
       "| predictor &lt;chr&gt; | best_k &lt;dbl&gt; | rmspe &lt;dbl&gt; |\n",
       "|---|---|---|\n",
       "| win_rate ~ mean_rank_points + first_serve_win_pct                   | 6 |  8.53232 |\n",
       "| win_rate ~ mean_rank_points + first_serve_pct                       | 4 |  9.11855 |\n",
       "| win_rate ~ mean_rank_points + first_serve_pct + first_serve_win_pct | 2 | 10.46228 |\n",
       "| win_rate ~ mean_rank_points + height                                | 4 | 10.46816 |\n",
       "| win_rate ~ mean_rank_points + first_serve_pct + height              | 2 | 11.78315 |\n",
       "\n"
      ],
      "text/plain": [
       "  predictor                                                           best_k\n",
       "1 win_rate ~ mean_rank_points + first_serve_win_pct                   6     \n",
       "2 win_rate ~ mean_rank_points + first_serve_pct                       4     \n",
       "3 win_rate ~ mean_rank_points + first_serve_pct + first_serve_win_pct 2     \n",
       "4 win_rate ~ mean_rank_points + height                                4     \n",
       "5 win_rate ~ mean_rank_points + first_serve_pct + height              2     \n",
       "  rmspe   \n",
       "1  8.53232\n",
       "2  9.11855\n",
       "3 10.46228\n",
       "4 10.46816\n",
       "5 11.78315"
      ]
     },
     "metadata": {},
     "output_type": "display_data"
    }
   ],
   "source": [
    "set.seed(1)\n",
    "\n",
    "formulas <- c(\n",
    "\"win_rate ~ mean_rank_points + first_serve_win_pct\",\n",
    "\"win_rate ~ mean_rank_points + height\",\n",
    "\"win_rate ~ mean_rank_points + first_serve_pct\",\n",
    "\"win_rate ~ mean_rank_points + first_serve_pct + first_serve_win_pct\",\n",
    "\"win_rate ~ mean_rank_points + first_serve_pct + height\"    \n",
    ")\n",
    "\n",
    "multi_results <- tibble()\n",
    "multi_results <- mutate(multi_results, predictor = \"\", best_k = 0, rmspe = 0)\n",
    "\n",
    "for (f in formulas) {\n",
    "    \n",
    "    print(as.formula(f))\n",
    "    \n",
    "    tennis_recipe_multiple <- recipe(as.formula(f), data = player_train) %>%\n",
    "        step_scale(all_predictors()) %>%\n",
    "        step_center(all_predictors())\n",
    "\n",
    "    tennis_spec_mul <- nearest_neighbor(weight_func = \"rectangular\", neighbors = tune()) %>%\n",
    "       set_engine(\"kknn\") %>%\n",
    "       set_mode(\"regression\")\n",
    "    \n",
    "    tennis_vfold_mul <- vfold_cv(player_train, v = 5, strata = win_rate)\n",
    "    \n",
    "    tennis_workflow_multiple <- workflow() %>%\n",
    "       add_recipe(tennis_recipe_multiple) %>%\n",
    "       add_model(tennis_spec_mul)\n",
    "    \n",
    "    gridvals_mul <- tibble(neighbors = seq(1,40))\n",
    "    \n",
    "    tennis_results_multiple <- tennis_workflow_multiple %>%\n",
    "       tune_grid(resamples = tennis_vfold_mul, grid = gridvals_mul) %>%\n",
    "       collect_metrics() %>%\n",
    "       filter(.metric == \"rmse\")\n",
    "    if(f == \"win_rate ~ mean_rank_points + first_serve_win_pct\") {\n",
    "    best_plot <- ggplot(tennis_results_multiple,aes(x = neighbors, y = mean)) +\n",
    "        geom_point() +\n",
    "        geom_line() +\n",
    "        labs(x = \"K\", y = \"RMSPE\") + \n",
    "        ggtitle(\"Figure 2: K vs RMSPE for mean rank points and first serve win %\") + \n",
    "        theme(text = element_text(size = 20))\n",
    "    }\n",
    "    tennis_result_min <-  tennis_results_multiple %>%\n",
    "       filter(mean == min(mean))\n",
    "    \n",
    "    kmin_multiple <- pull(tennis_result_min, neighbors)\n",
    "    \n",
    "    kmin_multiple\n",
    "    \n",
    "    tennis_spec_kmin_mul <- nearest_neighbor(weight_func = \"rectangular\", neighbors = kmin_multiple) %>%\n",
    "       set_engine(\"kknn\") %>%\n",
    "       set_mode(\"regression\")\n",
    "    \n",
    "    tennis_fit_multiple <- workflow() %>%\n",
    "       add_recipe(tennis_recipe_multiple) %>%\n",
    "       add_model(tennis_spec_kmin_mul) %>%\n",
    "       fit(data = player_train)\n",
    "    \n",
    "    rmspe_val_mul <- tennis_fit_multiple %>%\n",
    "       predict(player_test) %>%\n",
    "       bind_cols(player_test) %>%\n",
    "       metrics(truth = win_rate, estimate = .pred) %>%\n",
    "       filter(.metric == \"rmse\") %>%\n",
    "       select(.estimate) %>%\n",
    "       pull()\n",
    "    \n",
    "    multi_results <- multi_results %>%\n",
    "        add_row(predictor = f, best_k = kmin_multiple, rmspe = rmspe_val_mul)\n",
    "}\n",
    "\n",
    "print(\"Table 2: RMSPE and Best K Values for Multi Predictor Models\")\n",
    "multi_results %>%\n",
    "    arrange(rmspe)"
   ]
  },
  {
   "cell_type": "code",
   "execution_count": 25,
   "metadata": {},
   "outputs": [
    {
     "data": {
      "image/png": "[encoded data removed]",
      "text/plain": [
       "plot without title"
      ]
     },
     "metadata": {
      "image/png": {
       "height": 420,
       "width": 420
      }
     },
     "output_type": "display_data"
    }
   ],
   "source": [
    "best_plot"
   ]
  },
  {
   "cell_type": "markdown",
   "metadata": {},
   "source": [
    "<span style=\"color:blue\"> **The third option is linear regression for *individual predictors* with win_rate as the target. Again, we iterate with a for loop to reduce the amount of code. The resulting table has only 2 columns this time: the predictor and the RMSPE. Since the model is using linear regression, there is no k-value.** \n",
    "\n",
    "</span> <span style=\"color:red\"> **Warning! The for_loop iteration may take time.** </span>"
   ]
  },
  {
   "cell_type": "code",
   "execution_count": 26,
   "metadata": {},
   "outputs": [
    {
     "name": "stdout",
     "output_type": "stream",
     "text": [
      "[1] \"win_rate ~ mean_rank_points + first_serve_win_pct\"\n",
      "[1] \"win_rate ~ mean_rank_points + height\"\n",
      "[1] \"win_rate ~ mean_rank_points + first_serve_pct\"\n",
      "[1] \"win_rate ~ mean_rank_points + first_serve_pct + first_serve_win_pct\"\n",
      "[1] \"win_rate ~ mean_rank_points + first_serve_pct + height\"\n",
      "[1] \"Table 2: RMSPE for Single Variable Linear Regression\"\n"
     ]
    },
    {
     "data": {
      "text/html": [
       "<table>\n",
       "<caption>A tibble: 5 × 2</caption>\n",
       "<thead>\n",
       "\t<tr><th scope=col>lm_predictor</th><th scope=col>lm_rmspe</th></tr>\n",
       "\t<tr><th scope=col>&lt;chr&gt;</th><th scope=col>&lt;dbl&gt;</th></tr>\n",
       "</thead>\n",
       "<tbody>\n",
       "\t<tr><td>win_rate ~ mean_rank_points + first_serve_pct + first_serve_win_pct</td><td>9.643020</td></tr>\n",
       "\t<tr><td>win_rate ~ mean_rank_points + first_serve_pct                      </td><td>9.699788</td></tr>\n",
       "\t<tr><td>win_rate ~ mean_rank_points + first_serve_pct + height             </td><td>9.710520</td></tr>\n",
       "\t<tr><td>win_rate ~ mean_rank_points + height                               </td><td>9.723320</td></tr>\n",
       "\t<tr><td>win_rate ~ mean_rank_points + first_serve_win_pct                  </td><td>9.761017</td></tr>\n",
       "</tbody>\n",
       "</table>\n"
      ],
      "text/latex": [
       "A tibble: 5 × 2\n",
       "\\begin{tabular}{ll}\n",
       " lm\\_predictor & lm\\_rmspe\\\\\n",
       " <chr> & <dbl>\\\\\n",
       "\\hline\n",
       "\t win\\_rate \\textasciitilde{} mean\\_rank\\_points + first\\_serve\\_pct + first\\_serve\\_win\\_pct & 9.643020\\\\\n",
       "\t win\\_rate \\textasciitilde{} mean\\_rank\\_points + first\\_serve\\_pct                       & 9.699788\\\\\n",
       "\t win\\_rate \\textasciitilde{} mean\\_rank\\_points + first\\_serve\\_pct + height              & 9.710520\\\\\n",
       "\t win\\_rate \\textasciitilde{} mean\\_rank\\_points + height                                & 9.723320\\\\\n",
       "\t win\\_rate \\textasciitilde{} mean\\_rank\\_points + first\\_serve\\_win\\_pct                   & 9.761017\\\\\n",
       "\\end{tabular}\n"
      ],
      "text/markdown": [
       "\n",
       "A tibble: 5 × 2\n",
       "\n",
       "| lm_predictor &lt;chr&gt; | lm_rmspe &lt;dbl&gt; |\n",
       "|---|---|\n",
       "| win_rate ~ mean_rank_points + first_serve_pct + first_serve_win_pct | 9.643020 |\n",
       "| win_rate ~ mean_rank_points + first_serve_pct                       | 9.699788 |\n",
       "| win_rate ~ mean_rank_points + first_serve_pct + height              | 9.710520 |\n",
       "| win_rate ~ mean_rank_points + height                                | 9.723320 |\n",
       "| win_rate ~ mean_rank_points + first_serve_win_pct                   | 9.761017 |\n",
       "\n"
      ],
      "text/plain": [
       "  lm_predictor                                                        lm_rmspe\n",
       "1 win_rate ~ mean_rank_points + first_serve_pct + first_serve_win_pct 9.643020\n",
       "2 win_rate ~ mean_rank_points + first_serve_pct                       9.699788\n",
       "3 win_rate ~ mean_rank_points + first_serve_pct + height              9.710520\n",
       "4 win_rate ~ mean_rank_points + height                                9.723320\n",
       "5 win_rate ~ mean_rank_points + first_serve_win_pct                   9.761017"
      ]
     },
     "metadata": {},
     "output_type": "display_data"
    }
   ],
   "source": [
    "set.seed(1)\n",
    "\n",
    "formulas <- c(\n",
    "\"win_rate ~ mean_rank_points + first_serve_win_pct\",\n",
    "\"win_rate ~ mean_rank_points + height\",\n",
    "\"win_rate ~ mean_rank_points + first_serve_pct\",\n",
    "\"win_rate ~ mean_rank_points + first_serve_pct + first_serve_win_pct\",\n",
    "\"win_rate ~ mean_rank_points + first_serve_pct + height\"    \n",
    ")\n",
    "\n",
    "multi_lm_results <- tibble()\n",
    "multi_lm_results <- mutate(multi_lm_results, lm_predictor = \"\", lm_rmspe = 0)\n",
    "\n",
    "for (f in formulas) {\n",
    "\n",
    "    print(f)\n",
    "    \n",
    "    tennis_spec_lm <- linear_reg() %>%\n",
    "        set_engine(\"lm\") %>%\n",
    "        set_mode(\"regression\")\n",
    "    \n",
    "    tennis_recipe_lm <- recipe(as.formula(f), data = player_train)\n",
    "    \n",
    "    tennis_fit_lm <- workflow() %>%\n",
    "        add_recipe(tennis_recipe_lm) %>%\n",
    "        add_model(tennis_spec_lm) %>%\n",
    "        fit(data = player_train)\n",
    "    \n",
    "    lm_rmspe_val <- tennis_fit_lm %>%\n",
    "        predict(player_test) %>%\n",
    "        bind_cols(player_test) %>%\n",
    "        metrics(truth = win_rate, estimate = .pred) %>%\n",
    "        filter(.metric == \"rmse\") %>%\n",
    "        select(.estimate) %>%\n",
    "        pull()\n",
    "\n",
    "    multi_lm_results <- multi_lm_results %>%\n",
    "        add_row(lm_predictor = f, lm_rmspe = lm_rmspe_val)\n",
    "\n",
    "}\n",
    "\n",
    "print(\"Table 2: RMSPE for Single Variable Linear Regression\")\n",
    "multi_lm_results %>%\n",
    "    arrange(lm_rmspe)"
   ]
  },
  {
   "cell_type": "markdown",
   "metadata": {},
   "source": [
    "<span style=\"color:blue\"> **Finally, the last option is linear regression for *combined predictors* with win_rate as the target. Again, we iterate with a for loop to reduce the amount of code. The result is presented by a table with 2 columns.** \n",
    "\n",
    "</span> <span style=\"color:red\"> **Warning！the for_loop iteration may take time.** </span>"
   ]
  },
  {
   "cell_type": "code",
   "execution_count": 27,
   "metadata": {},
   "outputs": [
    {
     "name": "stdout",
     "output_type": "stream",
     "text": [
      "[1] \"win_rate ~ mean_rank_points + first_serve_win_pct\"\n",
      "[1] \"win_rate ~ mean_rank_points + height\"\n",
      "[1] \"win_rate ~ mean_rank_points + first_serve_pct\"\n",
      "[1] \"win_rate ~ mean_rank_points + first_serve_pct + first_serve_win_pct\"\n",
      "[1] \"win_rate ~ mean_rank_points + first_serve_pct + height\"\n",
      "[1] \"Table 2: RMSPE for Multi-vBariable Linear Regression\"\n"
     ]
    },
    {
     "data": {
      "text/html": [
       "<table>\n",
       "<caption>A tibble: 5 × 2</caption>\n",
       "<thead>\n",
       "\t<tr><th scope=col>lm_predictor</th><th scope=col>lm_rmspe</th></tr>\n",
       "\t<tr><th scope=col>&lt;chr&gt;</th><th scope=col>&lt;dbl&gt;</th></tr>\n",
       "</thead>\n",
       "<tbody>\n",
       "\t<tr><td>win_rate ~ mean_rank_points + first_serve_pct + first_serve_win_pct</td><td>9.643020</td></tr>\n",
       "\t<tr><td>win_rate ~ mean_rank_points + first_serve_pct                      </td><td>9.699788</td></tr>\n",
       "\t<tr><td>win_rate ~ mean_rank_points + first_serve_pct + height             </td><td>9.710520</td></tr>\n",
       "\t<tr><td>win_rate ~ mean_rank_points + height                               </td><td>9.723320</td></tr>\n",
       "\t<tr><td>win_rate ~ mean_rank_points + first_serve_win_pct                  </td><td>9.761017</td></tr>\n",
       "</tbody>\n",
       "</table>\n"
      ],
      "text/latex": [
       "A tibble: 5 × 2\n",
       "\\begin{tabular}{ll}\n",
       " lm\\_predictor & lm\\_rmspe\\\\\n",
       " <chr> & <dbl>\\\\\n",
       "\\hline\n",
       "\t win\\_rate \\textasciitilde{} mean\\_rank\\_points + first\\_serve\\_pct + first\\_serve\\_win\\_pct & 9.643020\\\\\n",
       "\t win\\_rate \\textasciitilde{} mean\\_rank\\_points + first\\_serve\\_pct                       & 9.699788\\\\\n",
       "\t win\\_rate \\textasciitilde{} mean\\_rank\\_points + first\\_serve\\_pct + height              & 9.710520\\\\\n",
       "\t win\\_rate \\textasciitilde{} mean\\_rank\\_points + height                                & 9.723320\\\\\n",
       "\t win\\_rate \\textasciitilde{} mean\\_rank\\_points + first\\_serve\\_win\\_pct                   & 9.761017\\\\\n",
       "\\end{tabular}\n"
      ],
      "text/markdown": [
       "\n",
       "A tibble: 5 × 2\n",
       "\n",
       "| lm_predictor &lt;chr&gt; | lm_rmspe &lt;dbl&gt; |\n",
       "|---|---|\n",
       "| win_rate ~ mean_rank_points + first_serve_pct + first_serve_win_pct | 9.643020 |\n",
       "| win_rate ~ mean_rank_points + first_serve_pct                       | 9.699788 |\n",
       "| win_rate ~ mean_rank_points + first_serve_pct + height              | 9.710520 |\n",
       "| win_rate ~ mean_rank_points + height                                | 9.723320 |\n",
       "| win_rate ~ mean_rank_points + first_serve_win_pct                   | 9.761017 |\n",
       "\n"
      ],
      "text/plain": [
       "  lm_predictor                                                        lm_rmspe\n",
       "1 win_rate ~ mean_rank_points + first_serve_pct + first_serve_win_pct 9.643020\n",
       "2 win_rate ~ mean_rank_points + first_serve_pct                       9.699788\n",
       "3 win_rate ~ mean_rank_points + first_serve_pct + height              9.710520\n",
       "4 win_rate ~ mean_rank_points + height                                9.723320\n",
       "5 win_rate ~ mean_rank_points + first_serve_win_pct                   9.761017"
      ]
     },
     "metadata": {},
     "output_type": "display_data"
    }
   ],
   "source": [
    "set.seed(1)\n",
    "\n",
    "formulas <- c(\n",
    "\"win_rate ~ mean_rank_points + first_serve_win_pct\",\n",
    "\"win_rate ~ mean_rank_points + height\",\n",
    "\"win_rate ~ mean_rank_points + first_serve_pct\",\n",
    "\"win_rate ~ mean_rank_points + first_serve_pct + first_serve_win_pct\",\n",
    "\"win_rate ~ mean_rank_points + first_serve_pct + height\"    \n",
    ")\n",
    "\n",
    "multi_lm_results <- tibble()\n",
    "multi_lm_results <- mutate(multi_lm_results, lm_predictor = \"\", lm_rmspe = 0)\n",
    "\n",
    "for (f in formulas) {\n",
    "\n",
    "    print(f)\n",
    "    \n",
    "    tennis_spec_lm <- linear_reg() %>%\n",
    "        set_engine(\"lm\") %>%\n",
    "        set_mode(\"regression\")\n",
    "    \n",
    "    tennis_recipe_lm <- recipe(as.formula(f), data = player_train)\n",
    "    \n",
    "    tennis_fit_lm <- workflow() %>%\n",
    "        add_recipe(tennis_recipe_lm) %>%\n",
    "        add_model(tennis_spec_lm) %>%\n",
    "        fit(data = player_train)\n",
    "    \n",
    "    lm_rmspe_val <- tennis_fit_lm %>%\n",
    "        predict(player_test) %>%\n",
    "        bind_cols(player_test) %>%\n",
    "        metrics(truth = win_rate, estimate = .pred) %>%\n",
    "        filter(.metric == \"rmse\") %>%\n",
    "        select(.estimate) %>%\n",
    "        pull()\n",
    "\n",
    "    multi_lm_results <- multi_lm_results %>%\n",
    "        add_row(lm_predictor = f, lm_rmspe = lm_rmspe_val)\n",
    "\n",
    "}\n",
    "print(\"Table 2: RMSPE for Multi-vBariable Linear Regression\")\n",
    "multi_lm_results %>%\n",
    "    arrange(lm_rmspe)"
   ]
  },
  {
   "cell_type": "markdown",
   "metadata": {},
   "source": [
    "### Using the Model"
   ]
  },
  {
   "cell_type": "markdown",
   "metadata": {},
   "source": [
    "<span style=\"color:blue\"> **Following our testing of the many potential models, the one that produces the lowest RMSPE is:**\n",
    "- K-NN regression with mean rank points and first serve win percentage as predictors\n",
    "- k = 6\n",
    "\n",
    "<span style=\"color:blue\">**Therefore, this is what we will use to predict win rate.**</span>"
   ]
  },
  {
   "cell_type": "code",
   "execution_count": 28,
   "metadata": {},
   "outputs": [],
   "source": [
    "set.seed(1)\n",
    "\n",
    "tennis_recipe_final <- recipe(win_rate ~ mean_rank_points + first_serve_win_pct, data = player_train) %>%\n",
    "    step_scale(all_predictors()) %>%\n",
    "    step_center(all_predictors())\n",
    "\n",
    "tennis_model_final <- nearest_neighbor(weight_func = \"rectangular\", neighbors = 6) %>%\n",
    "    set_engine(\"kknn\") %>%\n",
    "    set_mode(\"regression\")\n",
    "\n",
    "tennis_fit_final <- workflow() %>%\n",
    "    add_recipe(tennis_recipe_final) %>%\n",
    "    add_model(tennis_model_final) %>%\n",
    "    fit(data = player_train)"
   ]
  },
  {
   "cell_type": "markdown",
   "metadata": {},
   "source": [
    "<span style=\"color:blue\"> **Now, we can try testing the model for a new player.** </span>"
   ]
  },
  {
   "cell_type": "code",
   "execution_count": 29,
   "metadata": {},
   "outputs": [
    {
     "data": {
      "text/html": [
       "<table>\n",
       "<caption>A tibble: 1 × 4</caption>\n",
       "<thead>\n",
       "\t<tr><th scope=col>predicted_win_rate</th><th scope=col>mean_rank_points</th><th scope=col>first_serve_win_pct</th><th scope=col>age</th></tr>\n",
       "\t<tr><th scope=col>&lt;dbl&gt;</th><th scope=col>&lt;dbl&gt;</th><th scope=col>&lt;dbl&gt;</th><th scope=col>&lt;dbl&gt;</th></tr>\n",
       "</thead>\n",
       "<tbody>\n",
       "\t<tr><td>52.5721</td><td>1400</td><td>0.46</td><td>29</td></tr>\n",
       "</tbody>\n",
       "</table>\n"
      ],
      "text/latex": [
       "A tibble: 1 × 4\n",
       "\\begin{tabular}{llll}\n",
       " predicted\\_win\\_rate & mean\\_rank\\_points & first\\_serve\\_win\\_pct & age\\\\\n",
       " <dbl> & <dbl> & <dbl> & <dbl>\\\\\n",
       "\\hline\n",
       "\t 52.5721 & 1400 & 0.46 & 29\\\\\n",
       "\\end{tabular}\n"
      ],
      "text/markdown": [
       "\n",
       "A tibble: 1 × 4\n",
       "\n",
       "| predicted_win_rate &lt;dbl&gt; | mean_rank_points &lt;dbl&gt; | first_serve_win_pct &lt;dbl&gt; | age &lt;dbl&gt; |\n",
       "|---|---|---|---|\n",
       "| 52.5721 | 1400 | 0.46 | 29 |\n",
       "\n"
      ],
      "text/plain": [
       "  predicted_win_rate mean_rank_points first_serve_win_pct age\n",
       "1 52.5721            1400             0.46                29 "
      ]
     },
     "metadata": {},
     "output_type": "display_data"
    }
   ],
   "source": [
    "new_player <- tibble(mean_rank_points = 1400, first_serve_win_pct = 0.46, age = 29)\n",
    "\n",
    "prediction <- predict(tennis_fit_final, new_player) %>%\n",
    "    bind_cols(new_player) %>%\n",
    "    rename(predicted_win_rate = .pred)\n",
    "prediction"
   ]
  },
  {
   "cell_type": "markdown",
   "metadata": {},
   "source": [
    "# Discussion <img align=\"left\" src=\"https://encrypted-tbn0.gstatic.com/images?q=tbn:ANd9GcSDixQBw3HoqS_gnC9xVtHO-5NrnS1eQ91N3w&usqp=CAU\" width=\"35\" />  "
   ]
  },
  {
   "cell_type": "markdown",
   "metadata": {},
   "source": [
    "<div style=\"color:red\"> summarize what you found </div>\n",
    "\n",
    "Overall, we found that a player's \"mean rank points\" and \"first serve win %\" are good predictors for estimating a player's win rate. Using these variables, we trained a KNN regression model that had RMSPE of only 8.53. This RMSPE is lower compared to a linear regression model using the same predictors.\n",
    "\n",
    "<div style=\"color:red\"> discuss whether this is what you expected to find? </div>\n",
    "\n",
    "This result makes sense because a player that has lots of rank points and a strong serve is likely to win more games. The RMSPE differences between the KNN model and linear regression models was also expected because we observed a non-linear relationship between rank points and win rate.  We used our model to predict the win rate for a player with 1400 rank points and a first serve win % of 46%. The outcome was approximately what we would expect for such an above average player based on the mean stats we calculated above.\n",
    "\n",
    "<div style=\"color:red\"> discuss what impact could such findings have? </div>\n",
    "\n",
    "Our model can be used to predict the performance of tennis player using only a few statistics... \n",
    "\n",
    "<div style=\"color:red\"> discuss what future questions could this lead to? </div>\n",
    "\n",
    "\n"
   ]
  },
  {
   "cell_type": "markdown",
   "metadata": {},
   "source": [
    " There are many components involved in the game of tennis and that is reflected in the 50 columns of this raw data set. These variables contribute to whether a player wins or loses a match and affects that player's overall win rate. By mutating the data into nine predictors we can set a KNN regression model to predict a player's career win rate. The predictors include:\n",
    "\n",
    "\n",
    "| Variable                        | Explanation                                                                                         |\n",
    "|---------------------------------|-----------------------------------------------------------------------------------------------------|\n",
    "| Age (years)                     | Older players will have sustained more injuries and be less fit.                                    |\n",
    "| Height (cm)                     | Height can provide an advantage when serving.                                                       |\n",
    "| Serve Points that were Aces (%) | Winning points on a serve indicates a strong serve.                                                 |\n",
    "| First Serves (%)                | The ratio of \"first serve points\" to \"first serves made in\" means a player's serve is more accurate |\n",
    "| First Serves Won (%)            | Strong and accurate first serves will lead to fewer double faults.                                  |\n",
    "| Second Serves Won (%)           | Strong second serves means fewer lost points due to a slow serve.                                   |\n",
    "| Double Faults per Game (ratio)  | Fewer double faults per game indicates accurate serving.                                            |\n",
    "| Breakpoints Saved (%)           | Preventing breaks means a player wins the important points for winning the match                    |\n",
    "| Rank Points                     | Awarded to players by the ATP for winning matches                                                   |\n",
    "\n",
    "The KNN regression model will need to be trained, evaluated, and tuned with training and testing sets before predicting a win rate on a new player. By organizing a data set to keep track of both the K and RMSE (Root Mean Square Error) values calculated, we will be able to visualize how each predictor affects the player's win rate. We can then further analyze which combination of predicators, if any, will yield the lowest test error resulting in a better ability to predict a player's win rate."
   ]
  },
  {
   "cell_type": "markdown",
   "metadata": {},
   "source": [
    "We expect that the estimated win rate will reflect the respective career stats of the player. For example, if they have impressive stats, such as a high \"breakpoint save percentage\" and high \"rank points\", then their win rate will be high. Conversely, if our player has poor stats, their win rate will reflect this and be lower. \n",
    "\n",
    "Predicting the approximate win rate of a given player could be useful in a number of applications. For one, it could be used to get a sense of how the player will perform in the future. In other words, with the knowledge of their win rate, one can make a rough estimate of a player's chances in an upcoming tournament or season. Additionally, as the win rate is based on existing stats, it can be used to provide a clearer estimate of the result of a head-to-head match. \n",
    "\n",
    "This analysis could also prompt further questions:\n",
    " - Are there stats not included in the dataset that could improve the effectiveness of the model?\n",
    " - Do certain stats influence win rate more, and if so, is there a better weight function to use in the regression engine?\n"
   ]
  },
  {
   "cell_type": "markdown",
   "metadata": {},
   "source": [
    "# References <img align=\"left\" src=\"https://encrypted-tbn0.gstatic.com/images?q=tbn:ANd9GcSDixQBw3HoqS_gnC9xVtHO-5NrnS1eQ91N3w&usqp=CAU\" width=\"35\" /> \n",
    "\n",
    "\n",
    "<div style=\"color:red\">     At least 2 citations of literature relevant to the project (format is your choice, just be consistent across the references). </div>\n",
    "<div style=\"color:red\">     Make sure to cite the source of your data as well. </div>\n"
   ]
  },
  {
   "cell_type": "markdown",
   "metadata": {},
   "source": [
    "\n"
   ]
  },
  {
   "cell_type": "markdown",
   "metadata": {},
   "source": [
    "Keith Prowse Editors. “Love? Ace? Tennis Terminology Explained: Tennis Glossary.” *Keith Prowse*, 2019, www.keithprowse.co.uk/news-and-blog/2019/01/02/tennis-terminology-explained/\n",
    "\n",
    "Timbers et al. \\\"Data Science: A First Introduction.\\\" *UBC Data Science*, 2021\n",
    "\\\n",
    "\\\n",
    "Nag, Utathya. “Tennis Rankings: How They Work and Difference between ATP and Wta Systems.” Tennis Rankings: Everything You Need to Know, International Olympic Committee, 23 Feb. 2021, olympics.com/en/featured-news/tennis-rankings-atp-wta-men-women-doubles-singles-system-grand-slam-olympics. \n",
    "\\\n",
    "\\\n",
    "**Data Source:** https://github.com/JeffSackmann/tennis_atp"
   ]
  },
  {
   "cell_type": "code",
   "execution_count": null,
   "metadata": {},
   "outputs": [],
   "source": []
  }
 ],
 "metadata": {
  "kernelspec": {
   "display_name": "R",
   "language": "R",
   "name": "ir"
  },
  "language_info": {
   "codemirror_mode": "r",
   "file_extension": ".r",
   "mimetype": "text/x-r-source",
   "name": "R",
   "pygments_lexer": "r",
   "version": "4.0.0"
  }
 },
 "nbformat": 4,
 "nbformat_minor": 4
}
