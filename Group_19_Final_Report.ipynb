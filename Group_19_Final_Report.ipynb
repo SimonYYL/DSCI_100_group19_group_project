{
 "cells": [
  {
   "cell_type": "code",
   "execution_count": null,
   "metadata": {},
   "outputs": [],
   "source": [
    "library(tidyverse)\n",
    "library(repr)\n",
    "library(tidymodels)\n",
    "library(rvest)\n",
    "library(stringr)\n",
    "library(DBI)\n",
    "library(dbplyr)\n",
    "library(GGally)\n",
    "options(repr.matrix.max.rows = 10)"
   ]
  },
  {
   "cell_type": "markdown",
   "metadata": {},
   "source": [
    "# Predicting the Win Rate of Tennis Players  \n",
    "<img align=\"left\" src=\"https://images.unsplash.com/photo-1554068865-24cecd4e34b8?ixid=MnwxMjA3fDB8MHxzZWFyY2h8MXx8dGVubmlzfGVufDB8fDB8fA%3D%3D&ixlib=rb-1.2.1&auto=format&fit=crop&w=500&q=60\" width=\"1000\" />  \n",
    "\n",
    "**Source: https://unsplash.com/photos/WqI-PbYugn4**"
   ]
  },
  {
   "cell_type": "markdown",
   "metadata": {},
   "source": [
    "# Introduction<img align=\"left\" src=\"https://encrypted-tbn0.gstatic.com/images?q=tbn:ANd9GcSDixQBw3HoqS_gnC9xVtHO-5NrnS1eQ91N3w&usqp=CAU\" width=\"35\" />   \n",
    "\n",
    "\n",
    "### <u> Background </u> \n",
    "\n",
    "Tennis is a popular, competitive sport played around the world.\n",
    "Tennis can be played in \"singles\" where there is only one person on each side of the net or \"doubles\" where there are teams of two. \n",
    "It can be played on a variety of surfaces such as grass, clay, or hard court (i.e. like a gym floor).\n",
    "\n",
    "The association of tennis professionals, or ATP, organizes these tournaments and collects data on the players and the matches that take place.\n",
    "\n",
    "### <u> Our Question </u> \n",
    "\n",
    "Based on the career statistics of a tennis player, what will be their win rate?\n",
    "\n",
    "### <u>  Our Dataset </u> \n",
    "\n",
    "We are using the \"Game results for Top 500 Players from 2017-2019\" dataset for our analysis. Each row in this dataset represents a singles match between two players. Each row contains player stats (e.g. age, height, rank) and match stats (break points, serve points, double faults etc.). We can use this data to determine the relationship between a player's stats and their win rate for this time period.\n",
    "\n",
    "*Picture source: https://www.emojipng.com/preview/458725*"
   ]
  },
  {
   "cell_type": "markdown",
   "metadata": {},
   "source": [
    "# Methods and Results<img align=\"left\" src=\"https://encrypted-tbn0.gstatic.com/images?q=tbn:ANd9GcSDixQBw3HoqS_gnC9xVtHO-5NrnS1eQ91N3w&usqp=CAU\" width=\"35\" />   \n",
    "\n",
    "<span style=\"color:red\">\n",
    "    describe in written English the methods you used to perform your analysis from beginning to end that narrates the code the does the analysis.\n",
    "    your report should include code which:\n",
    "        loads data from the original source on the web \n",
    "        wrangles and cleans the data from it's original (downloaded) format to the format necessary for the planned analysis\n",
    "        performs a summary of the data set that is relevant for exploratory data analysis related to the planned analysis \n",
    "        creates a visualization of the dataset that is relevant for exploratory data analysis related to the planned analysis\n",
    "        performs the data analysis\n",
    "        creates a visualization of the analysis \n",
    "        note: all tables and figure should have a figure/table number and a legend\n",
    "</span>"
   ]
  },
  {
   "cell_type": "markdown",
   "metadata": {},
   "source": [
    "### <u> Outline <u>\n",
    "\n",
    "We will first transform the dataset of tennis matches into a tidy dataset with only player stats. Next, we will look at the relationships between the different variables and win_rate to choose predictors for our regression models. To answer our predictive question, we will train both KNN and linear regression models and then compare to find the model type and predictors that give the lowest error. Once we we have the best model, we will try to predict the win rate for a new player observation."
   ]
  },
  {
   "cell_type": "markdown",
   "metadata": {},
   "source": [
    "### <u> Exploring the Data <u> "
   ]
  },
  {
   "cell_type": "markdown",
   "metadata": {},
   "source": [
    "<span style=\"color:blue\"> **The code below reads the CSV file from the given URL link.** </span>"
   ]
  },
  {
   "cell_type": "code",
   "execution_count": null,
   "metadata": {},
   "outputs": [],
   "source": [
    "## the dataset can be read from the URL link:\n",
    "atp_data_frame <- read_csv(\"https://drive.google.com/uc?export=download&id=1fOQ8sy_qMkQiQEAO6uFdRX4tLI8EpSTn\")\n",
    "atp_data_frame"
   ]
  },
  {
   "cell_type": "markdown",
   "metadata": {},
   "source": [
    "**Table 1: Raw data table**"
   ]
  },
  {
   "cell_type": "markdown",
   "metadata": {},
   "source": [
    "<span style=\"color:blue\"> **Next, we clean and wrangle the raw data set into a tidy data form by grouping the observations by player. Then we mutate some statistics to percentages through ratios of the raw variables and obtain each player's \"career stats\" by joining observations in both winning and losing rounds to the corresponding player ID. This forms a data frame with each row representing an individual player.** </span>"
   ]
  },
  {
   "cell_type": "markdown",
   "metadata": {},
   "source": [
    "By mutating the data into nine predictors we can set a KNN regression model to predict a player's career win rate. The predictors include:\n",
    "\n",
    "\n",
    "| Variable                        | Explanation                                                                                         |\n",
    "|---------------------------------|-----------------------------------------------------------------------------------------------------|\n",
    "| Age (years)                     | Older players will have sustained more injuries and be less fit.                                    |\n",
    "| Height (cm)                     | Height can provide an advantage when serving.                                                       |\n",
    "| Serve Points that were Aces (%) | Winning points on a serve indicates a strong serve.                                                 |\n",
    "| First Serves (%)                | The ratio of \"first serve points\" to \"first serves made in\" means a player's serve is more accurate |\n",
    "| First Serves Won (%)            | Strong and accurate first serves will lead to fewer double faults.                                  |\n",
    "| Second Serves Won (%)           | Strong second serves means fewer lost points due to a slow serve.                                   |\n",
    "| Double Faults per Game (ratio)  | Fewer double faults per game indicates accurate serving.                                            |\n",
    "| Breakpoints Saved (%)           | Preventing breaks means a player wins the important points for winning the match                    |\n",
    "| Rank Points                     | Awarded to players by the ATP for winning matches                                                   |\n",
    "\n",
    "**Table 2: List of Potential Predictors created for our data set**\n",
    "\n",
    "The predictors related to serving are useful because a player has the most control over the match during the games when they are serving. For information on each type of serve stat see (Keith Prowse Editor) under references.\n",
    "\n",
    "The stat on rank points is important because players earn a different number of rank points for each type of match (Nag, Utathya). Players may accumulate a lot of rank points by winning many lower ranked matches or by winning a few major matches, thus providing us insight to the wins a player may have."
   ]
  },
  {
   "cell_type": "markdown",
   "metadata": {},
   "source": [
    "<span style=\"color:blue\"> **The code below cleans and wrangles the raw data set into tidy form by grouping the observations by player. We mutate some statistics to percentages through ratios of the raw variables. We then obtain each player's \"career stats\" by joining observations in both winning and losing rounds to the player ID. This forms a data frame with each row representing an individual player.** </span>"
   ]
  },
  {
   "cell_type": "code",
   "execution_count": null,
   "metadata": {},
   "outputs": [],
   "source": [
    "# calculate player wins and mean match stats for winning matches\n",
    "player_wins <- atp_data_frame %>%\n",
    "    group_by(player_id = winner_id) %>%\n",
    "    summarize(w_height = mean(winner_ht, na.rm =TRUE),\n",
    "              w_breakpoint_saved_pct = mean(w_bpSaved/w_bpFaced, na.rm =TRUE),\n",
    "              w_second_serve_win_pct = mean(w_2ndWon / w_svpt,na.rm =TRUE),\n",
    "              w_first_serve_pct = mean(w_1stWon / w_1stIn,na.rm =TRUE),\n",
    "              w_first_serve_win_pct = mean(w_1stWon / w_svpt, na.rm = TRUE),\n",
    "              n_wins = n(),\n",
    "              mean_age_w  = mean(winner_age),\n",
    "              mean_rank_points_w = mean(winner_rank_points),\n",
    "              w_ace_point_pct = mean(w_ace/w_svpt,na.rm = TRUE)\n",
    "             ) %>%\n",
    "    drop_na() %>%\n",
    "    mutate(player_id = as.character(player_id))\n",
    "\n",
    "# calculate player losses and mean match stats for losing matches\n",
    "player_lose <- atp_data_frame %>%\n",
    "    group_by(player_id = loser_id) %>%\n",
    "    summarize(l_height = mean(loser_ht, na.rm =TRUE),\n",
    "              l_breakpoint_saved_pct = mean(l_bpSaved/l_bpFaced, na.rm =TRUE),\n",
    "              l_second_serve_win_pct = mean(l_2ndWon / l_svpt,na.rm =TRUE),\n",
    "              l_first_serve_pct = mean(l_1stWon / l_1stIn,na.rm =TRUE),\n",
    "              l_first_serve_win_pct = mean(l_1stWon / l_svpt, na.rm = TRUE),\n",
    "              n_lose = n(),\n",
    "              mean_age_l  = mean(loser_age),\n",
    "              mean_rank_points_l = mean(loser_rank_points),\n",
    "              l_ace_point_pct = mean(l_ace/l_svpt,na.rm = TRUE)\n",
    "             ) %>%\n",
    "    drop_na() %>%\n",
    "    mutate(player_id = as.character(player_id))\n",
    "\n",
    "# join datasets for wins and losses using unique player ids\n",
    "player_join <- left_join(player_wins, player_lose, by = NULL, copy = TRUE)\n",
    "\n",
    "# calculate career stats for all player matches\n",
    "player_career <- player_join %>%\n",
    "    mutate(height = (w_height + l_height)/2,\n",
    "          breakpoint_saved_pct = (w_breakpoint_saved_pct+l_breakpoint_saved_pct)/2,\n",
    "          second_serve_win_pct = (w_second_serve_win_pct+l_second_serve_win_pct)/2,\n",
    "          first_serve_pct = (w_first_serve_pct+l_first_serve_pct)/2,\n",
    "          first_serve_win_pct = (w_first_serve_win_pct + l_first_serve_win_pct)/2,\n",
    "          win_rate = (n_wins/(n_lose+n_wins)*100),\n",
    "          age = (mean_age_w + mean_age_l) /2,\n",
    "          mean_rank_points = (mean_rank_points_w + mean_rank_points_l)/2,\n",
    "          ace_point_pct = (w_ace_point_pct+l_ace_point_pct)/2) %>%\n",
    "    select(player_id,height,breakpoint_saved_pct,second_serve_win_pct,first_serve_pct,first_serve_win_pct, win_rate,age,mean_rank_points,ace_point_pct) %>%\n",
    "    drop_na()\n",
    "player_career"
   ]
  },
  {
   "cell_type": "markdown",
   "metadata": {},
   "source": [
    "**Table 3: Mutated data table used for data processing**"
   ]
  },
  {
   "cell_type": "markdown",
   "metadata": {},
   "source": [
    "<span style=\"color:blue\">**We split the player career dataset into testing and training sets by a 75/25 split. We decided that this split ratio allowed for enough observations to be used to train our model while still having enough observations in our test set to evaluate its accuracy.** </span>"
   ]
  },
  {
   "cell_type": "code",
   "execution_count": null,
   "metadata": {},
   "outputs": [],
   "source": [
    "# split the data set into training and testing set. The following exploratory data analysis uses only the training set\n",
    "set.seed(20)\n",
    "player_split <- initial_split(player_career, prop = 0.75, strata = win_rate)\n",
    "player_train <- training(player_split)\n",
    "player_test <- testing(player_split)"
   ]
  },
  {
   "cell_type": "markdown",
   "metadata": {},
   "source": [
    "<span style=\"color:blue\">**The table below contains the means of each quantitative variable in the training set. This gives an idea of the average statistics for a given player, which is relevant for exploratory data analysis. It tells us what sort of values (or percentages) we can expect for each stat.** </span>"
   ]
  },
  {
   "cell_type": "code",
   "execution_count": null,
   "metadata": {},
   "outputs": [],
   "source": [
    "# the means of the predictor variables we plan to use in our analysis\n",
    "exploratory_data_analysis_table <- player_train %>%\n",
    "    select(-player_id) %>%\n",
    "    map_df(mean, na.rm = TRUE)\n",
    "exploratory_data_analysis_table"
   ]
  },
  {
   "cell_type": "markdown",
   "metadata": {},
   "source": [
    "**Table 4: Mean Values for each Predictor Variable**"
   ]
  },
  {
   "cell_type": "markdown",
   "metadata": {},
   "source": [
    "<span style=\"color:blue\"> **The code below produces a visualization which is also very useful in our exploratory data analysis. By using the function `ggpairs`, we can see the \"big picture\" of all the relationships between each pair of variables. This visualization helps us pick which variables have a relatively strong relationship with win rate, and thus will be effective in predictions.** </span>"
   ]
  },
  {
   "cell_type": "code",
   "execution_count": null,
   "metadata": {},
   "outputs": [],
   "source": [
    "player_ggpairs <- player_train %>%\n",
    "    select(-player_id) %>%\n",
    "    ggpairs()\n",
    "\n",
    "player_ggpairs"
   ]
  },
  {
   "cell_type": "markdown",
   "metadata": {},
   "source": [
    "**Figure 1: Plot of All Predictor Relationships using ggpairs**"
   ]
  },
  {
   "cell_type": "markdown",
   "metadata": {},
   "source": [
    "### <u> Model Selection </u> "
   ]
  },
  {
   "cell_type": "markdown",
   "metadata": {},
   "source": [
    "<span style=\"color:blue\"> **The first option for our model is K-NN regression for *individual predictors* with win_rate as the target value. In order to simplify the steps, we use a for loop to run the model on each predictor. The result is a table with 3 columns: predictor, best k value (as chosen through cross validation), and RMSPE.** </span> \n",
    "\n",
    "<span style=\"color:red\">**Warning! The for_loop iteration may take time.** </span>"
   ]
  },
  {
   "cell_type": "code",
   "execution_count": null,
   "metadata": {},
   "outputs": [],
   "source": [
    "set.seed(1)\n",
    "\n",
    "predictors <- c(\n",
    "    'height','breakpoint_saved_pct','second_serve_win_pct','first_serve_pct','first_serve_win_pct','age','mean_rank_points','ace_point_pct'\n",
    ")\n",
    "\n",
    "results <- tibble()\n",
    "results <- mutate(results, predictor = \"\", best_k = 0, rmspe = 0)\n",
    "\n",
    "for (pred in predictors) {\n",
    "\n",
    "    print(pred)\n",
    "    \n",
    "    train_data <- player_train %>%\n",
    "        select(win_rate, all_of(pred))\n",
    "    \n",
    "    test_data <- player_test %>%\n",
    "        select(win_rate, all_of(pred))\n",
    "    \n",
    "    tennis_recipe <- recipe(win_rate ~ ., data = train_data) %>%\n",
    "       step_scale(all_predictors()) %>%\n",
    "       step_center(all_predictors())\n",
    "    \n",
    "    tennis_spec <- nearest_neighbor(weight_func = \"rectangular\", neighbors = tune()) %>%\n",
    "       set_engine(\"kknn\") %>%\n",
    "       set_mode(\"regression\")\n",
    "    \n",
    "    tennis_vfold <- vfold_cv(train_data, v = 5, strata = win_rate)\n",
    "    \n",
    "    tennis_workflow <- workflow() %>%\n",
    "       add_recipe(tennis_recipe) %>%\n",
    "       add_model(tennis_spec)\n",
    "    \n",
    "    gridvals <- tibble(neighbors = seq(1,40))\n",
    "    \n",
    "    tennis_results <- tennis_workflow %>%\n",
    "       tune_grid(resamples = tennis_vfold, grid = gridvals) %>%\n",
    "       collect_metrics() %>%\n",
    "       filter(.metric == \"rmse\") %>%\n",
    "       filter(mean == min(mean))\n",
    "    \n",
    "    kmin <- pull(tennis_results, neighbors)\n",
    "    \n",
    "    tennis_spec_kmin <- nearest_neighbor(weight_func = \"rectangular\", neighbors = kmin) %>%\n",
    "       set_engine(\"kknn\") %>%\n",
    "       set_mode(\"regression\")\n",
    "    \n",
    "    tennis_fit <- workflow() %>%\n",
    "       add_recipe(tennis_recipe) %>%\n",
    "       add_model(tennis_spec_kmin) %>%\n",
    "       fit(data = train_data)\n",
    "    \n",
    "    rmspe_val <- tennis_fit %>%\n",
    "       predict(test_data) %>%\n",
    "       bind_cols(test_data) %>%\n",
    "       metrics(truth = win_rate, estimate = .pred) %>%\n",
    "       filter(.metric == \"rmse\") %>%\n",
    "       select(.estimate) %>%\n",
    "       pull()\n",
    "    \n",
    "    \n",
    "    results <- results %>%\n",
    "        add_row(predictor = pred, best_k=kmin, rmspe = rmspe_val)\n",
    "    \n",
    "}"
   ]
  },
  {
   "cell_type": "code",
   "execution_count": null,
   "metadata": {},
   "outputs": [],
   "source": [
    "results %>% arrange(rmspe)"
   ]
  },
  {
   "cell_type": "markdown",
   "metadata": {},
   "source": [
    "**Table 5: RMSPE and Best K Values for Single Predictor Models**"
   ]
  },
  {
   "cell_type": "markdown",
   "metadata": {},
   "source": [
    "<span style=\"color:blue\"> **The second option is K-NN regression for *combined predictors* with win_rate as the target. The combined predictors are chosen from the strongest relationships we observed in player_ggpairs. Again, we iterate with a for loop to reduce the amount of code. The resulting table contains the same 3 columns as the individual predictors.** \n",
    "\n",
    "</span> <span style=\"color:red\"> **Warning! The for_loop iteration may take time.** </span>"
   ]
  },
  {
   "cell_type": "code",
   "execution_count": null,
   "metadata": {},
   "outputs": [],
   "source": [
    "set.seed(1)\n",
    "\n",
    "formulas <- c(\n",
    "\"win_rate ~ mean_rank_points + first_serve_win_pct\",\n",
    "\"win_rate ~ mean_rank_points + height\",\n",
    "\"win_rate ~ mean_rank_points + first_serve_pct\",\n",
    "\"win_rate ~ mean_rank_points + first_serve_pct + first_serve_win_pct\",\n",
    "\"win_rate ~ mean_rank_points + first_serve_pct + height\"    \n",
    ")\n",
    "\n",
    "multi_results <- tibble()\n",
    "multi_results <- mutate(multi_results, predictor = \"\", best_k = 0, rmspe = 0)\n",
    "\n",
    "for (f in formulas) {\n",
    "    \n",
    "    print(as.formula(f))\n",
    "    \n",
    "    tennis_recipe_multiple <- recipe(as.formula(f), data = player_train) %>%\n",
    "        step_scale(all_predictors()) %>%\n",
    "        step_center(all_predictors())\n",
    "\n",
    "    tennis_spec_mul <- nearest_neighbor(weight_func = \"rectangular\", neighbors = tune()) %>%\n",
    "       set_engine(\"kknn\") %>%\n",
    "       set_mode(\"regression\")\n",
    "    \n",
    "    tennis_vfold_mul <- vfold_cv(player_train, v = 5, strata = win_rate)\n",
    "    \n",
    "    tennis_workflow_multiple <- workflow() %>%\n",
    "       add_recipe(tennis_recipe_multiple) %>%\n",
    "       add_model(tennis_spec_mul)\n",
    "    \n",
    "    gridvals_mul <- tibble(neighbors = seq(1,40))\n",
    "    \n",
    "    tennis_results_multiple <- tennis_workflow_multiple %>%\n",
    "       tune_grid(resamples = tennis_vfold_mul, grid = gridvals_mul) %>%\n",
    "       collect_metrics() %>%\n",
    "       filter(.metric == \"rmse\")\n",
    "    if(f == \"win_rate ~ mean_rank_points + first_serve_win_pct\") {\n",
    "    best_plot <- ggplot(tennis_results_multiple,aes(x = neighbors, y = mean)) +\n",
    "        geom_point() +\n",
    "        geom_line() +\n",
    "        labs(x = \"K\", y = \"RMSPE\") + \n",
    "        theme(text = element_text(size = 20))\n",
    "    }\n",
    "    tennis_result_min <-  tennis_results_multiple %>%\n",
    "       filter(mean == min(mean))\n",
    "    \n",
    "    kmin_multiple <- pull(tennis_result_min, neighbors)\n",
    "    \n",
    "    kmin_multiple\n",
    "    \n",
    "    tennis_spec_kmin_mul <- nearest_neighbor(weight_func = \"rectangular\", neighbors = kmin_multiple) %>%\n",
    "       set_engine(\"kknn\") %>%\n",
    "       set_mode(\"regression\")\n",
    "    \n",
    "    tennis_fit_multiple <- workflow() %>%\n",
    "       add_recipe(tennis_recipe_multiple) %>%\n",
    "       add_model(tennis_spec_kmin_mul) %>%\n",
    "       fit(data = player_train)\n",
    "    \n",
    "    rmspe_val_mul <- tennis_fit_multiple %>%\n",
    "       predict(player_test) %>%\n",
    "       bind_cols(player_test) %>%\n",
    "       metrics(truth = win_rate, estimate = .pred) %>%\n",
    "       filter(.metric == \"rmse\") %>%\n",
    "       select(.estimate) %>%\n",
    "       pull()\n",
    "    \n",
    "    multi_results <- multi_results %>%\n",
    "        add_row(predictor = f, best_k = kmin_multiple, rmspe = rmspe_val_mul)\n",
    "}"
   ]
  },
  {
   "cell_type": "code",
   "execution_count": null,
   "metadata": {},
   "outputs": [],
   "source": [
    "multi_results %>%\n",
    "    arrange(rmspe)"
   ]
  },
  {
   "cell_type": "markdown",
   "metadata": {},
   "source": [
    "**Table 6: RMSPE and Best K Values for Multi Predictor Models**"
   ]
  },
  {
   "cell_type": "code",
   "execution_count": null,
   "metadata": {},
   "outputs": [],
   "source": [
    "best_plot"
   ]
  },
  {
   "cell_type": "markdown",
   "metadata": {},
   "source": [
    "**Figure 2: K vs RMSPE for mean rank points and first serve win %**"
   ]
  },
  {
   "cell_type": "markdown",
   "metadata": {},
   "source": [
    "<span style=\"color:blue\"> **The third option is linear regression for *individual predictors* with win_rate as the target. Again, we iterate with a for loop to reduce the amount of code. The resulting table has only 2 columns this time: predictor and RMSPE. Since the model is using linear regression, there is no k-value.** \n",
    "\n",
    "</span> <span style=\"color:red\"> **Warning! The for_loop iteration may take time.** </span>"
   ]
  },
  {
   "cell_type": "code",
   "execution_count": null,
   "metadata": {},
   "outputs": [],
   "source": [
    "set.seed(1)\n",
    "\n",
    "formulas <- c(\n",
    "\"win_rate ~ mean_rank_points + first_serve_win_pct\",\n",
    "\"win_rate ~ mean_rank_points + height\",\n",
    "\"win_rate ~ mean_rank_points + first_serve_pct\",\n",
    "\"win_rate ~ mean_rank_points + first_serve_pct + first_serve_win_pct\",\n",
    "\"win_rate ~ mean_rank_points + first_serve_pct + height\"    \n",
    ")\n",
    "\n",
    "multi_lm_results <- tibble()\n",
    "multi_lm_results <- mutate(multi_lm_results, lm_predictor = \"\", lm_rmspe = 0)\n",
    "\n",
    "for (f in formulas) {\n",
    "\n",
    "    print(f)\n",
    "    \n",
    "    tennis_spec_lm <- linear_reg() %>%\n",
    "        set_engine(\"lm\") %>%\n",
    "        set_mode(\"regression\")\n",
    "    \n",
    "    tennis_recipe_lm <- recipe(as.formula(f), data = player_train)\n",
    "    \n",
    "    tennis_fit_lm <- workflow() %>%\n",
    "        add_recipe(tennis_recipe_lm) %>%\n",
    "        add_model(tennis_spec_lm) %>%\n",
    "        fit(data = player_train)\n",
    "    \n",
    "    lm_rmspe_val <- tennis_fit_lm %>%\n",
    "        predict(player_test) %>%\n",
    "        bind_cols(player_test) %>%\n",
    "        metrics(truth = win_rate, estimate = .pred) %>%\n",
    "        filter(.metric == \"rmse\") %>%\n",
    "        select(.estimate) %>%\n",
    "        pull()\n",
    "\n",
    "    multi_lm_results <- multi_lm_results %>%\n",
    "        add_row(lm_predictor = f, lm_rmspe = lm_rmspe_val)\n",
    "\n",
    "}"
   ]
  },
  {
   "cell_type": "code",
   "execution_count": null,
   "metadata": {},
   "outputs": [],
   "source": [
    "multi_lm_results %>%\n",
    "    arrange(lm_rmspe)"
   ]
  },
  {
   "cell_type": "markdown",
   "metadata": {},
   "source": [
    "**Table 7: RMSPE for Single Variable Linear Regression**"
   ]
  },
  {
   "cell_type": "markdown",
   "metadata": {},
   "source": [
    "<span style=\"color:blue\"> **Finally, the last option is linear regression for *combined predictors* with win_rate as the target. Again, we iterate with a for loop to reduce the amount of code. The result is presented by a table with 2 columns.** \n",
    "\n",
    "</span> <span style=\"color:red\"> **Warning！the for_loop iteration may take time.** </span>"
   ]
  },
  {
   "cell_type": "code",
   "execution_count": null,
   "metadata": {},
   "outputs": [],
   "source": [
    "set.seed(1)\n",
    "\n",
    "formulas <- c(\n",
    "\"win_rate ~ mean_rank_points + first_serve_win_pct\",\n",
    "\"win_rate ~ mean_rank_points + height\",\n",
    "\"win_rate ~ mean_rank_points + first_serve_pct\",\n",
    "\"win_rate ~ mean_rank_points + first_serve_pct + first_serve_win_pct\",\n",
    "\"win_rate ~ mean_rank_points + first_serve_pct + height\"    \n",
    ")\n",
    "\n",
    "multi_lm_results <- tibble()\n",
    "multi_lm_results <- mutate(multi_lm_results, lm_predictor = \"\", lm_rmspe = 0)\n",
    "\n",
    "for (f in formulas) {\n",
    "\n",
    "    print(f)\n",
    "    \n",
    "    tennis_spec_lm <- linear_reg() %>%\n",
    "        set_engine(\"lm\") %>%\n",
    "        set_mode(\"regression\")\n",
    "    \n",
    "    tennis_recipe_lm <- recipe(as.formula(f), data = player_train)\n",
    "    \n",
    "    tennis_fit_lm <- workflow() %>%\n",
    "        add_recipe(tennis_recipe_lm) %>%\n",
    "        add_model(tennis_spec_lm) %>%\n",
    "        fit(data = player_train)\n",
    "    \n",
    "    lm_rmspe_val <- tennis_fit_lm %>%\n",
    "        predict(player_test) %>%\n",
    "        bind_cols(player_test) %>%\n",
    "        metrics(truth = win_rate, estimate = .pred) %>%\n",
    "        filter(.metric == \"rmse\") %>%\n",
    "        select(.estimate) %>%\n",
    "        pull()\n",
    "\n",
    "    multi_lm_results <- multi_lm_results %>%\n",
    "        add_row(lm_predictor = f, lm_rmspe = lm_rmspe_val)\n",
    "\n",
    "}"
   ]
  },
  {
   "cell_type": "code",
   "execution_count": null,
   "metadata": {},
   "outputs": [],
   "source": [
    "multi_lm_results %>%\n",
    "    arrange(lm_rmspe)"
   ]
  },
  {
   "cell_type": "markdown",
   "metadata": {},
   "source": [
    "**Table 8: RMSPE for Multi-Variable Linear Regression**"
   ]
  },
  {
   "cell_type": "markdown",
   "metadata": {},
   "source": [
    "### <u> Using the Model </u> "
   ]
  },
  {
   "cell_type": "markdown",
   "metadata": {},
   "source": [
    "<span style=\"color:blue\"> **Following our testing of the many potential models, the one that produces the lowest RMSPE is:**\n",
    "- K-NN regression with mean rank points and first serve win percentage as predictors\n",
    "- k = 6\n",
    "\n",
    "<span style=\"color:blue\">**Therefore, this is what we will use to predict win rate.**</span>"
   ]
  },
  {
   "cell_type": "code",
   "execution_count": null,
   "metadata": {},
   "outputs": [],
   "source": [
    "set.seed(1)\n",
    "\n",
    "tennis_recipe_final <- recipe(win_rate ~ mean_rank_points + first_serve_win_pct, data = player_train) %>%\n",
    "    step_scale(all_predictors()) %>%\n",
    "    step_center(all_predictors())\n",
    "\n",
    "tennis_model_final <- nearest_neighbor(weight_func = \"rectangular\", neighbors = 6) %>%\n",
    "    set_engine(\"kknn\") %>%\n",
    "    set_mode(\"regression\")\n",
    "\n",
    "tennis_fit_final <- workflow() %>%\n",
    "    add_recipe(tennis_recipe_final) %>%\n",
    "    add_model(tennis_model_final) %>%\n",
    "    fit(data = player_train)"
   ]
  },
  {
   "cell_type": "markdown",
   "metadata": {},
   "source": [
    "<span style=\"color:blue\"> **Now, we can try testing the model for a new player.** </span>"
   ]
  },
  {
   "cell_type": "code",
   "execution_count": null,
   "metadata": {},
   "outputs": [],
   "source": [
    "new_player <- tibble(mean_rank_points = 1400, first_serve_win_pct = 0.46, age = 29)\n",
    "\n",
    "prediction <- predict(tennis_fit_final, new_player) %>%\n",
    "    bind_cols(new_player) %>%\n",
    "    rename(predicted_win_rate = .pred)\n",
    "\n",
    "prediction"
   ]
  },
  {
   "cell_type": "markdown",
   "metadata": {},
   "source": [
    "**Table 9: New Player Analysis**"
   ]
  },
  {
   "cell_type": "markdown",
   "metadata": {},
   "source": [
    "# Discussion <img align=\"left\" src=\"https://encrypted-tbn0.gstatic.com/images?q=tbn:ANd9GcSDixQBw3HoqS_gnC9xVtHO-5NrnS1eQ91N3w&usqp=CAU\" width=\"35\" />  "
   ]
  },
  {
   "cell_type": "markdown",
   "metadata": {},
   "source": [
    "Overall, we found that a player's \"mean rank points\" and \"first serve win %\" are good predictors for estimating a player's win rate. Using these variables, we trained a KNN regression model that had RMSPE of only 8.53. This RMSPE is lower compared to a linear regression model using the same predictors. We tested our model on a newly created player with 1400 rank points and a first serve win % of 46%, and the predicted win rate was 52%.\n",
    "\n",
    "This result makes sense because a player that has lots of rank points and a strong serve is likely to win more games. The RMSPE differences between the KNN model and linear regression models was also expected because we observed a non-linear relationship between rank points and win rate. In our test player, the outcome was approximately what we would expect. Since the predictors were slightly above  based on the mean stats we calculated above.\n",
    "\n",
    "\n",
    "Our model can predict the win rate of a tennis player using only a few statistics, and this could be useful in several ways. For one, it gives a sense of how the player will perform in the future. In other words, with the knowledge of their win rate, one can make a rough estimate of a player's chances in an upcoming match, tournament or season. This could be useful in a range of practical applications including scouting, sports betting, or even simply personal knowledge.\n",
    "\n",
    "\n",
    "Some further questions that this analysis raised include: \n",
    "\n",
    " - Are the other stats within the dataset able to be predicted by win rate and first serve win percentage (i.e. going off those two stats, can we be confident all the other stats are \"good\")?\n",
    " - Are there stats not included in the dataset that could improve the effectiveness of the model?\n",
    " - Do certain stats influence win rate more, and if so, is there a better weight function to use in the regression engine?\n",
    "\n",
    "\n",
    "\n"
   ]
  },
  {
   "cell_type": "markdown",
   "metadata": {},
   "source": [
    "# References <img align=\"left\" src=\"https://encrypted-tbn0.gstatic.com/images?q=tbn:ANd9GcSDixQBw3HoqS_gnC9xVtHO-5NrnS1eQ91N3w&usqp=CAU\" width=\"35\" /> \n"
   ]
  },
  {
   "cell_type": "markdown",
   "metadata": {},
   "source": [
    "Keith Prowse Editors. “Love? Ace? Tennis Terminology Explained: Tennis Glossary.” *Keith Prowse*, 2019, www.keithprowse.co.uk/news-and-blog/2019/01/02/tennis-terminology-explained/\n",
    "\\\n",
    "\\\n",
    "Nag, Utathya. “Tennis Rankings: How They Work and Difference between ATP and Wta Systems.” *Tennis Rankings: Everything You Need to Know*, International Olympic Committee, 2021, www.olympics.com/en/featured-news/tennis-rankings-atp-wta-men-women-doubles-singles-system-grand-slam-olympics\n",
    "\\\n",
    "\\\n",
    "Timbers et al. \\\"Data Science: A First Introduction.\\\" *UBC Data Science*, 2021\n",
    "\\\n",
    "\\\n",
    "**Data Source:** https://github.com/JeffSackmann/tennis_atp"
   ]
  },
  {
   "cell_type": "code",
   "execution_count": null,
   "metadata": {},
   "outputs": [],
   "source": []
  }
 ],
 "metadata": {
  "kernelspec": {
   "display_name": "R",
   "language": "R",
   "name": "ir"
  },
  "language_info": {
   "codemirror_mode": "r",
   "file_extension": ".r",
   "mimetype": "text/x-r-source",
   "name": "R",
   "pygments_lexer": "r",
   "version": "4.0.0"
  }
 },
 "nbformat": 4,
 "nbformat_minor": 4
}
