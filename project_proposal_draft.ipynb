{
 "cells": [
  {
   "cell_type": "code",
   "execution_count": 7,
   "metadata": {},
   "outputs": [],
   "source": [
    "library(tidyverse)\n",
    "library(repr)\n",
    "library(tidymodels)\n",
    "library(rvest)\n",
    "library(stringr)\n",
    "library(DBI)\n",
    "library(dbplyr)\n",
    "options(repr.matrix.max.rows = 6)"
   ]
  },
  {
   "cell_type": "markdown",
   "metadata": {},
   "source": [
    "# <span style=\"font-family:Papyrus; font-size:4em;\">Title</span>"
   ]
  },
  {
   "cell_type": "markdown",
   "metadata": {},
   "source": [
    "## Introduction  \n",
    "1). background information  \n",
    "2). the question we will ask (one and one only)  \n",
    "3). identify and describe the **data set** we will use to answer the quetsion  "
   ]
  },
  {
   "cell_type": "code",
   "execution_count": 8,
   "metadata": {},
   "outputs": [
    {
     "name": "stderr",
     "output_type": "stream",
     "text": [
      "Warning message:\n",
      "“Missing column names filled in: 'X1' [1]”\n",
      "Parsed with column specification:\n",
      "cols(\n",
      "  .default = col_double(),\n",
      "  tourney_id = \u001b[31mcol_character()\u001b[39m,\n",
      "  tourney_name = \u001b[31mcol_character()\u001b[39m,\n",
      "  surface = \u001b[31mcol_character()\u001b[39m,\n",
      "  tourney_level = \u001b[31mcol_character()\u001b[39m,\n",
      "  winner_seed = \u001b[31mcol_character()\u001b[39m,\n",
      "  winner_entry = \u001b[31mcol_character()\u001b[39m,\n",
      "  winner_name = \u001b[31mcol_character()\u001b[39m,\n",
      "  winner_hand = \u001b[31mcol_character()\u001b[39m,\n",
      "  winner_ioc = \u001b[31mcol_character()\u001b[39m,\n",
      "  loser_seed = \u001b[31mcol_character()\u001b[39m,\n",
      "  loser_entry = \u001b[31mcol_character()\u001b[39m,\n",
      "  loser_name = \u001b[31mcol_character()\u001b[39m,\n",
      "  loser_hand = \u001b[31mcol_character()\u001b[39m,\n",
      "  loser_ioc = \u001b[31mcol_character()\u001b[39m,\n",
      "  score = \u001b[31mcol_character()\u001b[39m,\n",
      "  round = \u001b[31mcol_character()\u001b[39m\n",
      ")\n",
      "\n",
      "See spec(...) for full column specifications.\n",
      "\n"
     ]
    },
    {
     "data": {
      "text/html": [
       "<table>\n",
       "<caption>A tibble: 6 × 50</caption>\n",
       "<thead>\n",
       "\t<tr><th scope=col>X1</th><th scope=col>tourney_id</th><th scope=col>tourney_name</th><th scope=col>surface</th><th scope=col>draw_size</th><th scope=col>tourney_level</th><th scope=col>tourney_date</th><th scope=col>match_num</th><th scope=col>winner_id</th><th scope=col>winner_seed</th><th scope=col>⋯</th><th scope=col>l_1stIn</th><th scope=col>l_1stWon</th><th scope=col>l_2ndWon</th><th scope=col>l_SvGms</th><th scope=col>l_bpSaved</th><th scope=col>l_bpFaced</th><th scope=col>winner_rank</th><th scope=col>winner_rank_points</th><th scope=col>loser_rank</th><th scope=col>loser_rank_points</th></tr>\n",
       "\t<tr><th scope=col>&lt;dbl&gt;</th><th scope=col>&lt;chr&gt;</th><th scope=col>&lt;chr&gt;</th><th scope=col>&lt;chr&gt;</th><th scope=col>&lt;dbl&gt;</th><th scope=col>&lt;chr&gt;</th><th scope=col>&lt;dbl&gt;</th><th scope=col>&lt;dbl&gt;</th><th scope=col>&lt;dbl&gt;</th><th scope=col>&lt;chr&gt;</th><th scope=col>⋯</th><th scope=col>&lt;dbl&gt;</th><th scope=col>&lt;dbl&gt;</th><th scope=col>&lt;dbl&gt;</th><th scope=col>&lt;dbl&gt;</th><th scope=col>&lt;dbl&gt;</th><th scope=col>&lt;dbl&gt;</th><th scope=col>&lt;dbl&gt;</th><th scope=col>&lt;dbl&gt;</th><th scope=col>&lt;dbl&gt;</th><th scope=col>&lt;dbl&gt;</th></tr>\n",
       "</thead>\n",
       "<tbody>\n",
       "\t<tr><td>0</td><td>2019-M020</td><td>Brisbane</td><td>Hard</td><td>32</td><td>A</td><td>20181231</td><td>300</td><td>105453</td><td>2 </td><td>⋯</td><td>54</td><td>34</td><td>20</td><td>14</td><td>10</td><td>15</td><td>  9</td><td>3590</td><td> 16</td><td>1977</td></tr>\n",
       "\t<tr><td>1</td><td>2019-M020</td><td>Brisbane</td><td>Hard</td><td>32</td><td>A</td><td>20181231</td><td>299</td><td>106421</td><td>4 </td><td>⋯</td><td>52</td><td>36</td><td> 7</td><td>10</td><td>10</td><td>13</td><td> 16</td><td>1977</td><td>239</td><td> 200</td></tr>\n",
       "\t<tr><td>2</td><td>2019-M020</td><td>Brisbane</td><td>Hard</td><td>32</td><td>A</td><td>20181231</td><td>298</td><td>105453</td><td>2 </td><td>⋯</td><td>27</td><td>15</td><td> 6</td><td> 8</td><td> 1</td><td> 5</td><td>  9</td><td>3590</td><td> 40</td><td>1050</td></tr>\n",
       "\t<tr><td>3</td><td>2019-M020</td><td>Brisbane</td><td>Hard</td><td>32</td><td>A</td><td>20181231</td><td>297</td><td>104542</td><td>NA</td><td>⋯</td><td>60</td><td>38</td><td> 9</td><td>11</td><td> 4</td><td> 6</td><td>239</td><td> 200</td><td> 31</td><td>1298</td></tr>\n",
       "\t<tr><td>4</td><td>2019-M020</td><td>Brisbane</td><td>Hard</td><td>32</td><td>A</td><td>20181231</td><td>296</td><td>106421</td><td>4 </td><td>⋯</td><td>56</td><td>46</td><td>19</td><td>15</td><td> 2</td><td> 4</td><td> 16</td><td>1977</td><td> 18</td><td>1855</td></tr>\n",
       "\t<tr><td>5</td><td>2019-M020</td><td>Brisbane</td><td>Hard</td><td>32</td><td>A</td><td>20181231</td><td>295</td><td>104871</td><td>NA</td><td>⋯</td><td>54</td><td>40</td><td>18</td><td>15</td><td> 6</td><td> 9</td><td> 40</td><td>1050</td><td>185</td><td> 275</td></tr>\n",
       "</tbody>\n",
       "</table>\n"
      ],
      "text/latex": [
       "A tibble: 6 × 50\n",
       "\\begin{tabular}{lllllllllllllllllllll}\n",
       " X1 & tourney\\_id & tourney\\_name & surface & draw\\_size & tourney\\_level & tourney\\_date & match\\_num & winner\\_id & winner\\_seed & ⋯ & l\\_1stIn & l\\_1stWon & l\\_2ndWon & l\\_SvGms & l\\_bpSaved & l\\_bpFaced & winner\\_rank & winner\\_rank\\_points & loser\\_rank & loser\\_rank\\_points\\\\\n",
       " <dbl> & <chr> & <chr> & <chr> & <dbl> & <chr> & <dbl> & <dbl> & <dbl> & <chr> & ⋯ & <dbl> & <dbl> & <dbl> & <dbl> & <dbl> & <dbl> & <dbl> & <dbl> & <dbl> & <dbl>\\\\\n",
       "\\hline\n",
       "\t 0 & 2019-M020 & Brisbane & Hard & 32 & A & 20181231 & 300 & 105453 & 2  & ⋯ & 54 & 34 & 20 & 14 & 10 & 15 &   9 & 3590 &  16 & 1977\\\\\n",
       "\t 1 & 2019-M020 & Brisbane & Hard & 32 & A & 20181231 & 299 & 106421 & 4  & ⋯ & 52 & 36 &  7 & 10 & 10 & 13 &  16 & 1977 & 239 &  200\\\\\n",
       "\t 2 & 2019-M020 & Brisbane & Hard & 32 & A & 20181231 & 298 & 105453 & 2  & ⋯ & 27 & 15 &  6 &  8 &  1 &  5 &   9 & 3590 &  40 & 1050\\\\\n",
       "\t 3 & 2019-M020 & Brisbane & Hard & 32 & A & 20181231 & 297 & 104542 & NA & ⋯ & 60 & 38 &  9 & 11 &  4 &  6 & 239 &  200 &  31 & 1298\\\\\n",
       "\t 4 & 2019-M020 & Brisbane & Hard & 32 & A & 20181231 & 296 & 106421 & 4  & ⋯ & 56 & 46 & 19 & 15 &  2 &  4 &  16 & 1977 &  18 & 1855\\\\\n",
       "\t 5 & 2019-M020 & Brisbane & Hard & 32 & A & 20181231 & 295 & 104871 & NA & ⋯ & 54 & 40 & 18 & 15 &  6 &  9 &  40 & 1050 & 185 &  275\\\\\n",
       "\\end{tabular}\n"
      ],
      "text/markdown": [
       "\n",
       "A tibble: 6 × 50\n",
       "\n",
       "| X1 &lt;dbl&gt; | tourney_id &lt;chr&gt; | tourney_name &lt;chr&gt; | surface &lt;chr&gt; | draw_size &lt;dbl&gt; | tourney_level &lt;chr&gt; | tourney_date &lt;dbl&gt; | match_num &lt;dbl&gt; | winner_id &lt;dbl&gt; | winner_seed &lt;chr&gt; | ⋯ ⋯ | l_1stIn &lt;dbl&gt; | l_1stWon &lt;dbl&gt; | l_2ndWon &lt;dbl&gt; | l_SvGms &lt;dbl&gt; | l_bpSaved &lt;dbl&gt; | l_bpFaced &lt;dbl&gt; | winner_rank &lt;dbl&gt; | winner_rank_points &lt;dbl&gt; | loser_rank &lt;dbl&gt; | loser_rank_points &lt;dbl&gt; |\n",
       "|---|---|---|---|---|---|---|---|---|---|---|---|---|---|---|---|---|---|---|---|---|\n",
       "| 0 | 2019-M020 | Brisbane | Hard | 32 | A | 20181231 | 300 | 105453 | 2  | ⋯ | 54 | 34 | 20 | 14 | 10 | 15 |   9 | 3590 |  16 | 1977 |\n",
       "| 1 | 2019-M020 | Brisbane | Hard | 32 | A | 20181231 | 299 | 106421 | 4  | ⋯ | 52 | 36 |  7 | 10 | 10 | 13 |  16 | 1977 | 239 |  200 |\n",
       "| 2 | 2019-M020 | Brisbane | Hard | 32 | A | 20181231 | 298 | 105453 | 2  | ⋯ | 27 | 15 |  6 |  8 |  1 |  5 |   9 | 3590 |  40 | 1050 |\n",
       "| 3 | 2019-M020 | Brisbane | Hard | 32 | A | 20181231 | 297 | 104542 | NA | ⋯ | 60 | 38 |  9 | 11 |  4 |  6 | 239 |  200 |  31 | 1298 |\n",
       "| 4 | 2019-M020 | Brisbane | Hard | 32 | A | 20181231 | 296 | 106421 | 4  | ⋯ | 56 | 46 | 19 | 15 |  2 |  4 |  16 | 1977 |  18 | 1855 |\n",
       "| 5 | 2019-M020 | Brisbane | Hard | 32 | A | 20181231 | 295 | 104871 | NA | ⋯ | 54 | 40 | 18 | 15 |  6 |  9 |  40 | 1050 | 185 |  275 |\n",
       "\n"
      ],
      "text/plain": [
       "  X1 tourney_id tourney_name surface draw_size tourney_level tourney_date\n",
       "1 0  2019-M020  Brisbane     Hard    32        A             20181231    \n",
       "2 1  2019-M020  Brisbane     Hard    32        A             20181231    \n",
       "3 2  2019-M020  Brisbane     Hard    32        A             20181231    \n",
       "4 3  2019-M020  Brisbane     Hard    32        A             20181231    \n",
       "5 4  2019-M020  Brisbane     Hard    32        A             20181231    \n",
       "6 5  2019-M020  Brisbane     Hard    32        A             20181231    \n",
       "  match_num winner_id winner_seed ⋯ l_1stIn l_1stWon l_2ndWon l_SvGms l_bpSaved\n",
       "1 300       105453    2           ⋯ 54      34       20       14      10       \n",
       "2 299       106421    4           ⋯ 52      36        7       10      10       \n",
       "3 298       105453    2           ⋯ 27      15        6        8       1       \n",
       "4 297       104542    NA          ⋯ 60      38        9       11       4       \n",
       "5 296       106421    4           ⋯ 56      46       19       15       2       \n",
       "6 295       104871    NA          ⋯ 54      40       18       15       6       \n",
       "  l_bpFaced winner_rank winner_rank_points loser_rank loser_rank_points\n",
       "1 15          9         3590                16        1977             \n",
       "2 13         16         1977               239         200             \n",
       "3  5          9         3590                40        1050             \n",
       "4  6        239          200                31        1298             \n",
       "5  4         16         1977                18        1855             \n",
       "6  9         40         1050               185         275             "
      ]
     },
     "metadata": {},
     "output_type": "display_data"
    }
   ],
   "source": [
    "atp_data_frame <- read_csv(\"https://drive.google.com/uc?export=download&id=1fOQ8sy_qMkQiQEAO6uFdRX4tLI8EpSTn\")\n",
    "head(atp_data_frame)"
   ]
  },
  {
   "cell_type": "code",
   "execution_count": 59,
   "metadata": {},
   "outputs": [
    {
     "name": "stderr",
     "output_type": "stream",
     "text": [
      "Warning message:\n",
      "“Expected 2 pieces. Additional pieces discarded in 8 rows [1, 2, 7, 8, 9, 10, 11, 12].”\n"
     ]
    },
    {
     "data": {
      "text/html": [
       "<table>\n",
       "<caption>A tibble: 1090 × 7</caption>\n",
       "<thead>\n",
       "\t<tr><th scope=col>status</th><th scope=col>rank_point</th><th scope=col>player_age</th><th scope=col>player_height</th><th scope=col>breakpoint_saving_rate</th><th scope=col>second_serve_win_rate</th><th scope=col>double_fault_rate</th></tr>\n",
       "\t<tr><th scope=col>&lt;chr&gt;</th><th scope=col>&lt;dbl&gt;</th><th scope=col>&lt;dbl&gt;</th><th scope=col>&lt;dbl&gt;</th><th scope=col>&lt;dbl&gt;</th><th scope=col>&lt;dbl&gt;</th><th scope=col>&lt;dbl&gt;</th></tr>\n",
       "</thead>\n",
       "<tbody>\n",
       "\t<tr><td>winner</td><td> 823</td><td>28.24367</td><td>193</td><td>0.8000000</td><td>0.1704545</td><td>0.034090909</td></tr>\n",
       "\t<tr><td>loser </td><td> 525</td><td>32.75838</td><td>190</td><td>0.0000000</td><td>0.1710526</td><td>0.039473684</td></tr>\n",
       "\t<tr><td>winner</td><td>1017</td><td>29.79329</td><td>185</td><td>0.6923077</td><td>0.1864407</td><td>0.005649718</td></tr>\n",
       "\t<tr><td>⋮</td><td>⋮</td><td>⋮</td><td>⋮</td><td>⋮</td><td>⋮</td><td>⋮</td></tr>\n",
       "\t<tr><td>loser </td><td>1460</td><td>28.92813</td><td>198</td><td>0.5384615</td><td>0.09473684</td><td>0.042105263</td></tr>\n",
       "\t<tr><td>winner</td><td>1360</td><td>31.27995</td><td>203</td><td>0.5000000</td><td>0.20388350</td><td>0.009708738</td></tr>\n",
       "\t<tr><td>loser </td><td>2225</td><td>26.13005</td><td>188</td><td>0.7142857</td><td>0.15277778</td><td>0.013888889</td></tr>\n",
       "</tbody>\n",
       "</table>\n"
      ],
      "text/latex": [
       "A tibble: 1090 × 7\n",
       "\\begin{tabular}{lllllll}\n",
       " status & rank\\_point & player\\_age & player\\_height & breakpoint\\_saving\\_rate & second\\_serve\\_win\\_rate & double\\_fault\\_rate\\\\\n",
       " <chr> & <dbl> & <dbl> & <dbl> & <dbl> & <dbl> & <dbl>\\\\\n",
       "\\hline\n",
       "\t winner &  823 & 28.24367 & 193 & 0.8000000 & 0.1704545 & 0.034090909\\\\\n",
       "\t loser  &  525 & 32.75838 & 190 & 0.0000000 & 0.1710526 & 0.039473684\\\\\n",
       "\t winner & 1017 & 29.79329 & 185 & 0.6923077 & 0.1864407 & 0.005649718\\\\\n",
       "\t ⋮ & ⋮ & ⋮ & ⋮ & ⋮ & ⋮ & ⋮\\\\\n",
       "\t loser  & 1460 & 28.92813 & 198 & 0.5384615 & 0.09473684 & 0.042105263\\\\\n",
       "\t winner & 1360 & 31.27995 & 203 & 0.5000000 & 0.20388350 & 0.009708738\\\\\n",
       "\t loser  & 2225 & 26.13005 & 188 & 0.7142857 & 0.15277778 & 0.013888889\\\\\n",
       "\\end{tabular}\n"
      ],
      "text/markdown": [
       "\n",
       "A tibble: 1090 × 7\n",
       "\n",
       "| status &lt;chr&gt; | rank_point &lt;dbl&gt; | player_age &lt;dbl&gt; | player_height &lt;dbl&gt; | breakpoint_saving_rate &lt;dbl&gt; | second_serve_win_rate &lt;dbl&gt; | double_fault_rate &lt;dbl&gt; |\n",
       "|---|---|---|---|---|---|---|\n",
       "| winner |  823 | 28.24367 | 193 | 0.8000000 | 0.1704545 | 0.034090909 |\n",
       "| loser  |  525 | 32.75838 | 190 | 0.0000000 | 0.1710526 | 0.039473684 |\n",
       "| winner | 1017 | 29.79329 | 185 | 0.6923077 | 0.1864407 | 0.005649718 |\n",
       "| ⋮ | ⋮ | ⋮ | ⋮ | ⋮ | ⋮ | ⋮ |\n",
       "| loser  | 1460 | 28.92813 | 198 | 0.5384615 | 0.09473684 | 0.042105263 |\n",
       "| winner | 1360 | 31.27995 | 203 | 0.5000000 | 0.20388350 | 0.009708738 |\n",
       "| loser  | 2225 | 26.13005 | 188 | 0.7142857 | 0.15277778 | 0.013888889 |\n",
       "\n"
      ],
      "text/plain": [
       "     status rank_point player_age player_height breakpoint_saving_rate\n",
       "1    winner  823       28.24367   193           0.8000000             \n",
       "2    loser   525       32.75838   190           0.0000000             \n",
       "3    winner 1017       29.79329   185           0.6923077             \n",
       "⋮    ⋮      ⋮          ⋮          ⋮             ⋮                     \n",
       "1088 loser  1460       28.92813   198           0.5384615             \n",
       "1089 winner 1360       31.27995   203           0.5000000             \n",
       "1090 loser  2225       26.13005   188           0.7142857             \n",
       "     second_serve_win_rate double_fault_rate\n",
       "1    0.1704545             0.034090909      \n",
       "2    0.1710526             0.039473684      \n",
       "3    0.1864407             0.005649718      \n",
       "⋮    ⋮                     ⋮                \n",
       "1088 0.09473684            0.042105263      \n",
       "1089 0.20388350            0.009708738      \n",
       "1090 0.15277778            0.013888889      "
      ]
     },
     "metadata": {},
     "output_type": "display_data"
    }
   ],
   "source": [
    "## here is all my work for analysis, most of them are abandoned, I just leave them here in case.\n",
    "\n",
    "# draft1.1\n",
    "# data_break_point <- atp_data_frame %>%\n",
    "#     filter(surface == \"Hard\" ,tourney_level == \"G\", draw_size == 128) %>%\n",
    "#     select(minutes,w_bpSaved,w_bpFaced,winner_rank_points,l_bpSaved,l_bpFaced,loser_rank_points,winner_age, loser_age, ) %>%\n",
    "#     mutate(w_bd_save_pr = w_bpSaved/w_bpFaced,l_bd_save_pr = l_bpSaved/l_bpFaced)\n",
    "# data_break_point\n",
    "\n",
    "# data_break_plot <- data_break_point %>%\n",
    "#     ggplot(aes(x = winner_rank_points, y = w_bd_save_pr)) +\n",
    "#     geom_point() +\n",
    "#     labs(x = \"rank point\" , y = \"proportion of save break points\") +\n",
    "#     theme( text = element_text(size = 20))\n",
    "# data_break_plot\n",
    "\n",
    "\n",
    "# draft1.2\n",
    "# data_break_point <- atp_data_frame %>%\n",
    "#     filter(surface == \"Hard\",tourney_level == \"G\",draw_size == 128) %>%\n",
    "#     select(tourney_name,minutes,w_bpSaved,w_bpFaced,winner_rank_points,l_bpSaved,l_bpFaced,loser_rank_points,winner_age, loser_age, winner_ht,winner_rank,loser_rank) %>%\n",
    "#     mutate(w_bd_save_pr = w_bpSaved/w_bpFaced,l_bd_save_pr = l_bpSaved/l_bpFaced)\n",
    "# data_break_point\n",
    "\n",
    "# data_break_plot <- data_break_point %>%\n",
    "#     ggplot(aes(x = minutes, y = w_bpSaved)) +\n",
    "#     geom_point(aes(colour = tourney_name)) +\n",
    "#     labs(x = \"minutes\" , y = \"winner save break points number\", colour =\"tourney name\") +\n",
    "#     theme( text = element_text(size = 20))\n",
    "# data_break_plot\n",
    "\n",
    "\n",
    "\n",
    "# draft1.3\n",
    "# data_break_point <- atp_data_frame %>%\n",
    "#     filter(winner_hand == \"R\", loser_hand == \"R\",tourney_level == \"G\") %>%\n",
    "#     select(tourney_name,minutes,w_bpSaved,w_bpFaced,winner_rank_points,l_bpSaved,l_bpFaced,loser_rank_points,winner_age, loser_age, winner_ht,winner_rank,loser_rank) %>%\n",
    "#     mutate(w_bd_save_pr = w_bpSaved/w_bpFaced,l_bd_save_pr = l_bpSaved/l_bpFaced)\n",
    "# data_break_point\n",
    "\n",
    "# data_break_plot <- data_break_point %>%\n",
    "#     ggplot(aes(x = minutes, y = w_bpSaved)) +\n",
    "#     geom_point(aes(colour = tourney_name)) +\n",
    "#     labs(x = \"minutes\" , y = \"winner save break points number\", colour =\"tourney name\") +\n",
    "#     theme( text = element_text(size = 20))\n",
    "# data_break_plot\n",
    "\n",
    "\n",
    "# draft1.4\n",
    "# data_break_point <- atp_data_frame %>%\n",
    "#     filter(surface == \"Hard\",tourney_level == \"G\",draw_size == 128) %>%\n",
    "#     select(tourney_name,minutes,w_bpSaved,w_bpFaced,winner_rank_points,l_bpSaved,l_bpFaced,loser_rank_points,winner_age, loser_age, winner_ht,winner_rank,loser_rank) %>%\n",
    "#     mutate(w_bd_save_pr = w_bpSaved/w_bpFaced,l_bd_save_pr = l_bpSaved/l_bpFaced)\n",
    "# data_break_point\n",
    "\n",
    "# data_break_plot <- data_break_point %>%\n",
    "#     ggplot(aes(x = minutes, y = w_bpSaved)) +\n",
    "#     geom_point(aes(colour = tourney_name)) +\n",
    "#     labs(x = \"minutes\" , y = \"winner save break points number\", colour =\"tourney name\") +\n",
    "#     theme( text = element_text(size = 20))\n",
    "# data_break_plot\n",
    "\n",
    "\n",
    "# draft2.1\n",
    "# data_filtered <- atp_data_frame %>%\n",
    "#     filter(tourney_level == \"G\")\n",
    "# hi_ace_wins = nrow(filter(atp_data_frame, w_ace > l_ace))\n",
    "# lo_ace_wins = nrow(filter(atp_data_frame, w_ace < l_ace))\n",
    "# total_win = hi_ace_wins + lo_ace_wins\n",
    "# hi_ace_win_pct = hi_ace_wins/total_win\n",
    "# hi_ace_win_pct\n",
    "\n",
    "\n",
    "\n",
    "# data_second_serve_pct <-atp_data_frame %>%\n",
    "#     filter(tourney_level == \"G\") %>%\n",
    "#     mutate(second_serve_win_pct_winner = w_2ndWon / w_svpt, second_serve_win_pct_loser = l_2ndWon / l_svpt)\n",
    "# hi_ssw_wins = nrow(filter(data_second_serve_pct, second_serve_win_pct_winner > second_serve_win_pct_loser))\n",
    "# lo_ssw_wins = nrow(filter(data_second_serve_pct, second_serve_win_pct_winner < second_serve_win_pct_loser))\n",
    "# total_win = hi_ssw_wins + lo_ssw_wins\n",
    "# hi_ssw_win_pct = hi_ssw_wins/total_win\n",
    "# hi_ssw_win_pct\n",
    "\n",
    "\n",
    "# data_break_plot <- data_break_point %>%\n",
    "#     ggplot(aes(x = minutes, y = proportion)) +\n",
    "#     geom_point(aes(colour = state)) +\n",
    "#     labs(x = \"match length(min)\" , y = \"proportion of save break points\", colour = \"win/lose\") +\n",
    "#     theme( text = element_text(size = 20))\n",
    "# data_break_plot\n",
    "\n",
    "# data_break_point <- atp_data_frame %>%\n",
    "#     filter(tourney_level == \"G\") %>%\n",
    "#     select(minutes,w_bpSaved,w_bpFaced,winner_rank_points,l_bpSaved,l_bpFaced,loser_rank_points,winner_age, loser_age,winner_ht,loser_ht,w_2ndWon,w_svpt,l_2ndWon,l_svpt) %>%\n",
    "#     mutate(winner = w_bpSaved/w_bpFaced, loser = l_bpSaved/l_bpFaced,second_serve_win_pct_winner = w_2ndWon / w_svpt, second_serve_win_pct_loser = l_2ndWon / l_svpt) %>%\n",
    "#     pivot_longer(cols = winner:loser,\n",
    "#                 names_to = \"state\",\n",
    "#                 values_to = \"break_point_proportion\")\n",
    "# data_break_point\n",
    "\n",
    "stat_matter <- atp_data_frame %>%\n",
    "    filter(tourney_level == \"G\") %>%\n",
    "    select(minutes,w_bpSaved,w_bpFaced,winner_rank_points,l_bpSaved,l_bpFaced,loser_rank_points,winner_age, loser_age,winner_ht,loser_ht,w_2ndWon,w_svpt,l_2ndWon,l_svpt,w_ace,l_ace,w_df,l_df) %>%\n",
    "    mutate(\n",
    "           winner_breakpoint_saved_pct = w_bpSaved/w_bpFaced, \n",
    "           loser_breakpoint_saved_pct = l_bpSaved/l_bpFaced, \n",
    "           winner_second_serve_win_pct = w_2ndWon / w_svpt, \n",
    "           loser_second_serve_win_pct = l_2ndWon / l_svpt,\n",
    "           winner_df_pct = w_df / w_svpt,\n",
    "           loser_df_pct = l_df / l_svpt) %>%\n",
    "    select(winner_rank_points,loser_rank_points,winner_age,loser_age,winner_ht,loser_ht,winner_breakpoint_saved_pct,loser_breakpoint_saved_pct,winner_second_serve_win_pct,loser_second_serve_win_pct,winner_df_pct,loser_df_pct) %>%\n",
    "    drop_na() %>%\n",
    "    pivot_longer(cols = winner_rank_points:loser_df_pct,\n",
    "    names_to = c( \"status\", \".value\"), \n",
    "    names_sep = \"_\")\n",
    "colnames(stat_matter) <- c(\"status\",\"rank_point\",\"player_age\",\"player_height\",\"breakpoint_saving_rate\",\"second_serve_win_rate\",\"double_fault_rate\")\n",
    "stat_matter\n",
    "\n"
   ]
  },
  {
   "cell_type": "code",
   "execution_count": 63,
   "metadata": {},
   "outputs": [],
   "source": [
    "# draft predication:\n",
    "knn_spec <- nearest_neighbor(weight_func = \"rectangular\", neighbors = 5) %>%\n",
    "      set_engine(\"kknn\") %>%\n",
    "      set_mode(\"classification\")\n",
    "\n",
    "tennis_recipe <- recipe(status ~ ., data = stat_matter) %>%\n",
    "                       step_scale(all_predictors()) %>%\n",
    "                       step_center(all_predictors())\n",
    "\n",
    "tennis_fit <- workflow() %>%\n",
    "         add_recipe(tennis_recipe) %>%\n",
    "         add_model(knn_spec) %>%\n",
    "         fit(data = stat_matter)"
   ]
  },
  {
   "cell_type": "code",
   "execution_count": 64,
   "metadata": {},
   "outputs": [
    {
     "data": {
      "text/html": [
       "<table>\n",
       "<caption>A tibble: 1 × 1</caption>\n",
       "<thead>\n",
       "\t<tr><th scope=col>.pred_class</th></tr>\n",
       "\t<tr><th scope=col>&lt;fct&gt;</th></tr>\n",
       "</thead>\n",
       "<tbody>\n",
       "\t<tr><td>winner</td></tr>\n",
       "</tbody>\n",
       "</table>\n"
      ],
      "text/latex": [
       "A tibble: 1 × 1\n",
       "\\begin{tabular}{l}\n",
       " .pred\\_class\\\\\n",
       " <fct>\\\\\n",
       "\\hline\n",
       "\t winner\\\\\n",
       "\\end{tabular}\n"
      ],
      "text/markdown": [
       "\n",
       "A tibble: 1 × 1\n",
       "\n",
       "| .pred_class &lt;fct&gt; |\n",
       "|---|\n",
       "| winner |\n",
       "\n"
      ],
      "text/plain": [
       "  .pred_class\n",
       "1 winner     "
      ]
     },
     "metadata": {},
     "output_type": "display_data"
    }
   ],
   "source": [
    "supper_man <- tibble(rank_point = 1000, \n",
    "                     player_age = 30,\n",
    "                     player_height = 188 ,\n",
    "                     breakpoint_saving_rate = 0.9,\n",
    "                     second_serve_win_rate = 0.2,\n",
    "                     double_fault_rate = 0.01)\n",
    "tennis_predicted <-predict(tennis_fit, supper_man)\n",
    "tennis_predicted"
   ]
  },
  {
   "cell_type": "markdown",
   "metadata": {},
   "source": [
    "## Preliminary exploratory data analysis  \n",
    "read  \n",
    "wrangle  \n",
    "summarize(into at least one table)   \n",
    "visualize (at least one plot)  "
   ]
  },
  {
   "cell_type": "markdown",
   "metadata": {},
   "source": [
    "## Method  \n",
    "1). explain how we will conduct data analysis  \n",
    "2). describe how we will visualize result"
   ]
  },
  {
   "cell_type": "markdown",
   "metadata": {},
   "source": [
    "## Expected outcomes and significance  "
   ]
  },
  {
   "cell_type": "code",
   "execution_count": null,
   "metadata": {},
   "outputs": [],
   "source": []
  },
  {
   "cell_type": "code",
   "execution_count": null,
   "metadata": {},
   "outputs": [],
   "source": []
  }
 ],
 "metadata": {
  "kernelspec": {
   "display_name": "R",
   "language": "R",
   "name": "ir"
  },
  "language_info": {
   "codemirror_mode": "r",
   "file_extension": ".r",
   "mimetype": "text/x-r-source",
   "name": "R",
   "pygments_lexer": "r",
   "version": "4.0.0"
  }
 },
 "nbformat": 4,
 "nbformat_minor": 4
}
