{
 "cells": [
  {
   "cell_type": "code",
   "execution_count": 1,
   "metadata": {},
   "outputs": [
    {
     "name": "stderr",
     "output_type": "stream",
     "text": [
      "── \u001b[1mAttaching packages\u001b[22m ─────────────────────────────────────── tidyverse 1.3.0 ──\n",
      "\n",
      "\u001b[32m✔\u001b[39m \u001b[34mggplot2\u001b[39m 3.3.2     \u001b[32m✔\u001b[39m \u001b[34mpurrr  \u001b[39m 0.3.4\n",
      "\u001b[32m✔\u001b[39m \u001b[34mtibble \u001b[39m 3.0.3     \u001b[32m✔\u001b[39m \u001b[34mdplyr  \u001b[39m 1.0.2\n",
      "\u001b[32m✔\u001b[39m \u001b[34mtidyr  \u001b[39m 1.1.2     \u001b[32m✔\u001b[39m \u001b[34mstringr\u001b[39m 1.4.0\n",
      "\u001b[32m✔\u001b[39m \u001b[34mreadr  \u001b[39m 1.3.1     \u001b[32m✔\u001b[39m \u001b[34mforcats\u001b[39m 0.5.0\n",
      "\n",
      "Warning message:\n",
      "“package ‘ggplot2’ was built under R version 4.0.1”\n",
      "Warning message:\n",
      "“package ‘tibble’ was built under R version 4.0.2”\n",
      "Warning message:\n",
      "“package ‘tidyr’ was built under R version 4.0.2”\n",
      "Warning message:\n",
      "“package ‘dplyr’ was built under R version 4.0.2”\n",
      "── \u001b[1mConflicts\u001b[22m ────────────────────────────────────────── tidyverse_conflicts() ──\n",
      "\u001b[31m✖\u001b[39m \u001b[34mdplyr\u001b[39m::\u001b[32mfilter()\u001b[39m masks \u001b[34mstats\u001b[39m::filter()\n",
      "\u001b[31m✖\u001b[39m \u001b[34mdplyr\u001b[39m::\u001b[32mlag()\u001b[39m    masks \u001b[34mstats\u001b[39m::lag()\n",
      "\n",
      "Warning message:\n",
      "“package ‘tidymodels’ was built under R version 4.0.2”\n",
      "── \u001b[1mAttaching packages\u001b[22m ────────────────────────────────────── tidymodels 0.1.1 ──\n",
      "\n",
      "\u001b[32m✔\u001b[39m \u001b[34mbroom    \u001b[39m 0.7.0      \u001b[32m✔\u001b[39m \u001b[34mrecipes  \u001b[39m 0.1.13\n",
      "\u001b[32m✔\u001b[39m \u001b[34mdials    \u001b[39m 0.0.9      \u001b[32m✔\u001b[39m \u001b[34mrsample  \u001b[39m 0.0.7 \n",
      "\u001b[32m✔\u001b[39m \u001b[34minfer    \u001b[39m 0.5.4      \u001b[32m✔\u001b[39m \u001b[34mtune     \u001b[39m 0.1.1 \n",
      "\u001b[32m✔\u001b[39m \u001b[34mmodeldata\u001b[39m 0.0.2      \u001b[32m✔\u001b[39m \u001b[34mworkflows\u001b[39m 0.2.0 \n",
      "\u001b[32m✔\u001b[39m \u001b[34mparsnip  \u001b[39m 0.1.3      \u001b[32m✔\u001b[39m \u001b[34myardstick\u001b[39m 0.0.7 \n",
      "\n",
      "Warning message:\n",
      "“package ‘broom’ was built under R version 4.0.2”\n",
      "Warning message:\n",
      "“package ‘dials’ was built under R version 4.0.2”\n",
      "Warning message:\n",
      "“package ‘infer’ was built under R version 4.0.3”\n",
      "Warning message:\n",
      "“package ‘modeldata’ was built under R version 4.0.1”\n",
      "Warning message:\n",
      "“package ‘parsnip’ was built under R version 4.0.2”\n",
      "Warning message:\n",
      "“package ‘recipes’ was built under R version 4.0.1”\n",
      "Warning message:\n",
      "“package ‘tune’ was built under R version 4.0.2”\n",
      "Warning message:\n",
      "“package ‘workflows’ was built under R version 4.0.2”\n",
      "Warning message:\n",
      "“package ‘yardstick’ was built under R version 4.0.2”\n",
      "── \u001b[1mConflicts\u001b[22m ───────────────────────────────────────── tidymodels_conflicts() ──\n",
      "\u001b[31m✖\u001b[39m \u001b[34mscales\u001b[39m::\u001b[32mdiscard()\u001b[39m masks \u001b[34mpurrr\u001b[39m::discard()\n",
      "\u001b[31m✖\u001b[39m \u001b[34mdplyr\u001b[39m::\u001b[32mfilter()\u001b[39m   masks \u001b[34mstats\u001b[39m::filter()\n",
      "\u001b[31m✖\u001b[39m \u001b[34mrecipes\u001b[39m::\u001b[32mfixed()\u001b[39m  masks \u001b[34mstringr\u001b[39m::fixed()\n",
      "\u001b[31m✖\u001b[39m \u001b[34mdplyr\u001b[39m::\u001b[32mlag()\u001b[39m      masks \u001b[34mstats\u001b[39m::lag()\n",
      "\u001b[31m✖\u001b[39m \u001b[34myardstick\u001b[39m::\u001b[32mspec()\u001b[39m masks \u001b[34mreadr\u001b[39m::spec()\n",
      "\u001b[31m✖\u001b[39m \u001b[34mrecipes\u001b[39m::\u001b[32mstep()\u001b[39m   masks \u001b[34mstats\u001b[39m::step()\n",
      "\n",
      "Warning message:\n",
      "“package ‘rvest’ was built under R version 4.0.2”\n",
      "Loading required package: xml2\n",
      "\n",
      "\n",
      "Attaching package: ‘rvest’\n",
      "\n",
      "\n",
      "The following object is masked from ‘package:purrr’:\n",
      "\n",
      "    pluck\n",
      "\n",
      "\n",
      "The following object is masked from ‘package:readr’:\n",
      "\n",
      "    guess_encoding\n",
      "\n",
      "\n",
      "\n",
      "Attaching package: ‘dbplyr’\n",
      "\n",
      "\n",
      "The following objects are masked from ‘package:dplyr’:\n",
      "\n",
      "    ident, sql\n",
      "\n",
      "\n"
     ]
    }
   ],
   "source": [
    "library(tidyverse)\n",
    "library(repr)\n",
    "library(tidymodels)\n",
    "library(rvest)\n",
    "library(stringr)\n",
    "library(DBI)\n",
    "library(dbplyr)\n",
    "options(repr.matrix.max.rows = 6)"
   ]
  },
  {
   "cell_type": "markdown",
   "metadata": {},
   "source": [
    "# <span style=\"font-family:Papyrus; font-size:4em;\">Title</span>"
   ]
  },
  {
   "cell_type": "markdown",
   "metadata": {},
   "source": [
    "## Introduction  \n",
    "1). background information  \n",
    "2). the question we will ask (one and one only)  \n",
    "3). identify and describe the **data set** we will use to answer the quetsion  "
   ]
  },
  {
   "cell_type": "code",
   "execution_count": 2,
   "metadata": {},
   "outputs": [
    {
     "name": "stderr",
     "output_type": "stream",
     "text": [
      "Warning message:\n",
      "“Missing column names filled in: 'X1' [1]”\n",
      "Parsed with column specification:\n",
      "cols(\n",
      "  .default = col_double(),\n",
      "  tourney_id = \u001b[31mcol_character()\u001b[39m,\n",
      "  tourney_name = \u001b[31mcol_character()\u001b[39m,\n",
      "  surface = \u001b[31mcol_character()\u001b[39m,\n",
      "  tourney_level = \u001b[31mcol_character()\u001b[39m,\n",
      "  winner_seed = \u001b[31mcol_character()\u001b[39m,\n",
      "  winner_entry = \u001b[31mcol_character()\u001b[39m,\n",
      "  winner_name = \u001b[31mcol_character()\u001b[39m,\n",
      "  winner_hand = \u001b[31mcol_character()\u001b[39m,\n",
      "  winner_ioc = \u001b[31mcol_character()\u001b[39m,\n",
      "  loser_seed = \u001b[31mcol_character()\u001b[39m,\n",
      "  loser_entry = \u001b[31mcol_character()\u001b[39m,\n",
      "  loser_name = \u001b[31mcol_character()\u001b[39m,\n",
      "  loser_hand = \u001b[31mcol_character()\u001b[39m,\n",
      "  loser_ioc = \u001b[31mcol_character()\u001b[39m,\n",
      "  score = \u001b[31mcol_character()\u001b[39m,\n",
      "  round = \u001b[31mcol_character()\u001b[39m\n",
      ")\n",
      "\n",
      "See spec(...) for full column specifications.\n",
      "\n"
     ]
    },
    {
     "data": {
      "text/html": [
       "<table>\n",
       "<caption>A tibble: 6 × 50</caption>\n",
       "<thead>\n",
       "\t<tr><th scope=col>X1</th><th scope=col>tourney_id</th><th scope=col>tourney_name</th><th scope=col>surface</th><th scope=col>draw_size</th><th scope=col>tourney_level</th><th scope=col>tourney_date</th><th scope=col>match_num</th><th scope=col>winner_id</th><th scope=col>winner_seed</th><th scope=col>⋯</th><th scope=col>l_1stIn</th><th scope=col>l_1stWon</th><th scope=col>l_2ndWon</th><th scope=col>l_SvGms</th><th scope=col>l_bpSaved</th><th scope=col>l_bpFaced</th><th scope=col>winner_rank</th><th scope=col>winner_rank_points</th><th scope=col>loser_rank</th><th scope=col>loser_rank_points</th></tr>\n",
       "\t<tr><th scope=col>&lt;dbl&gt;</th><th scope=col>&lt;chr&gt;</th><th scope=col>&lt;chr&gt;</th><th scope=col>&lt;chr&gt;</th><th scope=col>&lt;dbl&gt;</th><th scope=col>&lt;chr&gt;</th><th scope=col>&lt;dbl&gt;</th><th scope=col>&lt;dbl&gt;</th><th scope=col>&lt;dbl&gt;</th><th scope=col>&lt;chr&gt;</th><th scope=col>⋯</th><th scope=col>&lt;dbl&gt;</th><th scope=col>&lt;dbl&gt;</th><th scope=col>&lt;dbl&gt;</th><th scope=col>&lt;dbl&gt;</th><th scope=col>&lt;dbl&gt;</th><th scope=col>&lt;dbl&gt;</th><th scope=col>&lt;dbl&gt;</th><th scope=col>&lt;dbl&gt;</th><th scope=col>&lt;dbl&gt;</th><th scope=col>&lt;dbl&gt;</th></tr>\n",
       "</thead>\n",
       "<tbody>\n",
       "\t<tr><td>0</td><td>2019-M020</td><td>Brisbane</td><td>Hard</td><td>32</td><td>A</td><td>20181231</td><td>300</td><td>105453</td><td>2 </td><td>⋯</td><td>54</td><td>34</td><td>20</td><td>14</td><td>10</td><td>15</td><td>  9</td><td>3590</td><td> 16</td><td>1977</td></tr>\n",
       "\t<tr><td>1</td><td>2019-M020</td><td>Brisbane</td><td>Hard</td><td>32</td><td>A</td><td>20181231</td><td>299</td><td>106421</td><td>4 </td><td>⋯</td><td>52</td><td>36</td><td> 7</td><td>10</td><td>10</td><td>13</td><td> 16</td><td>1977</td><td>239</td><td> 200</td></tr>\n",
       "\t<tr><td>2</td><td>2019-M020</td><td>Brisbane</td><td>Hard</td><td>32</td><td>A</td><td>20181231</td><td>298</td><td>105453</td><td>2 </td><td>⋯</td><td>27</td><td>15</td><td> 6</td><td> 8</td><td> 1</td><td> 5</td><td>  9</td><td>3590</td><td> 40</td><td>1050</td></tr>\n",
       "\t<tr><td>3</td><td>2019-M020</td><td>Brisbane</td><td>Hard</td><td>32</td><td>A</td><td>20181231</td><td>297</td><td>104542</td><td>NA</td><td>⋯</td><td>60</td><td>38</td><td> 9</td><td>11</td><td> 4</td><td> 6</td><td>239</td><td> 200</td><td> 31</td><td>1298</td></tr>\n",
       "\t<tr><td>4</td><td>2019-M020</td><td>Brisbane</td><td>Hard</td><td>32</td><td>A</td><td>20181231</td><td>296</td><td>106421</td><td>4 </td><td>⋯</td><td>56</td><td>46</td><td>19</td><td>15</td><td> 2</td><td> 4</td><td> 16</td><td>1977</td><td> 18</td><td>1855</td></tr>\n",
       "\t<tr><td>5</td><td>2019-M020</td><td>Brisbane</td><td>Hard</td><td>32</td><td>A</td><td>20181231</td><td>295</td><td>104871</td><td>NA</td><td>⋯</td><td>54</td><td>40</td><td>18</td><td>15</td><td> 6</td><td> 9</td><td> 40</td><td>1050</td><td>185</td><td> 275</td></tr>\n",
       "</tbody>\n",
       "</table>\n"
      ],
      "text/latex": [
       "A tibble: 6 × 50\n",
       "\\begin{tabular}{lllllllllllllllllllll}\n",
       " X1 & tourney\\_id & tourney\\_name & surface & draw\\_size & tourney\\_level & tourney\\_date & match\\_num & winner\\_id & winner\\_seed & ⋯ & l\\_1stIn & l\\_1stWon & l\\_2ndWon & l\\_SvGms & l\\_bpSaved & l\\_bpFaced & winner\\_rank & winner\\_rank\\_points & loser\\_rank & loser\\_rank\\_points\\\\\n",
       " <dbl> & <chr> & <chr> & <chr> & <dbl> & <chr> & <dbl> & <dbl> & <dbl> & <chr> & ⋯ & <dbl> & <dbl> & <dbl> & <dbl> & <dbl> & <dbl> & <dbl> & <dbl> & <dbl> & <dbl>\\\\\n",
       "\\hline\n",
       "\t 0 & 2019-M020 & Brisbane & Hard & 32 & A & 20181231 & 300 & 105453 & 2  & ⋯ & 54 & 34 & 20 & 14 & 10 & 15 &   9 & 3590 &  16 & 1977\\\\\n",
       "\t 1 & 2019-M020 & Brisbane & Hard & 32 & A & 20181231 & 299 & 106421 & 4  & ⋯ & 52 & 36 &  7 & 10 & 10 & 13 &  16 & 1977 & 239 &  200\\\\\n",
       "\t 2 & 2019-M020 & Brisbane & Hard & 32 & A & 20181231 & 298 & 105453 & 2  & ⋯ & 27 & 15 &  6 &  8 &  1 &  5 &   9 & 3590 &  40 & 1050\\\\\n",
       "\t 3 & 2019-M020 & Brisbane & Hard & 32 & A & 20181231 & 297 & 104542 & NA & ⋯ & 60 & 38 &  9 & 11 &  4 &  6 & 239 &  200 &  31 & 1298\\\\\n",
       "\t 4 & 2019-M020 & Brisbane & Hard & 32 & A & 20181231 & 296 & 106421 & 4  & ⋯ & 56 & 46 & 19 & 15 &  2 &  4 &  16 & 1977 &  18 & 1855\\\\\n",
       "\t 5 & 2019-M020 & Brisbane & Hard & 32 & A & 20181231 & 295 & 104871 & NA & ⋯ & 54 & 40 & 18 & 15 &  6 &  9 &  40 & 1050 & 185 &  275\\\\\n",
       "\\end{tabular}\n"
      ],
      "text/markdown": [
       "\n",
       "A tibble: 6 × 50\n",
       "\n",
       "| X1 &lt;dbl&gt; | tourney_id &lt;chr&gt; | tourney_name &lt;chr&gt; | surface &lt;chr&gt; | draw_size &lt;dbl&gt; | tourney_level &lt;chr&gt; | tourney_date &lt;dbl&gt; | match_num &lt;dbl&gt; | winner_id &lt;dbl&gt; | winner_seed &lt;chr&gt; | ⋯ ⋯ | l_1stIn &lt;dbl&gt; | l_1stWon &lt;dbl&gt; | l_2ndWon &lt;dbl&gt; | l_SvGms &lt;dbl&gt; | l_bpSaved &lt;dbl&gt; | l_bpFaced &lt;dbl&gt; | winner_rank &lt;dbl&gt; | winner_rank_points &lt;dbl&gt; | loser_rank &lt;dbl&gt; | loser_rank_points &lt;dbl&gt; |\n",
       "|---|---|---|---|---|---|---|---|---|---|---|---|---|---|---|---|---|---|---|---|---|\n",
       "| 0 | 2019-M020 | Brisbane | Hard | 32 | A | 20181231 | 300 | 105453 | 2  | ⋯ | 54 | 34 | 20 | 14 | 10 | 15 |   9 | 3590 |  16 | 1977 |\n",
       "| 1 | 2019-M020 | Brisbane | Hard | 32 | A | 20181231 | 299 | 106421 | 4  | ⋯ | 52 | 36 |  7 | 10 | 10 | 13 |  16 | 1977 | 239 |  200 |\n",
       "| 2 | 2019-M020 | Brisbane | Hard | 32 | A | 20181231 | 298 | 105453 | 2  | ⋯ | 27 | 15 |  6 |  8 |  1 |  5 |   9 | 3590 |  40 | 1050 |\n",
       "| 3 | 2019-M020 | Brisbane | Hard | 32 | A | 20181231 | 297 | 104542 | NA | ⋯ | 60 | 38 |  9 | 11 |  4 |  6 | 239 |  200 |  31 | 1298 |\n",
       "| 4 | 2019-M020 | Brisbane | Hard | 32 | A | 20181231 | 296 | 106421 | 4  | ⋯ | 56 | 46 | 19 | 15 |  2 |  4 |  16 | 1977 |  18 | 1855 |\n",
       "| 5 | 2019-M020 | Brisbane | Hard | 32 | A | 20181231 | 295 | 104871 | NA | ⋯ | 54 | 40 | 18 | 15 |  6 |  9 |  40 | 1050 | 185 |  275 |\n",
       "\n"
      ],
      "text/plain": [
       "  X1 tourney_id tourney_name surface draw_size tourney_level tourney_date\n",
       "1 0  2019-M020  Brisbane     Hard    32        A             20181231    \n",
       "2 1  2019-M020  Brisbane     Hard    32        A             20181231    \n",
       "3 2  2019-M020  Brisbane     Hard    32        A             20181231    \n",
       "4 3  2019-M020  Brisbane     Hard    32        A             20181231    \n",
       "5 4  2019-M020  Brisbane     Hard    32        A             20181231    \n",
       "6 5  2019-M020  Brisbane     Hard    32        A             20181231    \n",
       "  match_num winner_id winner_seed ⋯ l_1stIn l_1stWon l_2ndWon l_SvGms l_bpSaved\n",
       "1 300       105453    2           ⋯ 54      34       20       14      10       \n",
       "2 299       106421    4           ⋯ 52      36        7       10      10       \n",
       "3 298       105453    2           ⋯ 27      15        6        8       1       \n",
       "4 297       104542    NA          ⋯ 60      38        9       11       4       \n",
       "5 296       106421    4           ⋯ 56      46       19       15       2       \n",
       "6 295       104871    NA          ⋯ 54      40       18       15       6       \n",
       "  l_bpFaced winner_rank winner_rank_points loser_rank loser_rank_points\n",
       "1 15          9         3590                16        1977             \n",
       "2 13         16         1977               239         200             \n",
       "3  5          9         3590                40        1050             \n",
       "4  6        239          200                31        1298             \n",
       "5  4         16         1977                18        1855             \n",
       "6  9         40         1050               185         275             "
      ]
     },
     "metadata": {},
     "output_type": "display_data"
    }
   ],
   "source": [
    "atp_data_frame <- read_csv(\"https://drive.google.com/uc?export=download&id=1fOQ8sy_qMkQiQEAO6uFdRX4tLI8EpSTn\")\n",
    "head(atp_data_frame)"
   ]
  },
  {
   "cell_type": "code",
   "execution_count": 3,
   "metadata": {},
   "outputs": [
    {
     "name": "stderr",
     "output_type": "stream",
     "text": [
      "Warning message:\n",
      "“Expected 2 pieces. Additional pieces discarded in 8 rows [1, 2, 7, 8, 9, 10, 11, 12].”\n"
     ]
    },
    {
     "data": {
      "text/html": [
       "<table>\n",
       "<caption>A tibble: 1090 × 7</caption>\n",
       "<thead>\n",
       "\t<tr><th scope=col>status</th><th scope=col>rank_point</th><th scope=col>player_age</th><th scope=col>player_height</th><th scope=col>breakpoint_saving_rate</th><th scope=col>second_serve_win_rate</th><th scope=col>double_fault_rate</th></tr>\n",
       "\t<tr><th scope=col>&lt;chr&gt;</th><th scope=col>&lt;dbl&gt;</th><th scope=col>&lt;dbl&gt;</th><th scope=col>&lt;dbl&gt;</th><th scope=col>&lt;dbl&gt;</th><th scope=col>&lt;dbl&gt;</th><th scope=col>&lt;dbl&gt;</th></tr>\n",
       "</thead>\n",
       "<tbody>\n",
       "\t<tr><td>winner</td><td> 823</td><td>28.24367</td><td>193</td><td>0.8000000</td><td>0.1704545</td><td>0.034090909</td></tr>\n",
       "\t<tr><td>loser </td><td> 525</td><td>32.75838</td><td>190</td><td>0.0000000</td><td>0.1710526</td><td>0.039473684</td></tr>\n",
       "\t<tr><td>winner</td><td>1017</td><td>29.79329</td><td>185</td><td>0.6923077</td><td>0.1864407</td><td>0.005649718</td></tr>\n",
       "\t<tr><td>⋮</td><td>⋮</td><td>⋮</td><td>⋮</td><td>⋮</td><td>⋮</td><td>⋮</td></tr>\n",
       "\t<tr><td>loser </td><td>1460</td><td>28.92813</td><td>198</td><td>0.5384615</td><td>0.09473684</td><td>0.042105263</td></tr>\n",
       "\t<tr><td>winner</td><td>1360</td><td>31.27995</td><td>203</td><td>0.5000000</td><td>0.20388350</td><td>0.009708738</td></tr>\n",
       "\t<tr><td>loser </td><td>2225</td><td>26.13005</td><td>188</td><td>0.7142857</td><td>0.15277778</td><td>0.013888889</td></tr>\n",
       "</tbody>\n",
       "</table>\n"
      ],
      "text/latex": [
       "A tibble: 1090 × 7\n",
       "\\begin{tabular}{lllllll}\n",
       " status & rank\\_point & player\\_age & player\\_height & breakpoint\\_saving\\_rate & second\\_serve\\_win\\_rate & double\\_fault\\_rate\\\\\n",
       " <chr> & <dbl> & <dbl> & <dbl> & <dbl> & <dbl> & <dbl>\\\\\n",
       "\\hline\n",
       "\t winner &  823 & 28.24367 & 193 & 0.8000000 & 0.1704545 & 0.034090909\\\\\n",
       "\t loser  &  525 & 32.75838 & 190 & 0.0000000 & 0.1710526 & 0.039473684\\\\\n",
       "\t winner & 1017 & 29.79329 & 185 & 0.6923077 & 0.1864407 & 0.005649718\\\\\n",
       "\t ⋮ & ⋮ & ⋮ & ⋮ & ⋮ & ⋮ & ⋮\\\\\n",
       "\t loser  & 1460 & 28.92813 & 198 & 0.5384615 & 0.09473684 & 0.042105263\\\\\n",
       "\t winner & 1360 & 31.27995 & 203 & 0.5000000 & 0.20388350 & 0.009708738\\\\\n",
       "\t loser  & 2225 & 26.13005 & 188 & 0.7142857 & 0.15277778 & 0.013888889\\\\\n",
       "\\end{tabular}\n"
      ],
      "text/markdown": [
       "\n",
       "A tibble: 1090 × 7\n",
       "\n",
       "| status &lt;chr&gt; | rank_point &lt;dbl&gt; | player_age &lt;dbl&gt; | player_height &lt;dbl&gt; | breakpoint_saving_rate &lt;dbl&gt; | second_serve_win_rate &lt;dbl&gt; | double_fault_rate &lt;dbl&gt; |\n",
       "|---|---|---|---|---|---|---|\n",
       "| winner |  823 | 28.24367 | 193 | 0.8000000 | 0.1704545 | 0.034090909 |\n",
       "| loser  |  525 | 32.75838 | 190 | 0.0000000 | 0.1710526 | 0.039473684 |\n",
       "| winner | 1017 | 29.79329 | 185 | 0.6923077 | 0.1864407 | 0.005649718 |\n",
       "| ⋮ | ⋮ | ⋮ | ⋮ | ⋮ | ⋮ | ⋮ |\n",
       "| loser  | 1460 | 28.92813 | 198 | 0.5384615 | 0.09473684 | 0.042105263 |\n",
       "| winner | 1360 | 31.27995 | 203 | 0.5000000 | 0.20388350 | 0.009708738 |\n",
       "| loser  | 2225 | 26.13005 | 188 | 0.7142857 | 0.15277778 | 0.013888889 |\n",
       "\n"
      ],
      "text/plain": [
       "     status rank_point player_age player_height breakpoint_saving_rate\n",
       "1    winner  823       28.24367   193           0.8000000             \n",
       "2    loser   525       32.75838   190           0.0000000             \n",
       "3    winner 1017       29.79329   185           0.6923077             \n",
       "⋮    ⋮      ⋮          ⋮          ⋮             ⋮                     \n",
       "1088 loser  1460       28.92813   198           0.5384615             \n",
       "1089 winner 1360       31.27995   203           0.5000000             \n",
       "1090 loser  2225       26.13005   188           0.7142857             \n",
       "     second_serve_win_rate double_fault_rate\n",
       "1    0.1704545             0.034090909      \n",
       "2    0.1710526             0.039473684      \n",
       "3    0.1864407             0.005649718      \n",
       "⋮    ⋮                     ⋮                \n",
       "1088 0.09473684            0.042105263      \n",
       "1089 0.20388350            0.009708738      \n",
       "1090 0.15277778            0.013888889      "
      ]
     },
     "metadata": {},
     "output_type": "display_data"
    }
   ],
   "source": [
    "## here is all my work for analysis, most of them are abandoned, I just leave them here in case.\n",
    "\n",
    "# draft1.1\n",
    "# data_break_point <- atp_data_frame %>%\n",
    "#     filter(surface == \"Hard\" ,tourney_level == \"G\", draw_size == 128) %>%\n",
    "#     select(minutes,w_bpSaved,w_bpFaced,winner_rank_points,l_bpSaved,l_bpFaced,loser_rank_points,winner_age, loser_age, ) %>%\n",
    "#     mutate(w_bd_save_pr = w_bpSaved/w_bpFaced,l_bd_save_pr = l_bpSaved/l_bpFaced)\n",
    "# data_break_point\n",
    "\n",
    "# data_break_plot <- data_break_point %>%\n",
    "#     ggplot(aes(x = winner_rank_points, y = w_bd_save_pr)) +\n",
    "#     geom_point() +\n",
    "#     labs(x = \"rank point\" , y = \"proportion of save break points\") +\n",
    "#     theme( text = element_text(size = 20))\n",
    "# data_break_plot\n",
    "\n",
    "\n",
    "# draft1.2\n",
    "# data_break_point <- atp_data_frame %>%\n",
    "#     filter(surface == \"Hard\",tourney_level == \"G\",draw_size == 128) %>%\n",
    "#     select(tourney_name,minutes,w_bpSaved,w_bpFaced,winner_rank_points,l_bpSaved,l_bpFaced,loser_rank_points,winner_age, loser_age, winner_ht,winner_rank,loser_rank) %>%\n",
    "#     mutate(w_bd_save_pr = w_bpSaved/w_bpFaced,l_bd_save_pr = l_bpSaved/l_bpFaced)\n",
    "# data_break_point\n",
    "\n",
    "# data_break_plot <- data_break_point %>%\n",
    "#     ggplot(aes(x = minutes, y = w_bpSaved)) +\n",
    "#     geom_point(aes(colour = tourney_name)) +\n",
    "#     labs(x = \"minutes\" , y = \"winner save break points number\", colour =\"tourney name\") +\n",
    "#     theme( text = element_text(size = 20))\n",
    "# data_break_plot\n",
    "\n",
    "\n",
    "\n",
    "# draft1.3\n",
    "# data_break_point <- atp_data_frame %>%\n",
    "#     filter(winner_hand == \"R\", loser_hand == \"R\",tourney_level == \"G\") %>%\n",
    "#     select(tourney_name,minutes,w_bpSaved,w_bpFaced,winner_rank_points,l_bpSaved,l_bpFaced,loser_rank_points,winner_age, loser_age, winner_ht,winner_rank,loser_rank) %>%\n",
    "#     mutate(w_bd_save_pr = w_bpSaved/w_bpFaced,l_bd_save_pr = l_bpSaved/l_bpFaced)\n",
    "# data_break_point\n",
    "\n",
    "# data_break_plot <- data_break_point %>%\n",
    "#     ggplot(aes(x = minutes, y = w_bpSaved)) +\n",
    "#     geom_point(aes(colour = tourney_name)) +\n",
    "#     labs(x = \"minutes\" , y = \"winner save break points number\", colour =\"tourney name\") +\n",
    "#     theme( text = element_text(size = 20))\n",
    "# data_break_plot\n",
    "\n",
    "\n",
    "# draft1.4\n",
    "# data_break_point <- atp_data_frame %>%\n",
    "#     filter(surface == \"Hard\",tourney_level == \"G\",draw_size == 128) %>%\n",
    "#     select(tourney_name,minutes,w_bpSaved,w_bpFaced,winner_rank_points,l_bpSaved,l_bpFaced,loser_rank_points,winner_age, loser_age, winner_ht,winner_rank,loser_rank) %>%\n",
    "#     mutate(w_bd_save_pr = w_bpSaved/w_bpFaced,l_bd_save_pr = l_bpSaved/l_bpFaced)\n",
    "# data_break_point\n",
    "\n",
    "# data_break_plot <- data_break_point %>%\n",
    "#     ggplot(aes(x = minutes, y = w_bpSaved)) +\n",
    "#     geom_point(aes(colour = tourney_name)) +\n",
    "#     labs(x = \"minutes\" , y = \"winner save break points number\", colour =\"tourney name\") +\n",
    "#     theme( text = element_text(size = 20))\n",
    "# data_break_plot\n",
    "\n",
    "\n",
    "# draft2.1\n",
    "# data_filtered <- atp_data_frame %>%\n",
    "#     filter(tourney_level == \"G\")\n",
    "# hi_ace_wins = nrow(filter(atp_data_frame, w_ace > l_ace))\n",
    "# lo_ace_wins = nrow(filter(atp_data_frame, w_ace < l_ace))\n",
    "# total_win = hi_ace_wins + lo_ace_wins\n",
    "# hi_ace_win_pct = hi_ace_wins/total_win\n",
    "# hi_ace_win_pct\n",
    "\n",
    "\n",
    "\n",
    "# data_second_serve_pct <-atp_data_frame %>%\n",
    "#     filter(tourney_level == \"G\") %>%\n",
    "#     mutate(second_serve_win_pct_winner = w_2ndWon / w_svpt, second_serve_win_pct_loser = l_2ndWon / l_svpt)\n",
    "# hi_ssw_wins = nrow(filter(data_second_serve_pct, second_serve_win_pct_winner > second_serve_win_pct_loser))\n",
    "# lo_ssw_wins = nrow(filter(data_second_serve_pct, second_serve_win_pct_winner < second_serve_win_pct_loser))\n",
    "# total_win = hi_ssw_wins + lo_ssw_wins\n",
    "# hi_ssw_win_pct = hi_ssw_wins/total_win\n",
    "# hi_ssw_win_pct\n",
    "\n",
    "\n",
    "# data_break_plot <- data_break_point %>%\n",
    "#     ggplot(aes(x = minutes, y = proportion)) +\n",
    "#     geom_point(aes(colour = state)) +\n",
    "#     labs(x = \"match length(min)\" , y = \"proportion of save break points\", colour = \"win/lose\") +\n",
    "#     theme( text = element_text(size = 20))\n",
    "# data_break_plot\n",
    "\n",
    "# data_break_point <- atp_data_frame %>%\n",
    "#     filter(tourney_level == \"G\") %>%\n",
    "#     select(minutes,w_bpSaved,w_bpFaced,winner_rank_points,l_bpSaved,l_bpFaced,loser_rank_points,winner_age, loser_age,winner_ht,loser_ht,w_2ndWon,w_svpt,l_2ndWon,l_svpt) %>%\n",
    "#     mutate(winner = w_bpSaved/w_bpFaced, loser = l_bpSaved/l_bpFaced,second_serve_win_pct_winner = w_2ndWon / w_svpt, second_serve_win_pct_loser = l_2ndWon / l_svpt) %>%\n",
    "#     pivot_longer(cols = winner:loser,\n",
    "#                 names_to = \"state\",\n",
    "#                 values_to = \"break_point_proportion\")\n",
    "# data_break_point\n",
    "\n",
    "stat_matter <- atp_data_frame %>%\n",
    "    filter(tourney_level == \"G\") %>%\n",
    "    select(minutes,w_bpSaved,w_bpFaced,winner_rank_points,l_bpSaved,l_bpFaced,loser_rank_points,winner_age, loser_age,winner_ht,loser_ht,w_2ndWon,w_svpt,l_2ndWon,l_svpt,w_ace,l_ace,w_df,l_df) %>%\n",
    "    mutate(\n",
    "           winner_breakpoint_saved_pct = w_bpSaved/w_bpFaced, \n",
    "           loser_breakpoint_saved_pct = l_bpSaved/l_bpFaced, \n",
    "           winner_second_serve_win_pct = w_2ndWon / w_svpt, \n",
    "           loser_second_serve_win_pct = l_2ndWon / l_svpt,\n",
    "           winner_df_pct = w_df / w_svpt,\n",
    "           loser_df_pct = l_df / l_svpt) %>%\n",
    "    select(winner_rank_points,loser_rank_points,winner_age,loser_age,winner_ht,loser_ht,winner_breakpoint_saved_pct,loser_breakpoint_saved_pct,winner_second_serve_win_pct,loser_second_serve_win_pct,winner_df_pct,loser_df_pct) %>%\n",
    "    drop_na() %>%\n",
    "    pivot_longer(cols = winner_rank_points:loser_df_pct,\n",
    "    names_to = c( \"status\", \".value\"), \n",
    "    names_sep = \"_\")\n",
    "colnames(stat_matter) <- c(\"status\",\"rank_point\",\"player_age\",\"player_height\",\"breakpoint_saving_rate\",\"second_serve_win_rate\",\"double_fault_rate\")\n",
    "stat_matter\n",
    "\n"
   ]
  },
  {
   "cell_type": "code",
   "execution_count": 4,
   "metadata": {},
   "outputs": [],
   "source": [
    "# draft predication:\n",
    "knn_spec <- nearest_neighbor(weight_func = \"rectangular\", neighbors = 5) %>%\n",
    "      set_engine(\"kknn\") %>%\n",
    "      set_mode(\"classification\")\n",
    "\n",
    "tennis_recipe <- recipe(status ~ ., data = stat_matter) %>%\n",
    "                       step_scale(all_predictors()) %>%\n",
    "                       step_center(all_predictors())\n",
    "\n",
    "tennis_fit <- workflow() %>%\n",
    "         add_recipe(tennis_recipe) %>%\n",
    "         add_model(knn_spec) %>%\n",
    "         fit(data = stat_matter)"
   ]
  },
  {
   "cell_type": "code",
   "execution_count": 5,
   "metadata": {},
   "outputs": [
    {
     "data": {
      "text/html": [
       "<table>\n",
       "<caption>A tibble: 1 × 1</caption>\n",
       "<thead>\n",
       "\t<tr><th scope=col>.pred_class</th></tr>\n",
       "\t<tr><th scope=col>&lt;fct&gt;</th></tr>\n",
       "</thead>\n",
       "<tbody>\n",
       "\t<tr><td>winner</td></tr>\n",
       "</tbody>\n",
       "</table>\n"
      ],
      "text/latex": [
       "A tibble: 1 × 1\n",
       "\\begin{tabular}{l}\n",
       " .pred\\_class\\\\\n",
       " <fct>\\\\\n",
       "\\hline\n",
       "\t winner\\\\\n",
       "\\end{tabular}\n"
      ],
      "text/markdown": [
       "\n",
       "A tibble: 1 × 1\n",
       "\n",
       "| .pred_class &lt;fct&gt; |\n",
       "|---|\n",
       "| winner |\n",
       "\n"
      ],
      "text/plain": [
       "  .pred_class\n",
       "1 winner     "
      ]
     },
     "metadata": {},
     "output_type": "display_data"
    }
   ],
   "source": [
    "supper_man <- tibble(rank_point = 1000, \n",
    "                     player_age = 30,\n",
    "                     player_height = 188 ,\n",
    "                     breakpoint_saving_rate = 0.9,\n",
    "                     second_serve_win_rate = 0.2,\n",
    "                     double_fault_rate = 0.01)\n",
    "tennis_predicted <-predict(tennis_fit, supper_man)\n",
    "tennis_predicted"
   ]
  },
  {
   "cell_type": "markdown",
   "metadata": {},
   "source": [
    "## Preliminary exploratory data analysis  \n",
    "read  \n",
    "wrangle  \n",
    "summarize(into at least one table)   \n",
    "visualize (at least one plot)  "
   ]
  },
  {
   "cell_type": "code",
   "execution_count": 6,
   "metadata": {},
   "outputs": [
    {
     "data": {
      "text/html": [
       "<table>\n",
       "<caption>A spec_tbl_df: 1264 × 50</caption>\n",
       "<thead>\n",
       "\t<tr><th scope=col>X1</th><th scope=col>tourney_id</th><th scope=col>tourney_name</th><th scope=col>surface</th><th scope=col>draw_size</th><th scope=col>tourney_level</th><th scope=col>tourney_date</th><th scope=col>match_num</th><th scope=col>winner_id</th><th scope=col>winner_seed</th><th scope=col>⋯</th><th scope=col>l_1stIn</th><th scope=col>l_1stWon</th><th scope=col>l_2ndWon</th><th scope=col>l_SvGms</th><th scope=col>l_bpSaved</th><th scope=col>l_bpFaced</th><th scope=col>winner_rank</th><th scope=col>winner_rank_points</th><th scope=col>loser_rank</th><th scope=col>loser_rank_points</th></tr>\n",
       "\t<tr><th scope=col>&lt;dbl&gt;</th><th scope=col>&lt;chr&gt;</th><th scope=col>&lt;chr&gt;</th><th scope=col>&lt;chr&gt;</th><th scope=col>&lt;dbl&gt;</th><th scope=col>&lt;chr&gt;</th><th scope=col>&lt;dbl&gt;</th><th scope=col>&lt;dbl&gt;</th><th scope=col>&lt;dbl&gt;</th><th scope=col>&lt;chr&gt;</th><th scope=col>⋯</th><th scope=col>&lt;dbl&gt;</th><th scope=col>&lt;dbl&gt;</th><th scope=col>&lt;dbl&gt;</th><th scope=col>&lt;dbl&gt;</th><th scope=col>&lt;dbl&gt;</th><th scope=col>&lt;dbl&gt;</th><th scope=col>&lt;dbl&gt;</th><th scope=col>&lt;dbl&gt;</th><th scope=col>&lt;dbl&gt;</th><th scope=col>&lt;dbl&gt;</th></tr>\n",
       "</thead>\n",
       "<tbody>\n",
       "\t<tr><td>139</td><td>2019-580</td><td>Australian Open</td><td>Hard</td><td>128</td><td>G</td><td>20190114</td><td>100</td><td>104925</td><td>1 </td><td>⋯</td><td>81</td><td>46</td><td>13</td><td>12</td><td>14</td><td>20</td><td>  1</td><td>9135</td><td>230</td><td> 216</td></tr>\n",
       "\t<tr><td>140</td><td>2019-580</td><td>Australian Open</td><td>Hard</td><td>128</td><td>G</td><td>20190114</td><td>101</td><td>104542</td><td>WC</td><td>⋯</td><td>75</td><td>56</td><td>18</td><td>16</td><td>11</td><td>13</td><td>177</td><td> 290</td><td> 40</td><td>1063</td></tr>\n",
       "\t<tr><td>141</td><td>2019-580</td><td>Australian Open</td><td>Hard</td><td>128</td><td>G</td><td>20190114</td><td>102</td><td>106121</td><td>NA</td><td>⋯</td><td>53</td><td>34</td><td> 7</td><td> 9</td><td> 8</td><td>10</td><td> 82</td><td> 691</td><td>144</td><td> 379</td></tr>\n",
       "\t<tr><td>⋮</td><td>⋮</td><td>⋮</td><td>⋮</td><td>⋮</td><td>⋮</td><td>⋮</td><td>⋮</td><td>⋮</td><td>⋮</td><td>⋱</td><td>⋮</td><td>⋮</td><td>⋮</td><td>⋮</td><td>⋮</td><td>⋮</td><td>⋮</td><td>⋮</td><td>⋮</td><td>⋮</td></tr>\n",
       "\t<tr><td>2397</td><td>2017-560</td><td>US Open</td><td>Hard</td><td>128</td><td>G</td><td>20170828</td><td>224</td><td>104745</td><td>1.0 </td><td>⋯</td><td> 63</td><td>45</td><td> 9</td><td>16</td><td> 7</td><td>13</td><td> 1</td><td>7645</td><td>28</td><td>1460</td></tr>\n",
       "\t<tr><td>2398</td><td>2017-560</td><td>US Open</td><td>Hard</td><td>128</td><td>G</td><td>20170828</td><td>225</td><td>104731</td><td>28.0</td><td>⋯</td><td>102</td><td>65</td><td>22</td><td>20</td><td>10</td><td>14</td><td>32</td><td>1360</td><td>19</td><td>2225</td></tr>\n",
       "\t<tr><td>2399</td><td>2017-560</td><td>US Open</td><td>Hard</td><td>128</td><td>G</td><td>20170828</td><td>226</td><td>104745</td><td>1.0 </td><td>⋯</td><td> 64</td><td>47</td><td>16</td><td>14</td><td> 5</td><td> 9</td><td> 1</td><td>7645</td><td>32</td><td>1360</td></tr>\n",
       "</tbody>\n",
       "</table>\n"
      ],
      "text/latex": [
       "A spec\\_tbl\\_df: 1264 × 50\n",
       "\\begin{tabular}{lllllllllllllllllllll}\n",
       " X1 & tourney\\_id & tourney\\_name & surface & draw\\_size & tourney\\_level & tourney\\_date & match\\_num & winner\\_id & winner\\_seed & ⋯ & l\\_1stIn & l\\_1stWon & l\\_2ndWon & l\\_SvGms & l\\_bpSaved & l\\_bpFaced & winner\\_rank & winner\\_rank\\_points & loser\\_rank & loser\\_rank\\_points\\\\\n",
       " <dbl> & <chr> & <chr> & <chr> & <dbl> & <chr> & <dbl> & <dbl> & <dbl> & <chr> & ⋯ & <dbl> & <dbl> & <dbl> & <dbl> & <dbl> & <dbl> & <dbl> & <dbl> & <dbl> & <dbl>\\\\\n",
       "\\hline\n",
       "\t 139 & 2019-580 & Australian Open & Hard & 128 & G & 20190114 & 100 & 104925 & 1  & ⋯ & 81 & 46 & 13 & 12 & 14 & 20 &   1 & 9135 & 230 &  216\\\\\n",
       "\t 140 & 2019-580 & Australian Open & Hard & 128 & G & 20190114 & 101 & 104542 & WC & ⋯ & 75 & 56 & 18 & 16 & 11 & 13 & 177 &  290 &  40 & 1063\\\\\n",
       "\t 141 & 2019-580 & Australian Open & Hard & 128 & G & 20190114 & 102 & 106121 & NA & ⋯ & 53 & 34 &  7 &  9 &  8 & 10 &  82 &  691 & 144 &  379\\\\\n",
       "\t ⋮ & ⋮ & ⋮ & ⋮ & ⋮ & ⋮ & ⋮ & ⋮ & ⋮ & ⋮ & ⋱ & ⋮ & ⋮ & ⋮ & ⋮ & ⋮ & ⋮ & ⋮ & ⋮ & ⋮ & ⋮\\\\\n",
       "\t 2397 & 2017-560 & US Open & Hard & 128 & G & 20170828 & 224 & 104745 & 1.0  & ⋯ &  63 & 45 &  9 & 16 &  7 & 13 &  1 & 7645 & 28 & 1460\\\\\n",
       "\t 2398 & 2017-560 & US Open & Hard & 128 & G & 20170828 & 225 & 104731 & 28.0 & ⋯ & 102 & 65 & 22 & 20 & 10 & 14 & 32 & 1360 & 19 & 2225\\\\\n",
       "\t 2399 & 2017-560 & US Open & Hard & 128 & G & 20170828 & 226 & 104745 & 1.0  & ⋯ &  64 & 47 & 16 & 14 &  5 &  9 &  1 & 7645 & 32 & 1360\\\\\n",
       "\\end{tabular}\n"
      ],
      "text/markdown": [
       "\n",
       "A spec_tbl_df: 1264 × 50\n",
       "\n",
       "| X1 &lt;dbl&gt; | tourney_id &lt;chr&gt; | tourney_name &lt;chr&gt; | surface &lt;chr&gt; | draw_size &lt;dbl&gt; | tourney_level &lt;chr&gt; | tourney_date &lt;dbl&gt; | match_num &lt;dbl&gt; | winner_id &lt;dbl&gt; | winner_seed &lt;chr&gt; | ⋯ ⋯ | l_1stIn &lt;dbl&gt; | l_1stWon &lt;dbl&gt; | l_2ndWon &lt;dbl&gt; | l_SvGms &lt;dbl&gt; | l_bpSaved &lt;dbl&gt; | l_bpFaced &lt;dbl&gt; | winner_rank &lt;dbl&gt; | winner_rank_points &lt;dbl&gt; | loser_rank &lt;dbl&gt; | loser_rank_points &lt;dbl&gt; |\n",
       "|---|---|---|---|---|---|---|---|---|---|---|---|---|---|---|---|---|---|---|---|---|\n",
       "| 139 | 2019-580 | Australian Open | Hard | 128 | G | 20190114 | 100 | 104925 | 1  | ⋯ | 81 | 46 | 13 | 12 | 14 | 20 |   1 | 9135 | 230 |  216 |\n",
       "| 140 | 2019-580 | Australian Open | Hard | 128 | G | 20190114 | 101 | 104542 | WC | ⋯ | 75 | 56 | 18 | 16 | 11 | 13 | 177 |  290 |  40 | 1063 |\n",
       "| 141 | 2019-580 | Australian Open | Hard | 128 | G | 20190114 | 102 | 106121 | NA | ⋯ | 53 | 34 |  7 |  9 |  8 | 10 |  82 |  691 | 144 |  379 |\n",
       "| ⋮ | ⋮ | ⋮ | ⋮ | ⋮ | ⋮ | ⋮ | ⋮ | ⋮ | ⋮ | ⋱ | ⋮ | ⋮ | ⋮ | ⋮ | ⋮ | ⋮ | ⋮ | ⋮ | ⋮ | ⋮ |\n",
       "| 2397 | 2017-560 | US Open | Hard | 128 | G | 20170828 | 224 | 104745 | 1.0  | ⋯ |  63 | 45 |  9 | 16 |  7 | 13 |  1 | 7645 | 28 | 1460 |\n",
       "| 2398 | 2017-560 | US Open | Hard | 128 | G | 20170828 | 225 | 104731 | 28.0 | ⋯ | 102 | 65 | 22 | 20 | 10 | 14 | 32 | 1360 | 19 | 2225 |\n",
       "| 2399 | 2017-560 | US Open | Hard | 128 | G | 20170828 | 226 | 104745 | 1.0  | ⋯ |  64 | 47 | 16 | 14 |  5 |  9 |  1 | 7645 | 32 | 1360 |\n",
       "\n"
      ],
      "text/plain": [
       "     X1   tourney_id tourney_name    surface draw_size tourney_level\n",
       "1    139  2019-580   Australian Open Hard    128       G            \n",
       "2    140  2019-580   Australian Open Hard    128       G            \n",
       "3    141  2019-580   Australian Open Hard    128       G            \n",
       "⋮    ⋮    ⋮          ⋮               ⋮       ⋮         ⋮            \n",
       "1262 2397 2017-560   US Open         Hard    128       G            \n",
       "1263 2398 2017-560   US Open         Hard    128       G            \n",
       "1264 2399 2017-560   US Open         Hard    128       G            \n",
       "     tourney_date match_num winner_id winner_seed ⋯ l_1stIn l_1stWon l_2ndWon\n",
       "1    20190114     100       104925    1           ⋯ 81      46       13      \n",
       "2    20190114     101       104542    WC          ⋯ 75      56       18      \n",
       "3    20190114     102       106121    NA          ⋯ 53      34        7      \n",
       "⋮    ⋮            ⋮         ⋮         ⋮           ⋱ ⋮       ⋮        ⋮       \n",
       "1262 20170828     224       104745    1.0         ⋯  63     45        9      \n",
       "1263 20170828     225       104731    28.0        ⋯ 102     65       22      \n",
       "1264 20170828     226       104745    1.0         ⋯  64     47       16      \n",
       "     l_SvGms l_bpSaved l_bpFaced winner_rank winner_rank_points loser_rank\n",
       "1    12      14        20          1         9135               230       \n",
       "2    16      11        13        177          290                40       \n",
       "3     9       8        10         82          691               144       \n",
       "⋮    ⋮       ⋮         ⋮         ⋮           ⋮                  ⋮         \n",
       "1262 16       7        13         1          7645               28        \n",
       "1263 20      10        14        32          1360               19        \n",
       "1264 14       5         9         1          7645               32        \n",
       "     loser_rank_points\n",
       "1     216             \n",
       "2    1063             \n",
       "3     379             \n",
       "⋮    ⋮                \n",
       "1262 1460             \n",
       "1263 2225             \n",
       "1264 1360             "
      ]
     },
     "metadata": {},
     "output_type": "display_data"
    }
   ],
   "source": [
    "tennis <- atp_data_frame %>%\n",
    "            filter(tourney_level == \"G\")\n",
    "tennis"
   ]
  },
  {
   "cell_type": "code",
   "execution_count": 7,
   "metadata": {},
   "outputs": [
    {
     "data": {
      "text/html": [
       "<table>\n",
       "<caption>A tibble: 1 × 3</caption>\n",
       "<thead>\n",
       "\t<tr><th scope=col>w_ace</th><th scope=col>l_ace</th><th scope=col>pct</th></tr>\n",
       "\t<tr><th scope=col>&lt;dbl&gt;</th><th scope=col>&lt;dbl&gt;</th><th scope=col>&lt;dbl&gt;</th></tr>\n",
       "</thead>\n",
       "<tbody>\n",
       "\t<tr><td>10.3291</td><td>7.961142</td><td>29.744</td></tr>\n",
       "</tbody>\n",
       "</table>\n"
      ],
      "text/latex": [
       "A tibble: 1 × 3\n",
       "\\begin{tabular}{lll}\n",
       " w\\_ace & l\\_ace & pct\\\\\n",
       " <dbl> & <dbl> & <dbl>\\\\\n",
       "\\hline\n",
       "\t 10.3291 & 7.961142 & 29.744\\\\\n",
       "\\end{tabular}\n"
      ],
      "text/markdown": [
       "\n",
       "A tibble: 1 × 3\n",
       "\n",
       "| w_ace &lt;dbl&gt; | l_ace &lt;dbl&gt; | pct &lt;dbl&gt; |\n",
       "|---|---|---|\n",
       "| 10.3291 | 7.961142 | 29.744 |\n",
       "\n"
      ],
      "text/plain": [
       "  w_ace   l_ace    pct   \n",
       "1 10.3291 7.961142 29.744"
      ]
     },
     "metadata": {},
     "output_type": "display_data"
    }
   ],
   "source": [
    "aces <- tennis %>%\n",
    "        select(w_ace, l_ace) %>%\n",
    "        map_df(mean, na.rm = TRUE) %>%\n",
    "        mutate(pct = (w_ace / l_ace - 1) * 100)\n",
    "aces"
   ]
  },
  {
   "cell_type": "code",
   "execution_count": 8,
   "metadata": {},
   "outputs": [
    {
     "data": {
      "text/html": [
       "<table>\n",
       "<caption>A tibble: 1 × 3</caption>\n",
       "<thead>\n",
       "\t<tr><th scope=col>w_df</th><th scope=col>l_df</th><th scope=col>pct</th></tr>\n",
       "\t<tr><th scope=col>&lt;dbl&gt;</th><th scope=col>&lt;dbl&gt;</th><th scope=col>&lt;dbl&gt;</th></tr>\n",
       "</thead>\n",
       "<tbody>\n",
       "\t<tr><td>3.87391</td><td>4.689136</td><td>-17.38542</td></tr>\n",
       "</tbody>\n",
       "</table>\n"
      ],
      "text/latex": [
       "A tibble: 1 × 3\n",
       "\\begin{tabular}{lll}\n",
       " w\\_df & l\\_df & pct\\\\\n",
       " <dbl> & <dbl> & <dbl>\\\\\n",
       "\\hline\n",
       "\t 3.87391 & 4.689136 & -17.38542\\\\\n",
       "\\end{tabular}\n"
      ],
      "text/markdown": [
       "\n",
       "A tibble: 1 × 3\n",
       "\n",
       "| w_df &lt;dbl&gt; | l_df &lt;dbl&gt; | pct &lt;dbl&gt; |\n",
       "|---|---|---|\n",
       "| 3.87391 | 4.689136 | -17.38542 |\n",
       "\n"
      ],
      "text/plain": [
       "  w_df    l_df     pct      \n",
       "1 3.87391 4.689136 -17.38542"
      ]
     },
     "metadata": {},
     "output_type": "display_data"
    }
   ],
   "source": [
    "double_faults <- tennis %>%\n",
    "                 select(w_df, l_df) %>%\n",
    "                 map_df(mean, na.rm = TRUE) %>%\n",
    "                 mutate(pct = (w_df / l_df - 1) * 100)\n",
    "double_faults"
   ]
  },
  {
   "cell_type": "code",
   "execution_count": 9,
   "metadata": {},
   "outputs": [
    {
     "data": {
      "text/html": [
       "<table>\n",
       "<caption>A tibble: 1 × 3</caption>\n",
       "<thead>\n",
       "\t<tr><th scope=col>w_svpt</th><th scope=col>l_svpt</th><th scope=col>pct</th></tr>\n",
       "\t<tr><th scope=col>&lt;dbl&gt;</th><th scope=col>&lt;dbl&gt;</th><th scope=col>&lt;dbl&gt;</th></tr>\n",
       "</thead>\n",
       "<tbody>\n",
       "\t<tr><td>109.1975</td><td>114.8192</td><td>-4.896158</td></tr>\n",
       "</tbody>\n",
       "</table>\n"
      ],
      "text/latex": [
       "A tibble: 1 × 3\n",
       "\\begin{tabular}{lll}\n",
       " w\\_svpt & l\\_svpt & pct\\\\\n",
       " <dbl> & <dbl> & <dbl>\\\\\n",
       "\\hline\n",
       "\t 109.1975 & 114.8192 & -4.896158\\\\\n",
       "\\end{tabular}\n"
      ],
      "text/markdown": [
       "\n",
       "A tibble: 1 × 3\n",
       "\n",
       "| w_svpt &lt;dbl&gt; | l_svpt &lt;dbl&gt; | pct &lt;dbl&gt; |\n",
       "|---|---|---|\n",
       "| 109.1975 | 114.8192 | -4.896158 |\n",
       "\n"
      ],
      "text/plain": [
       "  w_svpt   l_svpt   pct      \n",
       "1 109.1975 114.8192 -4.896158"
      ]
     },
     "metadata": {},
     "output_type": "display_data"
    }
   ],
   "source": [
    "svpts <- tennis %>%\n",
    "        select(w_svpt, l_svpt) %>%\n",
    "        map_df(mean, na.rm = TRUE) %>%\n",
    "        mutate(pct = (w_svpt / l_svpt - 1) * 100)\n",
    "svpts"
   ]
  },
  {
   "cell_type": "code",
   "execution_count": 10,
   "metadata": {},
   "outputs": [
    {
     "data": {
      "text/html": [
       "<table>\n",
       "<caption>A tibble: 1 × 2</caption>\n",
       "<thead>\n",
       "\t<tr><th scope=col>w_1st_serve_pct</th><th scope=col>l_1st_serve_pct</th></tr>\n",
       "\t<tr><th scope=col>&lt;dbl&gt;</th><th scope=col>&lt;dbl&gt;</th></tr>\n",
       "</thead>\n",
       "<tbody>\n",
       "\t<tr><td>0.7743118</td><td>0.6648404</td></tr>\n",
       "</tbody>\n",
       "</table>\n"
      ],
      "text/latex": [
       "A tibble: 1 × 2\n",
       "\\begin{tabular}{ll}\n",
       " w\\_1st\\_serve\\_pct & l\\_1st\\_serve\\_pct\\\\\n",
       " <dbl> & <dbl>\\\\\n",
       "\\hline\n",
       "\t 0.7743118 & 0.6648404\\\\\n",
       "\\end{tabular}\n"
      ],
      "text/markdown": [
       "\n",
       "A tibble: 1 × 2\n",
       "\n",
       "| w_1st_serve_pct &lt;dbl&gt; | l_1st_serve_pct &lt;dbl&gt; |\n",
       "|---|---|\n",
       "| 0.7743118 | 0.6648404 |\n",
       "\n"
      ],
      "text/plain": [
       "  w_1st_serve_pct l_1st_serve_pct\n",
       "1 0.7743118       0.6648404      "
      ]
     },
     "metadata": {},
     "output_type": "display_data"
    }
   ],
   "source": [
    "first_serves <- tennis %>%\n",
    "                mutate(w_1st_serve_pct = w_1stWon / w_1stIn, l_1st_serve_pct = l_1stWon / l_1stIn) %>%\n",
    "                select(w_1st_serve_pct, l_1st_serve_pct) %>%\n",
    "                map_df(mean, na.rm = TRUE)\n",
    "\n",
    "first_serves"
   ]
  },
  {
   "cell_type": "markdown",
   "metadata": {},
   "source": [
    "Winners got a point on 77% of their first serves, compared to losers' 66%."
   ]
  },
  {
   "cell_type": "code",
   "execution_count": 11,
   "metadata": {},
   "outputs": [
    {
     "data": {
      "text/html": [
       "<table>\n",
       "<caption>A tibble: 1 × 2</caption>\n",
       "<thead>\n",
       "\t<tr><th scope=col>w_bp_pct</th><th scope=col>l_bp_pct</th></tr>\n",
       "\t<tr><th scope=col>&lt;dbl&gt;</th><th scope=col>&lt;dbl&gt;</th></tr>\n",
       "</thead>\n",
       "<tbody>\n",
       "\t<tr><td>0.6768779</td><td>0.5335757</td></tr>\n",
       "</tbody>\n",
       "</table>\n"
      ],
      "text/latex": [
       "A tibble: 1 × 2\n",
       "\\begin{tabular}{ll}\n",
       " w\\_bp\\_pct & l\\_bp\\_pct\\\\\n",
       " <dbl> & <dbl>\\\\\n",
       "\\hline\n",
       "\t 0.6768779 & 0.5335757\\\\\n",
       "\\end{tabular}\n"
      ],
      "text/markdown": [
       "\n",
       "A tibble: 1 × 2\n",
       "\n",
       "| w_bp_pct &lt;dbl&gt; | l_bp_pct &lt;dbl&gt; |\n",
       "|---|---|\n",
       "| 0.6768779 | 0.5335757 |\n",
       "\n"
      ],
      "text/plain": [
       "  w_bp_pct  l_bp_pct \n",
       "1 0.6768779 0.5335757"
      ]
     },
     "metadata": {},
     "output_type": "display_data"
    }
   ],
   "source": [
    "break_points <- tennis %>%\n",
    "                mutate(w_bp_pct = w_bpSaved / w_bpFaced, l_bp_pct = l_bpSaved / l_bpFaced) %>%\n",
    "                select(w_bp_pct, l_bp_pct) %>%\n",
    "                map_df(mean, na.rm = TRUE)\n",
    "break_points"
   ]
  },
  {
   "cell_type": "markdown",
   "metadata": {},
   "source": [
    "Winners saved 67% of their breakpoints, whereas losers only saved 53%."
   ]
  },
  {
   "cell_type": "code",
   "execution_count": 12,
   "metadata": {},
   "outputs": [
    {
     "data": {
      "text/html": [
       "<table>\n",
       "<caption>A tibble: 1 × 3</caption>\n",
       "<thead>\n",
       "\t<tr><th scope=col>winner_age</th><th scope=col>loser_age</th><th scope=col>pct</th></tr>\n",
       "\t<tr><th scope=col>&lt;dbl&gt;</th><th scope=col>&lt;dbl&gt;</th><th scope=col>&lt;dbl&gt;</th></tr>\n",
       "</thead>\n",
       "<tbody>\n",
       "\t<tr><td>28.32585</td><td>27.5384</td><td>2.859471</td></tr>\n",
       "</tbody>\n",
       "</table>\n"
      ],
      "text/latex": [
       "A tibble: 1 × 3\n",
       "\\begin{tabular}{lll}\n",
       " winner\\_age & loser\\_age & pct\\\\\n",
       " <dbl> & <dbl> & <dbl>\\\\\n",
       "\\hline\n",
       "\t 28.32585 & 27.5384 & 2.859471\\\\\n",
       "\\end{tabular}\n"
      ],
      "text/markdown": [
       "\n",
       "A tibble: 1 × 3\n",
       "\n",
       "| winner_age &lt;dbl&gt; | loser_age &lt;dbl&gt; | pct &lt;dbl&gt; |\n",
       "|---|---|---|\n",
       "| 28.32585 | 27.5384 | 2.859471 |\n",
       "\n"
      ],
      "text/plain": [
       "  winner_age loser_age pct     \n",
       "1 28.32585   27.5384   2.859471"
      ]
     },
     "metadata": {},
     "output_type": "display_data"
    }
   ],
   "source": [
    "ages <- tennis %>%\n",
    "        select(winner_age, loser_age) %>%\n",
    "        map_df(mean, na.rm = TRUE) %>%\n",
    "        mutate(pct = (winner_age / loser_age - 1) * 100)\n",
    "ages"
   ]
  },
  {
   "cell_type": "code",
   "execution_count": 13,
   "metadata": {},
   "outputs": [
    {
     "name": "stderr",
     "output_type": "stream",
     "text": [
      "`stat_bin()` using `bins = 30`. Pick better value with `binwidth`.\n",
      "\n"
     ]
    },
    {
     "data": {
      "image/png": "[encoded data removed]",
      "text/plain": [
       "plot without title"
      ]
     },
     "metadata": {
      "image/png": {
       "height": 420,
       "width": 420
      }
     },
     "output_type": "display_data"
    }
   ],
   "source": [
    "winner_ages <- tennis %>%\n",
    "                select(winner_age)\n",
    "\n",
    "winner_ages_plot <- winner_ages %>%\n",
    "                    ggplot(aes(x = winner_age)) +\n",
    "                    geom_histogram() +\n",
    "                    geom_vline(xintercept = 28.32585, linetype = \"dashed\", size = 1.0) +\n",
    "                    scale_y_continuous(limits = c(0, 120)) +\n",
    "                    labs(x = \"Winner Age\", y = \"Count\", title = \"Distribution of Tennis Winners' Ages\") +\n",
    "                    theme(text = element_text(size = 16))\n",
    "\n",
    "winner_ages_plot"
   ]
  },
  {
   "cell_type": "code",
   "execution_count": 14,
   "metadata": {},
   "outputs": [
    {
     "name": "stderr",
     "output_type": "stream",
     "text": [
      "`stat_bin()` using `bins = 30`. Pick better value with `binwidth`.\n",
      "\n"
     ]
    },
    {
     "data": {
      "image/png": "[encoded data removed]",
      "text/plain": [
       "plot without title"
      ]
     },
     "metadata": {
      "image/png": {
       "height": 420,
       "width": 420
      }
     },
     "output_type": "display_data"
    }
   ],
   "source": [
    "loser_ages <- tennis %>%\n",
    "                select(loser_age)\n",
    "\n",
    "loser_ages_plot <- loser_ages %>%\n",
    "                    ggplot(aes(x = loser_age)) +\n",
    "                    geom_histogram() +\n",
    "                    geom_vline(xintercept = 27.5384, linetype = \"dashed\", size = 1.0) +\n",
    "                    scale_y_continuous(limits = c(0, 120)) +\n",
    "                    labs(x = \"Loser Age\", y = \"Count\", title = \"Distribution of Tennis Losers' Ages\") +\n",
    "                    theme(text = element_text(size = 16))\n",
    "\n",
    "loser_ages_plot"
   ]
  },
  {
   "cell_type": "code",
   "execution_count": 15,
   "metadata": {},
   "outputs": [
    {
     "data": {
      "text/html": [
       "<table>\n",
       "<caption>A tibble: 1 × 3</caption>\n",
       "<thead>\n",
       "\t<tr><th scope=col>winner_ht</th><th scope=col>loser_ht</th><th scope=col>pct</th></tr>\n",
       "\t<tr><th scope=col>&lt;dbl&gt;</th><th scope=col>&lt;dbl&gt;</th><th scope=col>&lt;dbl&gt;</th></tr>\n",
       "</thead>\n",
       "<tbody>\n",
       "\t<tr><td>187.1462</td><td>186.3485</td><td>0.428046</td></tr>\n",
       "</tbody>\n",
       "</table>\n"
      ],
      "text/latex": [
       "A tibble: 1 × 3\n",
       "\\begin{tabular}{lll}\n",
       " winner\\_ht & loser\\_ht & pct\\\\\n",
       " <dbl> & <dbl> & <dbl>\\\\\n",
       "\\hline\n",
       "\t 187.1462 & 186.3485 & 0.428046\\\\\n",
       "\\end{tabular}\n"
      ],
      "text/markdown": [
       "\n",
       "A tibble: 1 × 3\n",
       "\n",
       "| winner_ht &lt;dbl&gt; | loser_ht &lt;dbl&gt; | pct &lt;dbl&gt; |\n",
       "|---|---|---|\n",
       "| 187.1462 | 186.3485 | 0.428046 |\n",
       "\n"
      ],
      "text/plain": [
       "  winner_ht loser_ht pct     \n",
       "1 187.1462  186.3485 0.428046"
      ]
     },
     "metadata": {},
     "output_type": "display_data"
    }
   ],
   "source": [
    "heights <- tennis %>%\n",
    "        select(winner_ht, loser_ht) %>%\n",
    "        map_df(mean, na.rm = TRUE) %>%\n",
    "        mutate(pct = (winner_ht / loser_ht - 1) * 100)\n",
    "heights"
   ]
  },
  {
   "cell_type": "markdown",
   "metadata": {},
   "source": [
    "## Method  \n",
    "1). explain how we will conduct data analysis  \n",
    "2). describe how we will visualize result"
   ]
  },
  {
   "cell_type": "markdown",
   "metadata": {},
   "source": [
    "## Expected outcomes and significance  "
   ]
  },
  {
   "cell_type": "code",
   "execution_count": null,
   "metadata": {},
   "outputs": [],
   "source": []
  },
  {
   "cell_type": "code",
   "execution_count": null,
   "metadata": {},
   "outputs": [],
   "source": []
  }
 ],
 "metadata": {
  "kernelspec": {
   "display_name": "R",
   "language": "R",
   "name": "ir"
  },
  "language_info": {
   "codemirror_mode": "r",
   "file_extension": ".r",
   "mimetype": "text/x-r-source",
   "name": "R",
   "pygments_lexer": "r",
   "version": "4.0.0"
  }
 },
 "nbformat": 4,
 "nbformat_minor": 4
}
