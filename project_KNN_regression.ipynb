{
 "cells": [
  {
   "cell_type": "code",
   "execution_count": 112,
   "metadata": {},
   "outputs": [],
   "source": [
    "library(tidyverse)\n",
    "library(repr)\n",
    "library(tidymodels)\n",
    "library(rvest)\n",
    "library(stringr)\n",
    "library(DBI)\n",
    "library(dbplyr)\n",
    "library(GGally)\n",
    "options(repr.matrix.max.rows = 6)"
   ]
  },
  {
   "cell_type": "markdown",
   "metadata": {},
   "source": [
    "# Predicting the Win Rate of Tennis Players  \n",
    "<img align=\"left\" src=\"https://images.unsplash.com/photo-1554068865-24cecd4e34b8?ixid=MnwxMjA3fDB8MHxzZWFyY2h8MXx8dGVubmlzfGVufDB8fDB8fA%3D%3D&ixlib=rb-1.2.1&auto=format&fit=crop&w=500&q=60\" width=\"1000\" />  \n",
    "\n",
    "*Source: https://unsplash.com/photos/WqI-PbYugn4*"
   ]
  },
  {
   "cell_type": "markdown",
   "metadata": {},
   "source": [
    "# Introduction<img align=\"left\" src=\"https://encrypted-tbn0.gstatic.com/images?q=tbn:ANd9GcSDixQBw3HoqS_gnC9xVtHO-5NrnS1eQ91N3w&usqp=CAU\" width=\"35\" />   \n",
    "\n",
    "\n",
    "### Background \n",
    "\n",
    "Tennis is a popular, competitive sport played around the world. In tennis, players gain points by hitting a tennis ball, across a net in the court, in such a way that their opponent is unable to hit it back without the ball bouncing twice.\n",
    "\n",
    "The association of tennis professionals, or ATP, organizes Tennis tournaments and collects data on the players and the matches that take place.\n",
    "\n",
    "### Our Question\n",
    "\n",
    "Based on the career statistics of a tennis player, what will be their win rate?\n",
    "\n",
    "### The Dataset\n",
    "\n",
    "We are using the \"Game results for Top 500 Players from 2017-2019\" dataset. Each row in this dataset represents a match between two players and contains player stats (e.g. age, height, rank) and match stats (break points, serve points, double faults etc). \n",
    "\n",
    "\n",
    "*Picture source: https://www.emojipng.com/preview/458725*"
   ]
  },
  {
   "cell_type": "markdown",
   "metadata": {},
   "source": [
    "# Preliminary Exploratory Data Analysis <img align=\"left\" src=\"https://encrypted-tbn0.gstatic.com/images?q=tbn:ANd9GcSDixQBw3HoqS_gnC9xVtHO-5NrnS1eQ91N3w&usqp=CAU\" width=\"35\" />   \n"
   ]
  },
  {
   "cell_type": "code",
   "execution_count": 113,
   "metadata": {},
   "outputs": [
    {
     "name": "stderr",
     "output_type": "stream",
     "text": [
      "Warning message:\n",
      "“Missing column names filled in: 'X1' [1]”\n",
      "Parsed with column specification:\n",
      "cols(\n",
      "  .default = col_double(),\n",
      "  tourney_id = \u001b[31mcol_character()\u001b[39m,\n",
      "  tourney_name = \u001b[31mcol_character()\u001b[39m,\n",
      "  surface = \u001b[31mcol_character()\u001b[39m,\n",
      "  tourney_level = \u001b[31mcol_character()\u001b[39m,\n",
      "  winner_seed = \u001b[31mcol_character()\u001b[39m,\n",
      "  winner_entry = \u001b[31mcol_character()\u001b[39m,\n",
      "  winner_name = \u001b[31mcol_character()\u001b[39m,\n",
      "  winner_hand = \u001b[31mcol_character()\u001b[39m,\n",
      "  winner_ioc = \u001b[31mcol_character()\u001b[39m,\n",
      "  loser_seed = \u001b[31mcol_character()\u001b[39m,\n",
      "  loser_entry = \u001b[31mcol_character()\u001b[39m,\n",
      "  loser_name = \u001b[31mcol_character()\u001b[39m,\n",
      "  loser_hand = \u001b[31mcol_character()\u001b[39m,\n",
      "  loser_ioc = \u001b[31mcol_character()\u001b[39m,\n",
      "  score = \u001b[31mcol_character()\u001b[39m,\n",
      "  round = \u001b[31mcol_character()\u001b[39m\n",
      ")\n",
      "\n",
      "See spec(...) for full column specifications.\n",
      "\n"
     ]
    },
    {
     "data": {
      "text/html": [
       "<table>\n",
       "<caption>A spec_tbl_df: 6866 × 50</caption>\n",
       "<thead>\n",
       "\t<tr><th scope=col>X1</th><th scope=col>tourney_id</th><th scope=col>tourney_name</th><th scope=col>surface</th><th scope=col>draw_size</th><th scope=col>tourney_level</th><th scope=col>tourney_date</th><th scope=col>match_num</th><th scope=col>winner_id</th><th scope=col>winner_seed</th><th scope=col>⋯</th><th scope=col>l_1stIn</th><th scope=col>l_1stWon</th><th scope=col>l_2ndWon</th><th scope=col>l_SvGms</th><th scope=col>l_bpSaved</th><th scope=col>l_bpFaced</th><th scope=col>winner_rank</th><th scope=col>winner_rank_points</th><th scope=col>loser_rank</th><th scope=col>loser_rank_points</th></tr>\n",
       "\t<tr><th scope=col>&lt;dbl&gt;</th><th scope=col>&lt;chr&gt;</th><th scope=col>&lt;chr&gt;</th><th scope=col>&lt;chr&gt;</th><th scope=col>&lt;dbl&gt;</th><th scope=col>&lt;chr&gt;</th><th scope=col>&lt;dbl&gt;</th><th scope=col>&lt;dbl&gt;</th><th scope=col>&lt;dbl&gt;</th><th scope=col>&lt;chr&gt;</th><th scope=col>⋯</th><th scope=col>&lt;dbl&gt;</th><th scope=col>&lt;dbl&gt;</th><th scope=col>&lt;dbl&gt;</th><th scope=col>&lt;dbl&gt;</th><th scope=col>&lt;dbl&gt;</th><th scope=col>&lt;dbl&gt;</th><th scope=col>&lt;dbl&gt;</th><th scope=col>&lt;dbl&gt;</th><th scope=col>&lt;dbl&gt;</th><th scope=col>&lt;dbl&gt;</th></tr>\n",
       "</thead>\n",
       "<tbody>\n",
       "\t<tr><td>0</td><td>2019-M020</td><td>Brisbane</td><td>Hard</td><td>32</td><td>A</td><td>20181231</td><td>300</td><td>105453</td><td>2</td><td>⋯</td><td>54</td><td>34</td><td>20</td><td>14</td><td>10</td><td>15</td><td> 9</td><td>3590</td><td> 16</td><td>1977</td></tr>\n",
       "\t<tr><td>1</td><td>2019-M020</td><td>Brisbane</td><td>Hard</td><td>32</td><td>A</td><td>20181231</td><td>299</td><td>106421</td><td>4</td><td>⋯</td><td>52</td><td>36</td><td> 7</td><td>10</td><td>10</td><td>13</td><td>16</td><td>1977</td><td>239</td><td> 200</td></tr>\n",
       "\t<tr><td>2</td><td>2019-M020</td><td>Brisbane</td><td>Hard</td><td>32</td><td>A</td><td>20181231</td><td>298</td><td>105453</td><td>2</td><td>⋯</td><td>27</td><td>15</td><td> 6</td><td> 8</td><td> 1</td><td> 5</td><td> 9</td><td>3590</td><td> 40</td><td>1050</td></tr>\n",
       "\t<tr><td>⋮</td><td>⋮</td><td>⋮</td><td>⋮</td><td>⋮</td><td>⋮</td><td>⋮</td><td>⋮</td><td>⋮</td><td>⋮</td><td>⋱</td><td>⋮</td><td>⋮</td><td>⋮</td><td>⋮</td><td>⋮</td><td>⋮</td><td>⋮</td><td>⋮</td><td>⋮</td><td>⋮</td></tr>\n",
       "\t<tr><td>2883</td><td>2017-M-DC-2017-WG-M-BEL-FRA-01</td><td>Davis Cup WG F: BEL vs FRA</td><td>Hard</td><td>4</td><td>D</td><td>20171124</td><td>2</td><td>104542</td><td>NA</td><td>⋯</td><td>54</td><td>30</td><td>12</td><td>12</td><td>5</td><td>11</td><td>15</td><td>2320</td><td>76</td><td> 667</td></tr>\n",
       "\t<tr><td>2884</td><td>2017-M-DC-2017-WG-M-BEL-FRA-01</td><td>Davis Cup WG F: BEL vs FRA</td><td>Hard</td><td>4</td><td>D</td><td>20171124</td><td>4</td><td>105676</td><td>NA</td><td>⋯</td><td>54</td><td>44</td><td>13</td><td>14</td><td>7</td><td>10</td><td> 7</td><td>3775</td><td>15</td><td>2320</td></tr>\n",
       "\t<tr><td>2885</td><td>2017-M-DC-2017-WG-M-BEL-FRA-01</td><td>Davis Cup WG F: BEL vs FRA</td><td>Hard</td><td>4</td><td>D</td><td>20171124</td><td>5</td><td>106298</td><td>NA</td><td>⋯</td><td>53</td><td>29</td><td>11</td><td>11</td><td>4</td><td>11</td><td>18</td><td>2235</td><td>76</td><td> 667</td></tr>\n",
       "</tbody>\n",
       "</table>\n"
      ],
      "text/latex": [
       "A spec\\_tbl\\_df: 6866 × 50\n",
       "\\begin{tabular}{lllllllllllllllllllll}\n",
       " X1 & tourney\\_id & tourney\\_name & surface & draw\\_size & tourney\\_level & tourney\\_date & match\\_num & winner\\_id & winner\\_seed & ⋯ & l\\_1stIn & l\\_1stWon & l\\_2ndWon & l\\_SvGms & l\\_bpSaved & l\\_bpFaced & winner\\_rank & winner\\_rank\\_points & loser\\_rank & loser\\_rank\\_points\\\\\n",
       " <dbl> & <chr> & <chr> & <chr> & <dbl> & <chr> & <dbl> & <dbl> & <dbl> & <chr> & ⋯ & <dbl> & <dbl> & <dbl> & <dbl> & <dbl> & <dbl> & <dbl> & <dbl> & <dbl> & <dbl>\\\\\n",
       "\\hline\n",
       "\t 0 & 2019-M020 & Brisbane & Hard & 32 & A & 20181231 & 300 & 105453 & 2 & ⋯ & 54 & 34 & 20 & 14 & 10 & 15 &  9 & 3590 &  16 & 1977\\\\\n",
       "\t 1 & 2019-M020 & Brisbane & Hard & 32 & A & 20181231 & 299 & 106421 & 4 & ⋯ & 52 & 36 &  7 & 10 & 10 & 13 & 16 & 1977 & 239 &  200\\\\\n",
       "\t 2 & 2019-M020 & Brisbane & Hard & 32 & A & 20181231 & 298 & 105453 & 2 & ⋯ & 27 & 15 &  6 &  8 &  1 &  5 &  9 & 3590 &  40 & 1050\\\\\n",
       "\t ⋮ & ⋮ & ⋮ & ⋮ & ⋮ & ⋮ & ⋮ & ⋮ & ⋮ & ⋮ & ⋱ & ⋮ & ⋮ & ⋮ & ⋮ & ⋮ & ⋮ & ⋮ & ⋮ & ⋮ & ⋮\\\\\n",
       "\t 2883 & 2017-M-DC-2017-WG-M-BEL-FRA-01 & Davis Cup WG F: BEL vs FRA & Hard & 4 & D & 20171124 & 2 & 104542 & NA & ⋯ & 54 & 30 & 12 & 12 & 5 & 11 & 15 & 2320 & 76 &  667\\\\\n",
       "\t 2884 & 2017-M-DC-2017-WG-M-BEL-FRA-01 & Davis Cup WG F: BEL vs FRA & Hard & 4 & D & 20171124 & 4 & 105676 & NA & ⋯ & 54 & 44 & 13 & 14 & 7 & 10 &  7 & 3775 & 15 & 2320\\\\\n",
       "\t 2885 & 2017-M-DC-2017-WG-M-BEL-FRA-01 & Davis Cup WG F: BEL vs FRA & Hard & 4 & D & 20171124 & 5 & 106298 & NA & ⋯ & 53 & 29 & 11 & 11 & 4 & 11 & 18 & 2235 & 76 &  667\\\\\n",
       "\\end{tabular}\n"
      ],
      "text/markdown": [
       "\n",
       "A spec_tbl_df: 6866 × 50\n",
       "\n",
       "| X1 &lt;dbl&gt; | tourney_id &lt;chr&gt; | tourney_name &lt;chr&gt; | surface &lt;chr&gt; | draw_size &lt;dbl&gt; | tourney_level &lt;chr&gt; | tourney_date &lt;dbl&gt; | match_num &lt;dbl&gt; | winner_id &lt;dbl&gt; | winner_seed &lt;chr&gt; | ⋯ ⋯ | l_1stIn &lt;dbl&gt; | l_1stWon &lt;dbl&gt; | l_2ndWon &lt;dbl&gt; | l_SvGms &lt;dbl&gt; | l_bpSaved &lt;dbl&gt; | l_bpFaced &lt;dbl&gt; | winner_rank &lt;dbl&gt; | winner_rank_points &lt;dbl&gt; | loser_rank &lt;dbl&gt; | loser_rank_points &lt;dbl&gt; |\n",
       "|---|---|---|---|---|---|---|---|---|---|---|---|---|---|---|---|---|---|---|---|---|\n",
       "| 0 | 2019-M020 | Brisbane | Hard | 32 | A | 20181231 | 300 | 105453 | 2 | ⋯ | 54 | 34 | 20 | 14 | 10 | 15 |  9 | 3590 |  16 | 1977 |\n",
       "| 1 | 2019-M020 | Brisbane | Hard | 32 | A | 20181231 | 299 | 106421 | 4 | ⋯ | 52 | 36 |  7 | 10 | 10 | 13 | 16 | 1977 | 239 |  200 |\n",
       "| 2 | 2019-M020 | Brisbane | Hard | 32 | A | 20181231 | 298 | 105453 | 2 | ⋯ | 27 | 15 |  6 |  8 |  1 |  5 |  9 | 3590 |  40 | 1050 |\n",
       "| ⋮ | ⋮ | ⋮ | ⋮ | ⋮ | ⋮ | ⋮ | ⋮ | ⋮ | ⋮ | ⋱ | ⋮ | ⋮ | ⋮ | ⋮ | ⋮ | ⋮ | ⋮ | ⋮ | ⋮ | ⋮ |\n",
       "| 2883 | 2017-M-DC-2017-WG-M-BEL-FRA-01 | Davis Cup WG F: BEL vs FRA | Hard | 4 | D | 20171124 | 2 | 104542 | NA | ⋯ | 54 | 30 | 12 | 12 | 5 | 11 | 15 | 2320 | 76 |  667 |\n",
       "| 2884 | 2017-M-DC-2017-WG-M-BEL-FRA-01 | Davis Cup WG F: BEL vs FRA | Hard | 4 | D | 20171124 | 4 | 105676 | NA | ⋯ | 54 | 44 | 13 | 14 | 7 | 10 |  7 | 3775 | 15 | 2320 |\n",
       "| 2885 | 2017-M-DC-2017-WG-M-BEL-FRA-01 | Davis Cup WG F: BEL vs FRA | Hard | 4 | D | 20171124 | 5 | 106298 | NA | ⋯ | 53 | 29 | 11 | 11 | 4 | 11 | 18 | 2235 | 76 |  667 |\n",
       "\n"
      ],
      "text/plain": [
       "     X1   tourney_id                     tourney_name               surface\n",
       "1    0    2019-M020                      Brisbane                   Hard   \n",
       "2    1    2019-M020                      Brisbane                   Hard   \n",
       "3    2    2019-M020                      Brisbane                   Hard   \n",
       "⋮    ⋮    ⋮                              ⋮                          ⋮      \n",
       "6864 2883 2017-M-DC-2017-WG-M-BEL-FRA-01 Davis Cup WG F: BEL vs FRA Hard   \n",
       "6865 2884 2017-M-DC-2017-WG-M-BEL-FRA-01 Davis Cup WG F: BEL vs FRA Hard   \n",
       "6866 2885 2017-M-DC-2017-WG-M-BEL-FRA-01 Davis Cup WG F: BEL vs FRA Hard   \n",
       "     draw_size tourney_level tourney_date match_num winner_id winner_seed ⋯\n",
       "1    32        A             20181231     300       105453    2           ⋯\n",
       "2    32        A             20181231     299       106421    4           ⋯\n",
       "3    32        A             20181231     298       105453    2           ⋯\n",
       "⋮    ⋮         ⋮             ⋮            ⋮         ⋮         ⋮           ⋱\n",
       "6864 4         D             20171124     2         104542    NA          ⋯\n",
       "6865 4         D             20171124     4         105676    NA          ⋯\n",
       "6866 4         D             20171124     5         106298    NA          ⋯\n",
       "     l_1stIn l_1stWon l_2ndWon l_SvGms l_bpSaved l_bpFaced winner_rank\n",
       "1    54      34       20       14      10        15         9         \n",
       "2    52      36        7       10      10        13        16         \n",
       "3    27      15        6        8       1         5         9         \n",
       "⋮    ⋮       ⋮        ⋮        ⋮       ⋮         ⋮         ⋮          \n",
       "6864 54      30       12       12      5         11        15         \n",
       "6865 54      44       13       14      7         10         7         \n",
       "6866 53      29       11       11      4         11        18         \n",
       "     winner_rank_points loser_rank loser_rank_points\n",
       "1    3590                16        1977             \n",
       "2    1977               239         200             \n",
       "3    3590                40        1050             \n",
       "⋮    ⋮                  ⋮          ⋮                \n",
       "6864 2320               76          667             \n",
       "6865 3775               15         2320             \n",
       "6866 2235               76          667             "
      ]
     },
     "metadata": {},
     "output_type": "display_data"
    }
   ],
   "source": [
    "## the dataset can be read from the URL link:\n",
    "atp_data_frame <- read_csv(\"https://drive.google.com/uc?export=download&id=1fOQ8sy_qMkQiQEAO6uFdRX4tLI8EpSTn\")\n",
    "atp_data_frame"
   ]
  },
  {
   "cell_type": "code",
   "execution_count": 114,
   "metadata": {},
   "outputs": [
    {
     "name": "stderr",
     "output_type": "stream",
     "text": [
      "`summarise()` ungrouping output (override with `.groups` argument)\n",
      "\n",
      "`summarise()` ungrouping output (override with `.groups` argument)\n",
      "\n",
      "Joining, by = \"player_id\"\n",
      "\n"
     ]
    },
    {
     "data": {
      "text/html": [
       "103"
      ],
      "text/latex": [
       "103"
      ],
      "text/markdown": [
       "103"
      ],
      "text/plain": [
       "[1] 103"
      ]
     },
     "metadata": {},
     "output_type": "display_data"
    }
   ],
   "source": [
    "\n",
    "# calculate player wins and mean match stats for winning matches\n",
    "player_wins <- atp_data_frame %>%\n",
    "    group_by(player_id = winner_id) %>%\n",
    "    summarize(w_height = mean(winner_ht, na.rm =TRUE),\n",
    "              w_breakpoint_saved_pct = mean(w_bpSaved/w_bpFaced, na.rm =TRUE),\n",
    "              w_second_serve_win_pct = mean(w_2ndWon / w_svpt,na.rm =TRUE),\n",
    "              w_first_serve_pct = mean(w_1stWon / w_1stIn,na.rm =TRUE),\n",
    "              w_first_serve_win_pct = mean(w_1stWon / w_svpt, na.rm = TRUE),\n",
    "              n_wins = n(),\n",
    "              mean_age_w  = mean(winner_age),\n",
    "              mean_rank_points_w = mean(winner_rank_points),\n",
    "              w_ace_point_pct = mean(w_ace/w_svpt,na.rm = TRUE)\n",
    "             ) %>%\n",
    "    drop_na() %>%\n",
    "    mutate(player_id = as.character(player_id))\n",
    "\n",
    "# calculate player losses and mean match stats for losing matches\n",
    "player_lose <- atp_data_frame %>%\n",
    "    group_by(player_id = loser_id) %>%\n",
    "    summarize(l_height = mean(loser_ht, na.rm =TRUE),\n",
    "              l_breakpoint_saved_pct = mean(l_bpSaved/l_bpFaced, na.rm =TRUE),\n",
    "              l_second_serve_win_pct = mean(l_2ndWon / l_svpt,na.rm =TRUE),\n",
    "              l_first_serve_pct = mean(l_1stWon / l_1stIn,na.rm =TRUE),\n",
    "              l_first_serve_win_pct = mean(l_1stWon / l_svpt, na.rm = TRUE),\n",
    "              n_lose = n(),\n",
    "              mean_age_l  = mean(loser_age),\n",
    "              mean_rank_points_l = mean(loser_rank_points),\n",
    "              l_ace_point_pct = mean(l_ace/l_svpt,na.rm = TRUE)\n",
    "             ) %>%\n",
    "    drop_na() %>%\n",
    "    mutate(player_id = as.character(player_id))\n",
    "\n",
    "# join datasets for wins and losses using unique player ids\n",
    "player_join <- left_join(player_wins, player_lose, by = NULL, copy = TRUE)\n",
    "\n",
    "# calculate career stats for all player matches\n",
    "player_career <- player_join %>%\n",
    "    mutate(height = (w_height + l_height)/2,\n",
    "          breakpoint_saved_pct = (w_breakpoint_saved_pct+l_breakpoint_saved_pct)/2,\n",
    "          second_serve_win_pct = (w_second_serve_win_pct+l_second_serve_win_pct)/2,\n",
    "          first_serve_pct = (w_first_serve_pct+l_first_serve_pct)/2,\n",
    "          first_serve_win_pct = (w_first_serve_win_pct + l_first_serve_win_pct)/2,\n",
    "          win_rate = (n_wins/(n_lose+n_wins)*100),\n",
    "          age = (mean_age_w + mean_age_l) /2,\n",
    "          mean_rank_points = (mean_rank_points_w + mean_rank_points_l)/2,\n",
    "          ace_point_pct = (w_ace_point_pct+l_ace_point_pct)/2) %>%\n",
    "    select(player_id,height,breakpoint_saved_pct,second_serve_win_pct,first_serve_pct,first_serve_win_pct, win_rate,age,mean_rank_points,ace_point_pct) %>%\n",
    "    drop_na()\n",
    "\n",
    "nrow(player_career)"
   ]
  },
  {
   "cell_type": "markdown",
   "metadata": {},
   "source": [
    "We have grouped each unique player's matches together and calculated the mean of several key stats, creating a \"career average\" dataframe. Additionally, we have introduced a new stat, *win_rate*, which is the percentage of matches won by that player.\n",
    "\n",
    "For each relationship we show a correlation coefficient indicating the strength and direction."
   ]
  },
  {
   "cell_type": "code",
   "execution_count": 115,
   "metadata": {},
   "outputs": [],
   "source": [
    "# split the data set into training and testing set. The following exploratory data analysis uses only the training set\n",
    "set.seed(20)\n",
    "player_split <- initial_split(player_career, prop = 0.75, strata = win_rate)\n",
    "player_train <- training(player_split)\n",
    "player_test <- testing(player_split)"
   ]
  },
  {
   "cell_type": "code",
   "execution_count": 116,
   "metadata": {},
   "outputs": [
    {
     "data": {
      "text/html": [
       "<table>\n",
       "<caption>A tibble: 1 × 9</caption>\n",
       "<thead>\n",
       "\t<tr><th scope=col>height</th><th scope=col>breakpoint_saved_pct</th><th scope=col>second_serve_win_pct</th><th scope=col>first_serve_pct</th><th scope=col>first_serve_win_pct</th><th scope=col>win_rate</th><th scope=col>age</th><th scope=col>mean_rank_points</th><th scope=col>ace_point_pct</th></tr>\n",
       "\t<tr><th scope=col>&lt;dbl&gt;</th><th scope=col>&lt;dbl&gt;</th><th scope=col>&lt;dbl&gt;</th><th scope=col>&lt;dbl&gt;</th><th scope=col>&lt;dbl&gt;</th><th scope=col>&lt;dbl&gt;</th><th scope=col>&lt;dbl&gt;</th><th scope=col>&lt;dbl&gt;</th><th scope=col>&lt;dbl&gt;</th></tr>\n",
       "</thead>\n",
       "<tbody>\n",
       "\t<tr><td>186.0253</td><td>0.5947108</td><td>0.1958433</td><td>0.7193289</td><td>0.44232</td><td>45.90908</td><td>30.0706</td><td>1208.705</td><td>0.07991921</td></tr>\n",
       "</tbody>\n",
       "</table>\n"
      ],
      "text/latex": [
       "A tibble: 1 × 9\n",
       "\\begin{tabular}{lllllllll}\n",
       " height & breakpoint\\_saved\\_pct & second\\_serve\\_win\\_pct & first\\_serve\\_pct & first\\_serve\\_win\\_pct & win\\_rate & age & mean\\_rank\\_points & ace\\_point\\_pct\\\\\n",
       " <dbl> & <dbl> & <dbl> & <dbl> & <dbl> & <dbl> & <dbl> & <dbl> & <dbl>\\\\\n",
       "\\hline\n",
       "\t 186.0253 & 0.5947108 & 0.1958433 & 0.7193289 & 0.44232 & 45.90908 & 30.0706 & 1208.705 & 0.07991921\\\\\n",
       "\\end{tabular}\n"
      ],
      "text/markdown": [
       "\n",
       "A tibble: 1 × 9\n",
       "\n",
       "| height &lt;dbl&gt; | breakpoint_saved_pct &lt;dbl&gt; | second_serve_win_pct &lt;dbl&gt; | first_serve_pct &lt;dbl&gt; | first_serve_win_pct &lt;dbl&gt; | win_rate &lt;dbl&gt; | age &lt;dbl&gt; | mean_rank_points &lt;dbl&gt; | ace_point_pct &lt;dbl&gt; |\n",
       "|---|---|---|---|---|---|---|---|---|\n",
       "| 186.0253 | 0.5947108 | 0.1958433 | 0.7193289 | 0.44232 | 45.90908 | 30.0706 | 1208.705 | 0.07991921 |\n",
       "\n"
      ],
      "text/plain": [
       "  height   breakpoint_saved_pct second_serve_win_pct first_serve_pct\n",
       "1 186.0253 0.5947108            0.1958433            0.7193289      \n",
       "  first_serve_win_pct win_rate age     mean_rank_points ace_point_pct\n",
       "1 0.44232             45.90908 30.0706 1208.705         0.07991921   "
      ]
     },
     "metadata": {},
     "output_type": "display_data"
    }
   ],
   "source": [
    "# exploratory data analysis table:\n",
    "\n",
    "# the means of the predictor variables we plan to use in our analysis\n",
    "exploratory_data_analysis_table <- player_train %>%\n",
    "    select(-player_id) %>%\n",
    "    map_df(mean, na.rm = TRUE)\n",
    "exploratory_data_analysis_table\n"
   ]
  },
  {
   "cell_type": "code",
   "execution_count": 117,
   "metadata": {},
   "outputs": [
    {
     "data": {
      "image/png": "[encoded data removed]",
      "text/plain": [
       "plot without title"
      ]
     },
     "metadata": {
      "image/png": {
       "height": 420,
       "width": 420
      }
     },
     "output_type": "display_data"
    }
   ],
   "source": [
    "# exploratory data analysis plot:\n",
    "exploratory_data_analysis_plot_1 <- ggplot(player_train, aes(x = mean_rank_points,y = win_rate)) + \n",
    "    geom_point() +\n",
    "    xlab(\"Average Rank points\") +\n",
    "    ylab(\"Win Rate (%)\") + \n",
    "    theme(text = element_text(size = 20)) + \n",
    "    ggtitle(\"Win Rate % vs Average Career Rank Points\") \n",
    "exploratory_data_analysis_plot_1"
   ]
  },
  {
   "cell_type": "markdown",
   "metadata": {},
   "source": [
    "1). There is a strong relationship between \"average career rank points\" and \"win rate\" is which is non-linear and positive. This sets up nicely for a KNN regression model."
   ]
  },
  {
   "cell_type": "markdown",
   "metadata": {},
   "source": [
    "2). There is a weak relationship between “average double fault rate” and the “win rate” that is negative and linear."
   ]
  },
  {
   "cell_type": "code",
   "execution_count": 119,
   "metadata": {},
   "outputs": [
    {
     "data": {
      "text/html": [
       "<table>\n",
       "<caption>A matrix: 1 × 1 of type dbl</caption>\n",
       "<thead>\n",
       "\t<tr><th></th><th scope=col>win_rate</th></tr>\n",
       "</thead>\n",
       "<tbody>\n",
       "\t<tr><th scope=row>age</th><td>-0.1175338</td></tr>\n",
       "</tbody>\n",
       "</table>\n"
      ],
      "text/latex": [
       "A matrix: 1 × 1 of type dbl\n",
       "\\begin{tabular}{r|l}\n",
       "  & win\\_rate\\\\\n",
       "\\hline\n",
       "\tage & -0.1175338\\\\\n",
       "\\end{tabular}\n"
      ],
      "text/markdown": [
       "\n",
       "A matrix: 1 × 1 of type dbl\n",
       "\n",
       "| <!--/--> | win_rate |\n",
       "|---|---|\n",
       "| age | -0.1175338 |\n",
       "\n"
      ],
      "text/plain": [
       "    win_rate  \n",
       "age -0.1175338"
      ]
     },
     "metadata": {},
     "output_type": "display_data"
    },
    {
     "name": "stderr",
     "output_type": "stream",
     "text": [
      "`geom_smooth()` using formula 'y ~ x'\n",
      "\n"
     ]
    },
    {
     "data": {
      "image/png": "[encoded data removed]",
      "text/plain": [
       "plot without title"
      ]
     },
     "metadata": {
      "image/png": {
       "height": 420,
       "width": 420
      }
     },
     "output_type": "display_data"
    }
   ],
   "source": [
    "# exploratory data analysis plot:\n",
    "exploratory_data_analysis_plot_3 <- ggplot(player_train, aes(x = age,y=win_rate)) + \n",
    "    geom_point() +\n",
    "    xlab(\"Age\") +\n",
    "    ylab(\"Win Rate (%)\") + \n",
    "    theme(text = element_text(size = 20)) + \n",
    "    geom_smooth(method = \"lm\", se = FALSE) +\n",
    "    ggtitle(\"Win Rate % vs Age\")\n",
    "x <- select(player_train, age)\n",
    "y <- select(player_train, win_rate)\n",
    "c_l_2 <- cor(x, y,  method = \"pearson\", use = \"complete.obs\")\n",
    "c_l_2\n",
    "exploratory_data_analysis_plot_3"
   ]
  },
  {
   "cell_type": "markdown",
   "metadata": {},
   "source": [
    "3). There is a weak relationship between “age” and “win rate” that is negative and linear."
   ]
  },
  {
   "cell_type": "code",
   "execution_count": 120,
   "metadata": {},
   "outputs": [
    {
     "data": {
      "text/html": [
       "<table>\n",
       "<caption>A matrix: 1 × 1 of type dbl</caption>\n",
       "<thead>\n",
       "\t<tr><th></th><th scope=col>win_rate</th></tr>\n",
       "</thead>\n",
       "<tbody>\n",
       "\t<tr><th scope=row>first_serve_win_pct</th><td>0.2336128</td></tr>\n",
       "</tbody>\n",
       "</table>\n"
      ],
      "text/latex": [
       "A matrix: 1 × 1 of type dbl\n",
       "\\begin{tabular}{r|l}\n",
       "  & win\\_rate\\\\\n",
       "\\hline\n",
       "\tfirst\\_serve\\_win\\_pct & 0.2336128\\\\\n",
       "\\end{tabular}\n"
      ],
      "text/markdown": [
       "\n",
       "A matrix: 1 × 1 of type dbl\n",
       "\n",
       "| <!--/--> | win_rate |\n",
       "|---|---|\n",
       "| first_serve_win_pct | 0.2336128 |\n",
       "\n"
      ],
      "text/plain": [
       "                    win_rate \n",
       "first_serve_win_pct 0.2336128"
      ]
     },
     "metadata": {},
     "output_type": "display_data"
    },
    {
     "name": "stderr",
     "output_type": "stream",
     "text": [
      "`geom_smooth()` using formula 'y ~ x'\n",
      "\n"
     ]
    },
    {
     "data": {
      "image/png": "[encoded data removed]",
      "text/plain": [
       "plot without title"
      ]
     },
     "metadata": {
      "image/png": {
       "height": 420,
       "width": 420
      }
     },
     "output_type": "display_data"
    }
   ],
   "source": [
    "# exploratory data analysis plot:\n",
    "exploratory_data_analysis_plot_4 <- ggplot(player_train, aes(x = first_serve_win_pct,y=win_rate)) + \n",
    "    geom_point() +\n",
    "    xlab(\"First Serve Win %\") +\n",
    "    ylab(\"Win Rate (%)\") + \n",
    "    theme(text = element_text(size = 20)) + \n",
    "    geom_smooth(method = \"lm\", se = FALSE) +\n",
    "    ggtitle(\"Win Rate % vs First Serve Win %\")\n",
    "x <- select(player_train, first_serve_win_pct)\n",
    "y <- select(player_train, win_rate)\n",
    "c_l_3 <- cor(x, y,  method = \"pearson\", use = \"complete.obs\")\n",
    "c_l_3\n",
    "exploratory_data_analysis_plot_4"
   ]
  },
  {
   "cell_type": "markdown",
   "metadata": {},
   "source": [
    "4). There is a positive linear relationship between a player’s “first serve win percentage” and “win rate”."
   ]
  },
  {
   "cell_type": "code",
   "execution_count": 121,
   "metadata": {},
   "outputs": [
    {
     "data": {
      "text/html": [
       "<table>\n",
       "<caption>A matrix: 1 × 1 of type dbl</caption>\n",
       "<thead>\n",
       "\t<tr><th></th><th scope=col>win_rate</th></tr>\n",
       "</thead>\n",
       "<tbody>\n",
       "\t<tr><th scope=row>ace_point_pct</th><td>0.1655874</td></tr>\n",
       "</tbody>\n",
       "</table>\n"
      ],
      "text/latex": [
       "A matrix: 1 × 1 of type dbl\n",
       "\\begin{tabular}{r|l}\n",
       "  & win\\_rate\\\\\n",
       "\\hline\n",
       "\tace\\_point\\_pct & 0.1655874\\\\\n",
       "\\end{tabular}\n"
      ],
      "text/markdown": [
       "\n",
       "A matrix: 1 × 1 of type dbl\n",
       "\n",
       "| <!--/--> | win_rate |\n",
       "|---|---|\n",
       "| ace_point_pct | 0.1655874 |\n",
       "\n"
      ],
      "text/plain": [
       "              win_rate \n",
       "ace_point_pct 0.1655874"
      ]
     },
     "metadata": {},
     "output_type": "display_data"
    },
    {
     "name": "stderr",
     "output_type": "stream",
     "text": [
      "`geom_smooth()` using formula 'y ~ x'\n",
      "\n"
     ]
    },
    {
     "data": {
      "image/png": "[encoded data removed]",
      "text/plain": [
       "plot without title"
      ]
     },
     "metadata": {
      "image/png": {
       "height": 420,
       "width": 420
      }
     },
     "output_type": "display_data"
    }
   ],
   "source": [
    "# exploratory data analysis plot:\n",
    "exploratory_data_analysis_plot_5 <- ggplot(player_train, aes(x = ace_point_pct,y=win_rate)) + \n",
    "    geom_point() +\n",
    "    xlab(\"Ace Point %\") +\n",
    "    ylab(\"Win Rate (%)\") + \n",
    "    theme(text = element_text(size = 20)) + \n",
    "    geom_smooth(method = \"lm\", se = FALSE) +\n",
    "    ggtitle(\"Win Rate % vs Ace point %\")\n",
    "x <- select(player_train, ace_point_pct)\n",
    "y <- select(player_train, win_rate)\n",
    "c_l_4 <- cor(x, y,  method = \"pearson\", use = \"complete.obs\")\n",
    "c_l_4\n",
    "exploratory_data_analysis_plot_5"
   ]
  },
  {
   "cell_type": "markdown",
   "metadata": {},
   "source": [
    "5). There is a positive linear relationship between “ace point %” and “win rate”."
   ]
  },
  {
   "cell_type": "markdown",
   "metadata": {},
   "source": [
    "# Methods <img align=\"left\" src=\"https://encrypted-tbn0.gstatic.com/images?q=tbn:ANd9GcSDixQBw3HoqS_gnC9xVtHO-5NrnS1eQ91N3w&usqp=CAU\" width=\"35\" />  "
   ]
  },
  {
   "cell_type": "markdown",
   "metadata": {},
   "source": [
    "With the following key variables, we can create a KNN regression model to predict win rate:\n",
    "\n",
    "- Age (years)                    \n",
    "- Serve Points that were Aces (%) \n",
    "- First Serves Won/Made (%)           \n",
    "- Double Faults per Game (ratio)  \n",
    "- Breakpoints Saved (%)           \n",
    "- Rank Points                     \n",
    "\n",
    "The KNN regression model will need to be trained, evaluated, and tuned with training and testing sets before predicting win rate on a new player. By plotting both K and RMSE (Root Mean Square Error), we will be able to visualize how each predictor affects the player's win rate. We can also analyze which combination of predictors will yield the lowest test error resulting in a more effective model."
   ]
  },
  {
   "cell_type": "markdown",
   "metadata": {},
   "source": [
    "# Expected outcomes and significance <img align=\"left\" src=\"https://encrypted-tbn0.gstatic.com/images?q=tbn:ANd9GcSDixQBw3HoqS_gnC9xVtHO-5NrnS1eQ91N3w&usqp=CAU\" width=\"35\" /> "
   ]
  },
  {
   "cell_type": "markdown",
   "metadata": {},
   "source": [
    "We expect that the estimated win rate will reflect the respective career stats of the player. If they have impressive stats, such as high breakpoint save percentage, then their win rate will be high. Conversely, lower stats mean lower win rate.  \n",
    "\n",
    "Predicting the win rate of a given player could be useful in understanding how the player will perform in the future and making a rough estimate of a player's chances in an upcoming tournament or season. Additionally, it can be used to provide a clearer estimate of the result of a head-to-head match.  \n",
    "\n",
    "\n",
    "This analysis could also prompt further questions:\n",
    " - Are there stats not included in the dataset that could improve the effectiveness of the model?\n",
    " - Do certain stats influence win rate more, and if so, is there a better weight function to use in the regression engine?\n"
   ]
  },
  {
   "cell_type": "markdown",
   "metadata": {},
   "source": [
    "### MESSING AROUND WITH PREDICTORS"
   ]
  },
  {
   "cell_type": "code",
   "execution_count": 122,
   "metadata": {},
   "outputs": [
    {
     "name": "stdout",
     "output_type": "stream",
     "text": [
      "Rows: 79\n",
      "Columns: 10\n",
      "$ player_id            \u001b[3m\u001b[90m<chr>\u001b[39m\u001b[23m \"100644\", \"103333\", \"103852\", \"103893\", \"103917\"…\n",
      "$ height               \u001b[3m\u001b[90m<dbl>\u001b[39m\u001b[23m 198, 208, 188, 183, 190, 188, 178, 188, 178, 190…\n",
      "$ breakpoint_saved_pct \u001b[3m\u001b[90m<dbl>\u001b[39m\u001b[23m 0.5592240, 0.7024075, 0.6435922, 0.6032682, 0.63…\n",
      "$ second_serve_win_pct \u001b[3m\u001b[90m<dbl>\u001b[39m\u001b[23m 0.1700660, 0.1934502, 0.2029322, 0.2086046, 0.20…\n",
      "$ first_serve_pct      \u001b[3m\u001b[90m<dbl>\u001b[39m\u001b[23m 0.7351579, 0.8336761, 0.7678518, 0.7053554, 0.72…\n",
      "$ first_serve_win_pct  \u001b[3m\u001b[90m<dbl>\u001b[39m\u001b[23m 0.4788888, 0.5415601, 0.4570213, 0.4156136, 0.44…\n",
      "$ win_rate             \u001b[3m\u001b[90m<dbl>\u001b[39m\u001b[23m 69.346734, 41.025641, 47.115385, 34.567901, 40.9…\n",
      "$ age                  \u001b[3m\u001b[90m<dbl>\u001b[39m\u001b[23m 21.15730, 39.12084, 36.59486, 36.00516, 35.78922…\n",
      "$ mean_rank_points     \u001b[3m\u001b[90m<dbl>\u001b[39m\u001b[23m 4281.6435, 962.8682, 1064.2837, 929.3494, 637.01…\n",
      "$ ace_point_pct        \u001b[3m\u001b[90m<dbl>\u001b[39m\u001b[23m 0.11124906, 0.23093646, 0.13948328, 0.05544316, …\n"
     ]
    },
    {
     "data": {
      "text/html": [
       "<style>\n",
       ".list-inline {list-style: none; margin:0; padding: 0}\n",
       ".list-inline>li {display: inline-block}\n",
       ".list-inline>li:not(:last-child)::after {content: \"\\00b7\"; padding: 0 .5ex}\n",
       "</style>\n",
       "<ol class=list-inline><li>'player_id'</li><li>'height'</li><li>'breakpoint_saved_pct'</li><li>'second_serve_win_pct'</li><li>'first_serve_pct'</li><li>'first_serve_win_pct'</li><li>'win_rate'</li><li>'age'</li><li>'mean_rank_points'</li><li>'ace_point_pct'</li></ol>\n"
      ],
      "text/latex": [
       "\\begin{enumerate*}\n",
       "\\item 'player\\_id'\n",
       "\\item 'height'\n",
       "\\item 'breakpoint\\_saved\\_pct'\n",
       "\\item 'second\\_serve\\_win\\_pct'\n",
       "\\item 'first\\_serve\\_pct'\n",
       "\\item 'first\\_serve\\_win\\_pct'\n",
       "\\item 'win\\_rate'\n",
       "\\item 'age'\n",
       "\\item 'mean\\_rank\\_points'\n",
       "\\item 'ace\\_point\\_pct'\n",
       "\\end{enumerate*}\n"
      ],
      "text/markdown": [
       "1. 'player_id'\n",
       "2. 'height'\n",
       "3. 'breakpoint_saved_pct'\n",
       "4. 'second_serve_win_pct'\n",
       "5. 'first_serve_pct'\n",
       "6. 'first_serve_win_pct'\n",
       "7. 'win_rate'\n",
       "8. 'age'\n",
       "9. 'mean_rank_points'\n",
       "10. 'ace_point_pct'\n",
       "\n",
       "\n"
      ],
      "text/plain": [
       " [1] \"player_id\"            \"height\"               \"breakpoint_saved_pct\"\n",
       " [4] \"second_serve_win_pct\" \"first_serve_pct\"      \"first_serve_win_pct\" \n",
       " [7] \"win_rate\"             \"age\"                  \"mean_rank_points\"    \n",
       "[10] \"ace_point_pct\"       "
      ]
     },
     "metadata": {},
     "output_type": "display_data"
    },
    {
     "data": {
      "image/png": "[encoded data removed]",
      "text/plain": [
       "plot without title"
      ]
     },
     "metadata": {
      "image/png": {
       "height": 420,
       "width": 420
      }
     },
     "output_type": "display_data"
    }
   ],
   "source": [
    "player_ggpairs <- player_train %>%\n",
    "    select(-player_id) %>%\n",
    "    ggpairs()\n",
    "\n",
    "glimpse(player_train)\n",
    "\n",
    "colnames(player_train)\n",
    "\n",
    "player_ggpairs"
   ]
  },
  {
   "cell_type": "markdown",
   "metadata": {},
   "source": [
    "KNN Regression: One predictor - One target (win_rate)"
   ]
  },
  {
   "cell_type": "code",
   "execution_count": 123,
   "metadata": {},
   "outputs": [
    {
     "name": "stdout",
     "output_type": "stream",
     "text": [
      "[1] \"height\"\n"
     ]
    },
    {
     "name": "stderr",
     "output_type": "stream",
     "text": [
      "Warning message:\n",
      "“The number of observations in each quantile is below the recommended threshold of 20. Stratification will be done with 3 breaks instead.”\n"
     ]
    },
    {
     "name": "stdout",
     "output_type": "stream",
     "text": [
      "[1] \"breakpoint_saved_pct\"\n"
     ]
    },
    {
     "name": "stderr",
     "output_type": "stream",
     "text": [
      "Warning message:\n",
      "“The number of observations in each quantile is below the recommended threshold of 20. Stratification will be done with 3 breaks instead.”\n"
     ]
    },
    {
     "name": "stdout",
     "output_type": "stream",
     "text": [
      "[1] \"second_serve_win_pct\"\n"
     ]
    },
    {
     "name": "stderr",
     "output_type": "stream",
     "text": [
      "Warning message:\n",
      "“The number of observations in each quantile is below the recommended threshold of 20. Stratification will be done with 3 breaks instead.”\n"
     ]
    },
    {
     "name": "stdout",
     "output_type": "stream",
     "text": [
      "[1] \"first_serve_pct\"\n"
     ]
    },
    {
     "name": "stderr",
     "output_type": "stream",
     "text": [
      "Warning message:\n",
      "“The number of observations in each quantile is below the recommended threshold of 20. Stratification will be done with 3 breaks instead.”\n"
     ]
    },
    {
     "name": "stdout",
     "output_type": "stream",
     "text": [
      "[1] \"first_serve_win_pct\"\n"
     ]
    },
    {
     "name": "stderr",
     "output_type": "stream",
     "text": [
      "Warning message:\n",
      "“The number of observations in each quantile is below the recommended threshold of 20. Stratification will be done with 3 breaks instead.”\n"
     ]
    },
    {
     "name": "stdout",
     "output_type": "stream",
     "text": [
      "[1] \"age\"\n"
     ]
    },
    {
     "name": "stderr",
     "output_type": "stream",
     "text": [
      "Warning message:\n",
      "“The number of observations in each quantile is below the recommended threshold of 20. Stratification will be done with 3 breaks instead.”\n"
     ]
    },
    {
     "name": "stdout",
     "output_type": "stream",
     "text": [
      "[1] \"mean_rank_points\"\n"
     ]
    },
    {
     "name": "stderr",
     "output_type": "stream",
     "text": [
      "Warning message:\n",
      "“The number of observations in each quantile is below the recommended threshold of 20. Stratification will be done with 3 breaks instead.”\n"
     ]
    },
    {
     "name": "stdout",
     "output_type": "stream",
     "text": [
      "[1] \"ace_point_pct\"\n"
     ]
    },
    {
     "name": "stderr",
     "output_type": "stream",
     "text": [
      "Warning message:\n",
      "“The number of observations in each quantile is below the recommended threshold of 20. Stratification will be done with 3 breaks instead.”\n"
     ]
    }
   ],
   "source": [
    "set.seed(1)\n",
    "\n",
    "predictors <- c(\n",
    "    'height','breakpoint_saved_pct','second_serve_win_pct','first_serve_pct','first_serve_win_pct','age','mean_rank_points','ace_point_pct'\n",
    ")\n",
    "\n",
    "results <- tibble()\n",
    "results <- mutate(results, predictor = \"\", best_k = 0, rmspe = 0)\n",
    "\n",
    "for (pred in predictors) {\n",
    "\n",
    "    print(pred)\n",
    "    \n",
    "    train_data <- player_train %>%\n",
    "        select(win_rate, all_of(pred))\n",
    "    \n",
    "    test_data <- player_test %>%\n",
    "        select(win_rate, all_of(pred))\n",
    "    \n",
    "    tennis_recipe <- recipe(win_rate ~ ., data = train_data) %>%\n",
    "       step_scale(all_predictors()) %>%\n",
    "       step_center(all_predictors())\n",
    "    \n",
    "    tennis_spec <- nearest_neighbor(weight_func = \"rectangular\", neighbors = tune()) %>%\n",
    "       set_engine(\"kknn\") %>%\n",
    "       set_mode(\"regression\")\n",
    "    \n",
    "    tennis_vfold <- vfold_cv(train_data, v = 5, strata = win_rate)\n",
    "    \n",
    "    tennis_workflow <- workflow() %>%\n",
    "       add_recipe(tennis_recipe) %>%\n",
    "       add_model(tennis_spec)\n",
    "    \n",
    "    gridvals <- tibble(neighbors = seq(1,40))\n",
    "    \n",
    "    tennis_results <- tennis_workflow %>%\n",
    "       tune_grid(resamples = tennis_vfold, grid = gridvals) %>%\n",
    "       collect_metrics() %>%\n",
    "       filter(.metric == \"rmse\") %>%\n",
    "       filter(mean == min(mean))\n",
    "    \n",
    "    kmin <- pull(tennis_results, neighbors)\n",
    "    \n",
    "    tennis_spec_kmin <- nearest_neighbor(weight_func = \"rectangular\", neighbors = kmin) %>%\n",
    "       set_engine(\"kknn\") %>%\n",
    "       set_mode(\"regression\")\n",
    "    \n",
    "    tennis_fit <- workflow() %>%\n",
    "       add_recipe(tennis_recipe) %>%\n",
    "       add_model(tennis_spec_kmin) %>%\n",
    "       fit(data = train_data)\n",
    "    \n",
    "    rmspe_val <- tennis_fit %>%\n",
    "       predict(test_data) %>%\n",
    "       bind_cols(test_data) %>%\n",
    "       metrics(truth = win_rate, estimate = .pred) %>%\n",
    "       filter(.metric == \"rmse\") %>%\n",
    "       select(.estimate) %>%\n",
    "       pull()\n",
    "    \n",
    "    \n",
    "    results <- results %>%\n",
    "        add_row(predictor = pred, best_k=kmin, rmspe = rmspe_val)\n",
    "    \n",
    "}"
   ]
  },
  {
   "cell_type": "code",
   "execution_count": 124,
   "metadata": {},
   "outputs": [
    {
     "data": {
      "text/html": [
       "<table>\n",
       "<caption>A tibble: 6 × 3</caption>\n",
       "<thead>\n",
       "\t<tr><th scope=col>predictor</th><th scope=col>best_k</th><th scope=col>rmspe</th></tr>\n",
       "\t<tr><th scope=col>&lt;chr&gt;</th><th scope=col>&lt;dbl&gt;</th><th scope=col>&lt;dbl&gt;</th></tr>\n",
       "</thead>\n",
       "<tbody>\n",
       "\t<tr><td>mean_rank_points    </td><td> 7</td><td>10.24509</td></tr>\n",
       "\t<tr><td>first_serve_win_pct </td><td>36</td><td>15.55832</td></tr>\n",
       "\t<tr><td>height              </td><td>37</td><td>15.89049</td></tr>\n",
       "\t<tr><td>first_serve_pct     </td><td>28</td><td>16.09443</td></tr>\n",
       "\t<tr><td>age                 </td><td>39</td><td>16.23855</td></tr>\n",
       "\t<tr><td>breakpoint_saved_pct</td><td>33</td><td>16.26547</td></tr>\n",
       "</tbody>\n",
       "</table>\n"
      ],
      "text/latex": [
       "A tibble: 6 × 3\n",
       "\\begin{tabular}{lll}\n",
       " predictor & best\\_k & rmspe\\\\\n",
       " <chr> & <dbl> & <dbl>\\\\\n",
       "\\hline\n",
       "\t mean\\_rank\\_points     &  7 & 10.24509\\\\\n",
       "\t first\\_serve\\_win\\_pct  & 36 & 15.55832\\\\\n",
       "\t height               & 37 & 15.89049\\\\\n",
       "\t first\\_serve\\_pct      & 28 & 16.09443\\\\\n",
       "\t age                  & 39 & 16.23855\\\\\n",
       "\t breakpoint\\_saved\\_pct & 33 & 16.26547\\\\\n",
       "\\end{tabular}\n"
      ],
      "text/markdown": [
       "\n",
       "A tibble: 6 × 3\n",
       "\n",
       "| predictor &lt;chr&gt; | best_k &lt;dbl&gt; | rmspe &lt;dbl&gt; |\n",
       "|---|---|---|\n",
       "| mean_rank_points     |  7 | 10.24509 |\n",
       "| first_serve_win_pct  | 36 | 15.55832 |\n",
       "| height               | 37 | 15.89049 |\n",
       "| first_serve_pct      | 28 | 16.09443 |\n",
       "| age                  | 39 | 16.23855 |\n",
       "| breakpoint_saved_pct | 33 | 16.26547 |\n",
       "\n"
      ],
      "text/plain": [
       "  predictor            best_k rmspe   \n",
       "1 mean_rank_points      7     10.24509\n",
       "2 first_serve_win_pct  36     15.55832\n",
       "3 height               37     15.89049\n",
       "4 first_serve_pct      28     16.09443\n",
       "5 age                  39     16.23855\n",
       "6 breakpoint_saved_pct 33     16.26547"
      ]
     },
     "metadata": {},
     "output_type": "display_data"
    }
   ],
   "source": [
    "results %>% arrange(rmspe) %>% head()"
   ]
  },
  {
   "cell_type": "markdown",
   "metadata": {},
   "source": [
    "| Predictor              | RMSE     |\n",
    "|------------------------|----------|\n",
    "| mean_rank_points       | 10.23683 |\n",
    "| height                 | 15.85000 |\n",
    "| breakpoint_saved_pct   | 16.22718 |\n",
    "| second_serve_win_pct   | 16.31776 |\n",
    "| first_serve_pct        | 15.97336 |\n",
    "| first_serve_win_pct    | 16.26900 |\n",
    "| age                    | 16.20005 |\n",
    "| ace_point_pct          | 16.37700 |"
   ]
  },
  {
   "cell_type": "markdown",
   "metadata": {},
   "source": [
    "KNN Regression: Multiple predictors (mean_rank_points + first_serve_win_pct) - One target (win_rate)"
   ]
  },
  {
   "cell_type": "code",
   "execution_count": 125,
   "metadata": {},
   "outputs": [
    {
     "name": "stderr",
     "output_type": "stream",
     "text": [
      "Warning message:\n",
      "“The number of observations in each quantile is below the recommended threshold of 20. Stratification will be done with 3 breaks instead.”\n"
     ]
    }
   ],
   "source": [
    "set.seed(1)\n",
    "\n",
    "tennis_recipe_multiple <- recipe(win_rate ~ mean_rank_points + first_serve_win_pct, data = player_train) %>%\n",
    "    step_scale(all_predictors()) %>%\n",
    "    step_center(all_predictors())\n",
    "\n",
    "tennis_spec_mul <- nearest_neighbor(weight_func = \"rectangular\", neighbors = tune()) %>%\n",
    "   set_engine(\"kknn\") %>%\n",
    "   set_mode(\"regression\")\n",
    "\n",
    "tennis_vfold_mul <- vfold_cv(player_train, v = 5, strata = win_rate)\n",
    "\n",
    "tennis_workflow_multiple <- workflow() %>%\n",
    "   add_recipe(tennis_recipe_multiple) %>%\n",
    "   add_model(tennis_spec_mul)\n",
    "\n",
    "gridvals_mul <- tibble(neighbors = seq(1,40))\n",
    "\n",
    "tennis_results_multiple <- tennis_workflow_multiple %>%\n",
    "   tune_grid(resamples = tennis_vfold_mul, grid = gridvals_mul) %>%\n",
    "   collect_metrics() %>%\n",
    "   filter(.metric == \"rmse\") %>%\n",
    "   filter(mean == min(mean))\n",
    "\n",
    "kmin_multiple <- pull(tennis_results_multiple, neighbors)\n",
    "\n",
    "tennis_spec_kmin_mul <- nearest_neighbor(weight_func = \"rectangular\", neighbors = kmin) %>%\n",
    "   set_engine(\"kknn\") %>%\n",
    "   set_mode(\"regression\")\n",
    "\n",
    "tennis_fit_multiple <- workflow() %>%\n",
    "   add_recipe(tennis_recipe_multiple) %>%\n",
    "   add_model(tennis_spec_kmin_mul) %>%\n",
    "   fit(data = player_train)\n",
    "\n",
    "rmspe_val_mul <- tennis_fit_multiple %>%\n",
    "   predict(player_test) %>%\n",
    "   bind_cols(player_test) %>%\n",
    "   metrics(truth = win_rate, estimate = .pred) %>%\n",
    "   filter(.metric == \"rmse\") %>%\n",
    "   select(.estimate)"
   ]
  },
  {
   "cell_type": "markdown",
   "metadata": {},
   "source": [
    "mean_rank_points + first_serve_win_pct"
   ]
  },
  {
   "cell_type": "code",
   "execution_count": 126,
   "metadata": {},
   "outputs": [
    {
     "data": {
      "text/html": [
       "<table>\n",
       "<caption>A tibble: 1 × 1</caption>\n",
       "<thead>\n",
       "\t<tr><th scope=col>.estimate</th></tr>\n",
       "\t<tr><th scope=col>&lt;dbl&gt;</th></tr>\n",
       "</thead>\n",
       "<tbody>\n",
       "\t<tr><td>8.328683</td></tr>\n",
       "</tbody>\n",
       "</table>\n"
      ],
      "text/latex": [
       "A tibble: 1 × 1\n",
       "\\begin{tabular}{l}\n",
       " .estimate\\\\\n",
       " <dbl>\\\\\n",
       "\\hline\n",
       "\t 8.328683\\\\\n",
       "\\end{tabular}\n"
      ],
      "text/markdown": [
       "\n",
       "A tibble: 1 × 1\n",
       "\n",
       "| .estimate &lt;dbl&gt; |\n",
       "|---|\n",
       "| 8.328683 |\n",
       "\n"
      ],
      "text/plain": [
       "  .estimate\n",
       "1 8.328683 "
      ]
     },
     "metadata": {},
     "output_type": "display_data"
    }
   ],
   "source": [
    "rmspe_val_mul"
   ]
  },
  {
   "cell_type": "markdown",
   "metadata": {},
   "source": [
    "KNN Regression: Multiple predictors (mean_rank_points + height) - One target (win_rate)"
   ]
  },
  {
   "cell_type": "code",
   "execution_count": 127,
   "metadata": {},
   "outputs": [
    {
     "name": "stderr",
     "output_type": "stream",
     "text": [
      "Warning message:\n",
      "“The number of observations in each quantile is below the recommended threshold of 20. Stratification will be done with 3 breaks instead.”\n"
     ]
    }
   ],
   "source": [
    "set.seed(1)\n",
    "\n",
    "tennis_recipe_multiple <- recipe(win_rate ~ mean_rank_points + height, data = player_train) %>%\n",
    "    step_scale(all_predictors()) %>%\n",
    "    step_center(all_predictors())\n",
    "\n",
    "tennis_spec_mul <- nearest_neighbor(weight_func = \"rectangular\", neighbors = tune()) %>%\n",
    "   set_engine(\"kknn\") %>%\n",
    "   set_mode(\"regression\")\n",
    "\n",
    "tennis_vfold_mul <- vfold_cv(player_train, v = 5, strata = win_rate)\n",
    "\n",
    "tennis_workflow_multiple <- workflow() %>%\n",
    "   add_recipe(tennis_recipe_multiple) %>%\n",
    "   add_model(tennis_spec_mul)\n",
    "\n",
    "gridvals_mul <- tibble(neighbors = seq(1,40))\n",
    "\n",
    "tennis_results_multiple <- tennis_workflow_multiple %>%\n",
    "   tune_grid(resamples = tennis_vfold_mul, grid = gridvals_mul) %>%\n",
    "   collect_metrics() %>%\n",
    "   filter(.metric == \"rmse\") %>%\n",
    "   filter(mean == min(mean))\n",
    "\n",
    "kmin_multiple <- pull(tennis_results_multiple, neighbors)\n",
    "\n",
    "tennis_spec_kmin_mul <- nearest_neighbor(weight_func = \"rectangular\", neighbors = kmin) %>%\n",
    "   set_engine(\"kknn\") %>%\n",
    "   set_mode(\"regression\")\n",
    "\n",
    "tennis_fit_multiple <- workflow() %>%\n",
    "   add_recipe(tennis_recipe_multiple) %>%\n",
    "   add_model(tennis_spec_kmin_mul) %>%\n",
    "   fit(data = player_train)\n",
    "\n",
    "rmspe_val_mul <- tennis_fit_multiple %>%\n",
    "   predict(player_test) %>%\n",
    "   bind_cols(player_test) %>%\n",
    "   metrics(truth = win_rate, estimate = .pred) %>%\n",
    "   filter(.metric == \"rmse\") %>%\n",
    "   select(.estimate)"
   ]
  },
  {
   "cell_type": "markdown",
   "metadata": {},
   "source": [
    "mean_rank_points + height"
   ]
  },
  {
   "cell_type": "code",
   "execution_count": 128,
   "metadata": {},
   "outputs": [
    {
     "data": {
      "text/html": [
       "<table>\n",
       "<caption>A tibble: 1 × 1</caption>\n",
       "<thead>\n",
       "\t<tr><th scope=col>.estimate</th></tr>\n",
       "\t<tr><th scope=col>&lt;dbl&gt;</th></tr>\n",
       "</thead>\n",
       "<tbody>\n",
       "\t<tr><td>9.877601</td></tr>\n",
       "</tbody>\n",
       "</table>\n"
      ],
      "text/latex": [
       "A tibble: 1 × 1\n",
       "\\begin{tabular}{l}\n",
       " .estimate\\\\\n",
       " <dbl>\\\\\n",
       "\\hline\n",
       "\t 9.877601\\\\\n",
       "\\end{tabular}\n"
      ],
      "text/markdown": [
       "\n",
       "A tibble: 1 × 1\n",
       "\n",
       "| .estimate &lt;dbl&gt; |\n",
       "|---|\n",
       "| 9.877601 |\n",
       "\n"
      ],
      "text/plain": [
       "  .estimate\n",
       "1 9.877601 "
      ]
     },
     "metadata": {},
     "output_type": "display_data"
    }
   ],
   "source": [
    "rmspe_val_mul"
   ]
  },
  {
   "cell_type": "markdown",
   "metadata": {},
   "source": [
    "KNN Regression: Multiple predictors (mean_rank_points + first_serve_pct) - One target (win_rate)"
   ]
  },
  {
   "cell_type": "code",
   "execution_count": 129,
   "metadata": {},
   "outputs": [
    {
     "name": "stderr",
     "output_type": "stream",
     "text": [
      "Warning message:\n",
      "“The number of observations in each quantile is below the recommended threshold of 20. Stratification will be done with 3 breaks instead.”\n"
     ]
    }
   ],
   "source": [
    "set.seed(1)\n",
    "\n",
    "tennis_recipe_multiple <- recipe(win_rate ~ mean_rank_points + first_serve_pct, data = player_train) %>%\n",
    "    step_scale(all_predictors()) %>%\n",
    "    step_center(all_predictors())\n",
    "\n",
    "tennis_spec_mul <- nearest_neighbor(weight_func = \"rectangular\", neighbors = tune()) %>%\n",
    "   set_engine(\"kknn\") %>%\n",
    "   set_mode(\"regression\")\n",
    "\n",
    "tennis_vfold_mul <- vfold_cv(player_train, v = 5, strata = win_rate)\n",
    "\n",
    "tennis_workflow_multiple <- workflow() %>%\n",
    "   add_recipe(tennis_recipe_multiple) %>%\n",
    "   add_model(tennis_spec_mul)\n",
    "\n",
    "gridvals_mul <- tibble(neighbors = seq(1,40))\n",
    "\n",
    "tennis_results_multiple <- tennis_workflow_multiple %>%\n",
    "   tune_grid(resamples = tennis_vfold_mul, grid = gridvals_mul) %>%\n",
    "   collect_metrics() %>%\n",
    "   filter(.metric == \"rmse\") %>%\n",
    "   filter(mean == min(mean))\n",
    "\n",
    "kmin_multiple <- pull(tennis_results_multiple, neighbors)\n",
    "\n",
    "tennis_spec_kmin_mul <- nearest_neighbor(weight_func = \"rectangular\", neighbors = kmin) %>%\n",
    "   set_engine(\"kknn\") %>%\n",
    "   set_mode(\"regression\")\n",
    "\n",
    "tennis_fit_multiple <- workflow() %>%\n",
    "   add_recipe(tennis_recipe_multiple) %>%\n",
    "   add_model(tennis_spec_kmin_mul) %>%\n",
    "   fit(data = player_train)\n",
    "\n",
    "rmspe_val_mul <- tennis_fit_multiple %>%\n",
    "   predict(player_test) %>%\n",
    "   bind_cols(player_test) %>%\n",
    "   metrics(truth = win_rate, estimate = .pred) %>%\n",
    "   filter(.metric == \"rmse\") %>%\n",
    "   select(.estimate)"
   ]
  },
  {
   "cell_type": "markdown",
   "metadata": {},
   "source": [
    "mean_rank_points + first_serve_pct"
   ]
  },
  {
   "cell_type": "code",
   "execution_count": 130,
   "metadata": {},
   "outputs": [
    {
     "data": {
      "text/html": [
       "<table>\n",
       "<caption>A tibble: 1 × 1</caption>\n",
       "<thead>\n",
       "\t<tr><th scope=col>.estimate</th></tr>\n",
       "\t<tr><th scope=col>&lt;dbl&gt;</th></tr>\n",
       "</thead>\n",
       "<tbody>\n",
       "\t<tr><td>8.858416</td></tr>\n",
       "</tbody>\n",
       "</table>\n"
      ],
      "text/latex": [
       "A tibble: 1 × 1\n",
       "\\begin{tabular}{l}\n",
       " .estimate\\\\\n",
       " <dbl>\\\\\n",
       "\\hline\n",
       "\t 8.858416\\\\\n",
       "\\end{tabular}\n"
      ],
      "text/markdown": [
       "\n",
       "A tibble: 1 × 1\n",
       "\n",
       "| .estimate &lt;dbl&gt; |\n",
       "|---|\n",
       "| 8.858416 |\n",
       "\n"
      ],
      "text/plain": [
       "  .estimate\n",
       "1 8.858416 "
      ]
     },
     "metadata": {},
     "output_type": "display_data"
    }
   ],
   "source": [
    "rmspe_val_mul"
   ]
  },
  {
   "cell_type": "markdown",
   "metadata": {},
   "source": [
    "KNN Regression: Multiple predictors (mean_rank_points + first_serve_pct + first_serve_win_pct) - One target (win_rate)"
   ]
  },
  {
   "cell_type": "code",
   "execution_count": 131,
   "metadata": {},
   "outputs": [
    {
     "name": "stderr",
     "output_type": "stream",
     "text": [
      "Warning message:\n",
      "“The number of observations in each quantile is below the recommended threshold of 20. Stratification will be done with 3 breaks instead.”\n"
     ]
    }
   ],
   "source": [
    "set.seed(1)\n",
    "\n",
    "tennis_recipe_multiple <- recipe(win_rate ~ mean_rank_points + first_serve_pct + first_serve_win_pct, data = player_train) %>%\n",
    "    step_scale(all_predictors()) %>%\n",
    "    step_center(all_predictors())\n",
    "\n",
    "tennis_spec_mul <- nearest_neighbor(weight_func = \"rectangular\", neighbors = tune()) %>%\n",
    "   set_engine(\"kknn\") %>%\n",
    "   set_mode(\"regression\")\n",
    "\n",
    "tennis_vfold_mul <- vfold_cv(player_train, v = 5, strata = win_rate)\n",
    "\n",
    "tennis_workflow_multiple <- workflow() %>%\n",
    "   add_recipe(tennis_recipe_multiple) %>%\n",
    "   add_model(tennis_spec_mul)\n",
    "\n",
    "gridvals_mul <- tibble(neighbors = seq(1,40))\n",
    "\n",
    "tennis_results_multiple <- tennis_workflow_multiple %>%\n",
    "   tune_grid(resamples = tennis_vfold_mul, grid = gridvals_mul) %>%\n",
    "   collect_metrics() %>%\n",
    "   filter(.metric == \"rmse\") %>%\n",
    "   filter(mean == min(mean))\n",
    "\n",
    "kmin_multiple <- pull(tennis_results_multiple, neighbors)\n",
    "\n",
    "tennis_spec_kmin_mul <- nearest_neighbor(weight_func = \"rectangular\", neighbors = kmin) %>%\n",
    "   set_engine(\"kknn\") %>%\n",
    "   set_mode(\"regression\")\n",
    "\n",
    "tennis_fit_multiple <- workflow() %>%\n",
    "   add_recipe(tennis_recipe_multiple) %>%\n",
    "   add_model(tennis_spec_kmin_mul) %>%\n",
    "   fit(data = player_train)\n",
    "\n",
    "rmspe_val_mul <- tennis_fit_multiple %>%\n",
    "   predict(player_test) %>%\n",
    "   bind_cols(player_test) %>%\n",
    "   metrics(truth = win_rate, estimate = .pred) %>%\n",
    "   filter(.metric == \"rmse\") %>%\n",
    "   select(.estimate)"
   ]
  },
  {
   "cell_type": "markdown",
   "metadata": {},
   "source": [
    "mean_rank_points + first_serve_pct + first_serve_win_pct"
   ]
  },
  {
   "cell_type": "code",
   "execution_count": 132,
   "metadata": {},
   "outputs": [
    {
     "data": {
      "text/html": [
       "<table>\n",
       "<caption>A tibble: 1 × 1</caption>\n",
       "<thead>\n",
       "\t<tr><th scope=col>.estimate</th></tr>\n",
       "\t<tr><th scope=col>&lt;dbl&gt;</th></tr>\n",
       "</thead>\n",
       "<tbody>\n",
       "\t<tr><td>9.462749</td></tr>\n",
       "</tbody>\n",
       "</table>\n"
      ],
      "text/latex": [
       "A tibble: 1 × 1\n",
       "\\begin{tabular}{l}\n",
       " .estimate\\\\\n",
       " <dbl>\\\\\n",
       "\\hline\n",
       "\t 9.462749\\\\\n",
       "\\end{tabular}\n"
      ],
      "text/markdown": [
       "\n",
       "A tibble: 1 × 1\n",
       "\n",
       "| .estimate &lt;dbl&gt; |\n",
       "|---|\n",
       "| 9.462749 |\n",
       "\n"
      ],
      "text/plain": [
       "  .estimate\n",
       "1 9.462749 "
      ]
     },
     "metadata": {},
     "output_type": "display_data"
    }
   ],
   "source": [
    "rmspe_val_mul"
   ]
  },
  {
   "cell_type": "markdown",
   "metadata": {},
   "source": [
    "KNN Regression: Multiple predictors (mean_rank_points + first_serve_pct + height) - One target (win_rate)"
   ]
  },
  {
   "cell_type": "code",
   "execution_count": 133,
   "metadata": {},
   "outputs": [
    {
     "name": "stderr",
     "output_type": "stream",
     "text": [
      "Warning message:\n",
      "“The number of observations in each quantile is below the recommended threshold of 20. Stratification will be done with 3 breaks instead.”\n"
     ]
    }
   ],
   "source": [
    "set.seed(1)\n",
    "\n",
    "tennis_recipe_multiple <- recipe(win_rate ~ mean_rank_points + first_serve_pct + height, data = player_train) %>%\n",
    "    step_scale(all_predictors()) %>%\n",
    "    step_center(all_predictors())\n",
    "\n",
    "tennis_spec_mul <- nearest_neighbor(weight_func = \"rectangular\", neighbors = tune()) %>%\n",
    "   set_engine(\"kknn\") %>%\n",
    "   set_mode(\"regression\")\n",
    "\n",
    "tennis_vfold_mul <- vfold_cv(player_train, v = 5, strata = win_rate)\n",
    "\n",
    "tennis_workflow_multiple <- workflow() %>%\n",
    "   add_recipe(tennis_recipe_multiple) %>%\n",
    "   add_model(tennis_spec_mul)\n",
    "\n",
    "gridvals_mul <- tibble(neighbors = seq(1,40))\n",
    "\n",
    "tennis_results_multiple <- tennis_workflow_multiple %>%\n",
    "   tune_grid(resamples = tennis_vfold_mul, grid = gridvals_mul) %>%\n",
    "   collect_metrics() %>%\n",
    "   filter(.metric == \"rmse\") %>%\n",
    "   filter(mean == min(mean))\n",
    "\n",
    "kmin_multiple <- pull(tennis_results_multiple, neighbors)\n",
    "\n",
    "tennis_spec_kmin_mul <- nearest_neighbor(weight_func = \"rectangular\", neighbors = kmin) %>%\n",
    "   set_engine(\"kknn\") %>%\n",
    "   set_mode(\"regression\")\n",
    "\n",
    "tennis_fit_multiple <- workflow() %>%\n",
    "   add_recipe(tennis_recipe_multiple) %>%\n",
    "   add_model(tennis_spec_kmin_mul) %>%\n",
    "   fit(data = player_train)\n",
    "\n",
    "rmspe_val_mul <- tennis_fit_multiple %>%\n",
    "   predict(player_test) %>%\n",
    "   bind_cols(player_test) %>%\n",
    "   metrics(truth = win_rate, estimate = .pred) %>%\n",
    "   filter(.metric == \"rmse\") %>%\n",
    "   select(.estimate)"
   ]
  },
  {
   "cell_type": "markdown",
   "metadata": {},
   "source": [
    "mean_rank_points + first_serve_pct + height"
   ]
  },
  {
   "cell_type": "code",
   "execution_count": 134,
   "metadata": {},
   "outputs": [
    {
     "data": {
      "text/html": [
       "<table>\n",
       "<caption>A tibble: 1 × 1</caption>\n",
       "<thead>\n",
       "\t<tr><th scope=col>.estimate</th></tr>\n",
       "\t<tr><th scope=col>&lt;dbl&gt;</th></tr>\n",
       "</thead>\n",
       "<tbody>\n",
       "\t<tr><td>10.38991</td></tr>\n",
       "</tbody>\n",
       "</table>\n"
      ],
      "text/latex": [
       "A tibble: 1 × 1\n",
       "\\begin{tabular}{l}\n",
       " .estimate\\\\\n",
       " <dbl>\\\\\n",
       "\\hline\n",
       "\t 10.38991\\\\\n",
       "\\end{tabular}\n"
      ],
      "text/markdown": [
       "\n",
       "A tibble: 1 × 1\n",
       "\n",
       "| .estimate &lt;dbl&gt; |\n",
       "|---|\n",
       "| 10.38991 |\n",
       "\n"
      ],
      "text/plain": [
       "  .estimate\n",
       "1 10.38991 "
      ]
     },
     "metadata": {},
     "output_type": "display_data"
    }
   ],
   "source": [
    "rmspe_val_mul"
   ]
  },
  {
   "cell_type": "markdown",
   "metadata": {},
   "source": [
    "| KNN REGRESSION -- Predictors                                   | RMSPE    |\n",
    "|----------------------------------------------------------------|----------|\n",
    "| mean_rank_points + first_serve_win_pct                         | 12.34905 |\n",
    "| mean_rank_points + height                                      | 12.14781 |\n",
    "| mean_rank_points + first_serve_pct                             | 12.09393 |\n",
    "| mean_rank_points + first_serve_pct + first_serve_win_pct       | 13.09474 |\n",
    "| mean_rank_points + first_serve_pct + height                    | 12.64508 |"
   ]
  },
  {
   "cell_type": "code",
   "execution_count": 137,
   "metadata": {},
   "outputs": [
    {
     "name": "stdout",
     "output_type": "stream",
     "text": [
      "[1] \"height\"\n",
      "[1] \"breakpoint_saved_pct\"\n",
      "[1] \"second_serve_win_pct\"\n",
      "[1] \"first_serve_pct\"\n",
      "[1] \"first_serve_win_pct\"\n",
      "[1] \"age\"\n",
      "[1] \"mean_rank_points\"\n",
      "[1] \"ace_point_pct\"\n"
     ]
    },
    {
     "data": {
      "text/html": [
       "<table>\n",
       "<caption>A tibble: 8 × 2</caption>\n",
       "<thead>\n",
       "\t<tr><th scope=col>lm_predictor</th><th scope=col>lm_rmspe</th></tr>\n",
       "\t<tr><th scope=col>&lt;chr&gt;</th><th scope=col>&lt;dbl&gt;</th></tr>\n",
       "</thead>\n",
       "<tbody>\n",
       "\t<tr><td>mean_rank_points   </td><td> 9.741566</td></tr>\n",
       "\t<tr><td>first_serve_win_pct</td><td>15.125446</td></tr>\n",
       "\t<tr><td>ace_point_pct      </td><td>15.853011</td></tr>\n",
       "\t<tr><td>⋮</td><td>⋮</td></tr>\n",
       "\t<tr><td>breakpoint_saved_pct</td><td>16.03625</td></tr>\n",
       "\t<tr><td>second_serve_win_pct</td><td>16.18525</td></tr>\n",
       "\t<tr><td>age                 </td><td>16.22005</td></tr>\n",
       "</tbody>\n",
       "</table>\n"
      ],
      "text/latex": [
       "A tibble: 8 × 2\n",
       "\\begin{tabular}{ll}\n",
       " lm\\_predictor & lm\\_rmspe\\\\\n",
       " <chr> & <dbl>\\\\\n",
       "\\hline\n",
       "\t mean\\_rank\\_points    &  9.741566\\\\\n",
       "\t first\\_serve\\_win\\_pct & 15.125446\\\\\n",
       "\t ace\\_point\\_pct       & 15.853011\\\\\n",
       "\t ⋮ & ⋮\\\\\n",
       "\t breakpoint\\_saved\\_pct & 16.03625\\\\\n",
       "\t second\\_serve\\_win\\_pct & 16.18525\\\\\n",
       "\t age                  & 16.22005\\\\\n",
       "\\end{tabular}\n"
      ],
      "text/markdown": [
       "\n",
       "A tibble: 8 × 2\n",
       "\n",
       "| lm_predictor &lt;chr&gt; | lm_rmspe &lt;dbl&gt; |\n",
       "|---|---|\n",
       "| mean_rank_points    |  9.741566 |\n",
       "| first_serve_win_pct | 15.125446 |\n",
       "| ace_point_pct       | 15.853011 |\n",
       "| ⋮ | ⋮ |\n",
       "| breakpoint_saved_pct | 16.03625 |\n",
       "| second_serve_win_pct | 16.18525 |\n",
       "| age                  | 16.22005 |\n",
       "\n"
      ],
      "text/plain": [
       "  lm_predictor         lm_rmspe \n",
       "1 mean_rank_points      9.741566\n",
       "2 first_serve_win_pct  15.125446\n",
       "3 ace_point_pct        15.853011\n",
       "⋮ ⋮                    ⋮        \n",
       "6 breakpoint_saved_pct 16.03625 \n",
       "7 second_serve_win_pct 16.18525 \n",
       "8 age                  16.22005 "
      ]
     },
     "metadata": {},
     "output_type": "display_data"
    },
    {
     "data": {
      "text/html": [
       "<style>\n",
       ".list-inline {list-style: none; margin:0; padding: 0}\n",
       ".list-inline>li {display: inline-block}\n",
       ".list-inline>li:not(:last-child)::after {content: \"\\00b7\"; padding: 0 .5ex}\n",
       "</style>\n",
       "<ol class=list-inline><li>'mean_rank_points'</li><li>'first_serve_win_pct'</li><li>'ace_point_pct'</li><li>'first_serve_pct'</li><li>'height'</li><li>'breakpoint_saved_pct'</li><li>'second_serve_win_pct'</li><li>'age'</li></ol>\n"
      ],
      "text/latex": [
       "\\begin{enumerate*}\n",
       "\\item 'mean\\_rank\\_points'\n",
       "\\item 'first\\_serve\\_win\\_pct'\n",
       "\\item 'ace\\_point\\_pct'\n",
       "\\item 'first\\_serve\\_pct'\n",
       "\\item 'height'\n",
       "\\item 'breakpoint\\_saved\\_pct'\n",
       "\\item 'second\\_serve\\_win\\_pct'\n",
       "\\item 'age'\n",
       "\\end{enumerate*}\n"
      ],
      "text/markdown": [
       "1. 'mean_rank_points'\n",
       "2. 'first_serve_win_pct'\n",
       "3. 'ace_point_pct'\n",
       "4. 'first_serve_pct'\n",
       "5. 'height'\n",
       "6. 'breakpoint_saved_pct'\n",
       "7. 'second_serve_win_pct'\n",
       "8. 'age'\n",
       "\n",
       "\n"
      ],
      "text/plain": [
       "[1] \"mean_rank_points\"     \"first_serve_win_pct\"  \"ace_point_pct\"       \n",
       "[4] \"first_serve_pct\"      \"height\"               \"breakpoint_saved_pct\"\n",
       "[7] \"second_serve_win_pct\" \"age\"                 "
      ]
     },
     "metadata": {},
     "output_type": "display_data"
    }
   ],
   "source": [
    "set.seed(1)\n",
    "\n",
    "lm_predictors <- c(\n",
    "    'height','breakpoint_saved_pct','second_serve_win_pct','first_serve_pct','first_serve_win_pct','age','mean_rank_points','ace_point_pct'\n",
    ")\n",
    "\n",
    "lm_results <- tibble()\n",
    "lm_results <- mutate(lm_results, lm_predictor = \"\", lm_rmspe = 0)\n",
    "\n",
    "for (lm_pred in lm_predictors) {\n",
    "\n",
    "    print(lm_pred)\n",
    "    \n",
    "    lm_train_data <- player_train %>%\n",
    "        select(win_rate, all_of(lm_pred))\n",
    "    \n",
    "    lm_test_data <- player_test %>%\n",
    "        select(win_rate, all_of(lm_pred))\n",
    "    \n",
    "    tennis_lm_recipe <- recipe(win_rate ~ ., data = lm_train_data) %>%\n",
    "       step_scale(all_predictors()) %>%\n",
    "       step_center(all_predictors())\n",
    "    \n",
    "    tennis_lm_spec <- linear_reg() %>%\n",
    "        set_engine(\"lm\") %>%\n",
    "        set_mode(\"regression\")\n",
    "\n",
    "    tennis_lm_fit <- workflow() %>%\n",
    "       add_recipe(tennis_lm_recipe) %>%\n",
    "       add_model(tennis_lm_spec) %>%\n",
    "       fit(data = lm_train_data)\n",
    "    \n",
    "    lm_rmspe_val <- tennis_lm_fit %>%\n",
    "         predict(lm_test_data) %>%\n",
    "         bind_cols(lm_test_data) %>%\n",
    "         metrics(truth = win_rate, estimate = .pred) %>%\n",
    "         filter(.metric == \"rmse\") %>%\n",
    "         select(.estimate) %>%\n",
    "         pull()\n",
    "    \n",
    "    lm_results <- lm_results %>%\n",
    "        add_row(lm_predictor = lm_pred, lm_rmspe = lm_rmspe_val)\n",
    "    \n",
    "}\n",
    "\n",
    "lm_results %>%\n",
    "    arrange(lm_rmspe)\n",
    "\n",
    "lm_results %>%\n",
    "    arrange(lm_rmspe) %>%\n",
    "    pull(lm_predictor)\n"
   ]
  },
  {
   "cell_type": "markdown",
   "metadata": {},
   "source": [
    "Linear Regression -- One predictor - One target (win_rate) -- mjbrodie edits"
   ]
  },
  {
   "cell_type": "code",
   "execution_count": 138,
   "metadata": {},
   "outputs": [
    {
     "name": "stdout",
     "output_type": "stream",
     "text": [
      "[1] \"height\"\n",
      "[1] \"breakpoint_saved_pct\"\n",
      "[1] \"second_serve_win_pct\"\n",
      "[1] \"first_serve_pct\"\n",
      "[1] \"first_serve_win_pct\"\n",
      "[1] \"age\"\n",
      "[1] \"mean_rank_points\"\n",
      "[1] \"ace_point_pct\"\n"
     ]
    },
    {
     "data": {
      "text/html": [
       "<table>\n",
       "<caption>A tibble: 8 × 2</caption>\n",
       "<thead>\n",
       "\t<tr><th scope=col>lm_predictor</th><th scope=col>lm_rmspe</th></tr>\n",
       "\t<tr><th scope=col>&lt;chr&gt;</th><th scope=col>&lt;dbl&gt;</th></tr>\n",
       "</thead>\n",
       "<tbody>\n",
       "\t<tr><td>mean_rank_points   </td><td> 9.741566</td></tr>\n",
       "\t<tr><td>first_serve_win_pct</td><td>15.125446</td></tr>\n",
       "\t<tr><td>ace_point_pct      </td><td>15.853011</td></tr>\n",
       "\t<tr><td>⋮</td><td>⋮</td></tr>\n",
       "\t<tr><td>breakpoint_saved_pct</td><td>16.03625</td></tr>\n",
       "\t<tr><td>second_serve_win_pct</td><td>16.18525</td></tr>\n",
       "\t<tr><td>age                 </td><td>16.22005</td></tr>\n",
       "</tbody>\n",
       "</table>\n"
      ],
      "text/latex": [
       "A tibble: 8 × 2\n",
       "\\begin{tabular}{ll}\n",
       " lm\\_predictor & lm\\_rmspe\\\\\n",
       " <chr> & <dbl>\\\\\n",
       "\\hline\n",
       "\t mean\\_rank\\_points    &  9.741566\\\\\n",
       "\t first\\_serve\\_win\\_pct & 15.125446\\\\\n",
       "\t ace\\_point\\_pct       & 15.853011\\\\\n",
       "\t ⋮ & ⋮\\\\\n",
       "\t breakpoint\\_saved\\_pct & 16.03625\\\\\n",
       "\t second\\_serve\\_win\\_pct & 16.18525\\\\\n",
       "\t age                  & 16.22005\\\\\n",
       "\\end{tabular}\n"
      ],
      "text/markdown": [
       "\n",
       "A tibble: 8 × 2\n",
       "\n",
       "| lm_predictor &lt;chr&gt; | lm_rmspe &lt;dbl&gt; |\n",
       "|---|---|\n",
       "| mean_rank_points    |  9.741566 |\n",
       "| first_serve_win_pct | 15.125446 |\n",
       "| ace_point_pct       | 15.853011 |\n",
       "| ⋮ | ⋮ |\n",
       "| breakpoint_saved_pct | 16.03625 |\n",
       "| second_serve_win_pct | 16.18525 |\n",
       "| age                  | 16.22005 |\n",
       "\n"
      ],
      "text/plain": [
       "  lm_predictor         lm_rmspe \n",
       "1 mean_rank_points      9.741566\n",
       "2 first_serve_win_pct  15.125446\n",
       "3 ace_point_pct        15.853011\n",
       "⋮ ⋮                    ⋮        \n",
       "6 breakpoint_saved_pct 16.03625 \n",
       "7 second_serve_win_pct 16.18525 \n",
       "8 age                  16.22005 "
      ]
     },
     "metadata": {},
     "output_type": "display_data"
    }
   ],
   "source": [
    "set.seed(1)\n",
    "\n",
    "lm_predictors <- c(\n",
    "    'height','breakpoint_saved_pct','second_serve_win_pct','first_serve_pct','first_serve_win_pct','age','mean_rank_points','ace_point_pct'\n",
    ")\n",
    "\n",
    "lm_results <- tibble()\n",
    "lm_results <- mutate(lm_results, lm_predictor = \"\", lm_rmspe = 0)\n",
    "\n",
    "for (lm_pred in lm_predictors) {\n",
    "\n",
    "    print(lm_pred)\n",
    "    \n",
    "    lm_train_data <- player_train %>%\n",
    "        select(win_rate, all_of(lm_pred))\n",
    "    \n",
    "    lm_test_data <- player_test %>%\n",
    "        select(win_rate, all_of(lm_pred))\n",
    "    \n",
    "    tennis_lm_recipe <- recipe(win_rate ~ ., data = lm_train_data)\n",
    "    \n",
    "    tennis_lm_spec <- linear_reg() %>%\n",
    "        set_engine(\"lm\") %>%\n",
    "        set_mode(\"regression\")\n",
    "\n",
    "    tennis_lm_fit <- workflow() %>%\n",
    "       add_recipe(tennis_lm_recipe) %>%\n",
    "       add_model(tennis_lm_spec) %>%\n",
    "       fit(data = lm_train_data)\n",
    "    \n",
    "    lm_rmspe_val <- tennis_lm_fit %>%\n",
    "         predict(lm_test_data) %>%\n",
    "         bind_cols(lm_test_data) %>%\n",
    "         metrics(truth = win_rate, estimate = .pred) %>%\n",
    "         filter(.metric == \"rmse\") %>%\n",
    "         select(.estimate) %>%\n",
    "         pull()\n",
    "    \n",
    "    lm_results <- lm_results %>%\n",
    "        add_row(lm_predictor = lm_pred, lm_rmspe = lm_rmspe_val)\n",
    "    \n",
    "}\n",
    "\n",
    "lm_results %>%\n",
    "    arrange(lm_rmspe)"
   ]
  },
  {
   "cell_type": "markdown",
   "metadata": {},
   "source": [
    "Linear Regression: Multiple predictors (mean_rank_points + first_serve_win_pct) - One target (win_rate)"
   ]
  },
  {
   "cell_type": "code",
   "execution_count": 139,
   "metadata": {},
   "outputs": [
    {
     "data": {
      "text/html": [
       "<table>\n",
       "<caption>A tibble: 1 × 3</caption>\n",
       "<thead>\n",
       "\t<tr><th scope=col>.metric</th><th scope=col>.estimator</th><th scope=col>.estimate</th></tr>\n",
       "\t<tr><th scope=col>&lt;chr&gt;</th><th scope=col>&lt;chr&gt;</th><th scope=col>&lt;dbl&gt;</th></tr>\n",
       "</thead>\n",
       "<tbody>\n",
       "\t<tr><td>rmse</td><td>standard</td><td>9.761017</td></tr>\n",
       "</tbody>\n",
       "</table>\n"
      ],
      "text/latex": [
       "A tibble: 1 × 3\n",
       "\\begin{tabular}{lll}\n",
       " .metric & .estimator & .estimate\\\\\n",
       " <chr> & <chr> & <dbl>\\\\\n",
       "\\hline\n",
       "\t rmse & standard & 9.761017\\\\\n",
       "\\end{tabular}\n"
      ],
      "text/markdown": [
       "\n",
       "A tibble: 1 × 3\n",
       "\n",
       "| .metric &lt;chr&gt; | .estimator &lt;chr&gt; | .estimate &lt;dbl&gt; |\n",
       "|---|---|---|\n",
       "| rmse | standard | 9.761017 |\n",
       "\n"
      ],
      "text/plain": [
       "  .metric .estimator .estimate\n",
       "1 rmse    standard   9.761017 "
      ]
     },
     "metadata": {},
     "output_type": "display_data"
    }
   ],
   "source": [
    "set.seed(1)\n",
    "\n",
    "tennis_spec_lm <- linear_reg() %>%\n",
    "    set_engine(\"lm\") %>%\n",
    "    set_mode(\"regression\")\n",
    "\n",
    "tennis_recipe_lm <- recipe(win_rate ~ mean_rank_points + first_serve_win_pct, data = player_train)\n",
    "\n",
    "tennis_fit_lm <- workflow() %>%\n",
    "    add_recipe(tennis_recipe_lm) %>%\n",
    "    add_model(tennis_spec_lm) %>%\n",
    "    fit(data = player_train)\n",
    "\n",
    "tennis_results_lm <- tennis_fit_lm %>%\n",
    "    predict(player_test) %>%\n",
    "    bind_cols(player_test) %>%\n",
    "    metrics(truth = win_rate, estimate = .pred) %>%\n",
    "    filter(.metric == \"rmse\")\n",
    "\n",
    "tennis_results_lm"
   ]
  },
  {
   "cell_type": "markdown",
   "metadata": {},
   "source": [
    "Linear Regression: Multiple predictors (mean_rank_points + height) - One target (win_rate)"
   ]
  },
  {
   "cell_type": "code",
   "execution_count": 140,
   "metadata": {},
   "outputs": [
    {
     "data": {
      "text/html": [
       "<table>\n",
       "<caption>A tibble: 1 × 3</caption>\n",
       "<thead>\n",
       "\t<tr><th scope=col>.metric</th><th scope=col>.estimator</th><th scope=col>.estimate</th></tr>\n",
       "\t<tr><th scope=col>&lt;chr&gt;</th><th scope=col>&lt;chr&gt;</th><th scope=col>&lt;dbl&gt;</th></tr>\n",
       "</thead>\n",
       "<tbody>\n",
       "\t<tr><td>rmse</td><td>standard</td><td>9.72332</td></tr>\n",
       "</tbody>\n",
       "</table>\n"
      ],
      "text/latex": [
       "A tibble: 1 × 3\n",
       "\\begin{tabular}{lll}\n",
       " .metric & .estimator & .estimate\\\\\n",
       " <chr> & <chr> & <dbl>\\\\\n",
       "\\hline\n",
       "\t rmse & standard & 9.72332\\\\\n",
       "\\end{tabular}\n"
      ],
      "text/markdown": [
       "\n",
       "A tibble: 1 × 3\n",
       "\n",
       "| .metric &lt;chr&gt; | .estimator &lt;chr&gt; | .estimate &lt;dbl&gt; |\n",
       "|---|---|---|\n",
       "| rmse | standard | 9.72332 |\n",
       "\n"
      ],
      "text/plain": [
       "  .metric .estimator .estimate\n",
       "1 rmse    standard   9.72332  "
      ]
     },
     "metadata": {},
     "output_type": "display_data"
    }
   ],
   "source": [
    "set.seed(1)\n",
    "\n",
    "tennis_spec_lm <- linear_reg() %>%\n",
    "    set_engine(\"lm\") %>%\n",
    "    set_mode(\"regression\")\n",
    "\n",
    "tennis_recipe_lm <- recipe(win_rate ~ mean_rank_points + height, data = player_train)\n",
    "\n",
    "tennis_fit_lm <- workflow() %>%\n",
    "    add_recipe(tennis_recipe_lm) %>%\n",
    "    add_model(tennis_spec_lm) %>%\n",
    "    fit(data = player_train)\n",
    "\n",
    "tennis_results_lm <- tennis_fit_lm %>%\n",
    "    predict(player_test) %>%\n",
    "    bind_cols(player_test) %>%\n",
    "    metrics(truth = win_rate, estimate = .pred) %>%\n",
    "    filter(.metric == \"rmse\")\n",
    "\n",
    "tennis_results_lm"
   ]
  },
  {
   "cell_type": "markdown",
   "metadata": {},
   "source": [
    "Linear Regression: Multiple predictors (mean_rank_points + first_serve_pct) - One target (win_rate)"
   ]
  },
  {
   "cell_type": "code",
   "execution_count": 141,
   "metadata": {},
   "outputs": [
    {
     "data": {
      "text/html": [
       "<table>\n",
       "<caption>A tibble: 1 × 3</caption>\n",
       "<thead>\n",
       "\t<tr><th scope=col>.metric</th><th scope=col>.estimator</th><th scope=col>.estimate</th></tr>\n",
       "\t<tr><th scope=col>&lt;chr&gt;</th><th scope=col>&lt;chr&gt;</th><th scope=col>&lt;dbl&gt;</th></tr>\n",
       "</thead>\n",
       "<tbody>\n",
       "\t<tr><td>rmse</td><td>standard</td><td>9.699788</td></tr>\n",
       "</tbody>\n",
       "</table>\n"
      ],
      "text/latex": [
       "A tibble: 1 × 3\n",
       "\\begin{tabular}{lll}\n",
       " .metric & .estimator & .estimate\\\\\n",
       " <chr> & <chr> & <dbl>\\\\\n",
       "\\hline\n",
       "\t rmse & standard & 9.699788\\\\\n",
       "\\end{tabular}\n"
      ],
      "text/markdown": [
       "\n",
       "A tibble: 1 × 3\n",
       "\n",
       "| .metric &lt;chr&gt; | .estimator &lt;chr&gt; | .estimate &lt;dbl&gt; |\n",
       "|---|---|---|\n",
       "| rmse | standard | 9.699788 |\n",
       "\n"
      ],
      "text/plain": [
       "  .metric .estimator .estimate\n",
       "1 rmse    standard   9.699788 "
      ]
     },
     "metadata": {},
     "output_type": "display_data"
    }
   ],
   "source": [
    "set.seed(1)\n",
    "\n",
    "tennis_spec_lm <- linear_reg() %>%\n",
    "    set_engine(\"lm\") %>%\n",
    "    set_mode(\"regression\")\n",
    "\n",
    "tennis_recipe_lm <- recipe(win_rate ~ mean_rank_points + first_serve_pct, data = player_train)\n",
    "\n",
    "tennis_fit_lm <- workflow() %>%\n",
    "    add_recipe(tennis_recipe_lm) %>%\n",
    "    add_model(tennis_spec_lm) %>%\n",
    "    fit(data = player_train)\n",
    "\n",
    "tennis_results_lm <- tennis_fit_lm %>%\n",
    "    predict(player_test) %>%\n",
    "    bind_cols(player_test) %>%\n",
    "    metrics(truth = win_rate, estimate = .pred) %>%\n",
    "    filter(.metric == \"rmse\")\n",
    "\n",
    "tennis_results_lm"
   ]
  },
  {
   "cell_type": "markdown",
   "metadata": {},
   "source": [
    "Linear Regression: Multiple predictors (mean_rank_points + first_serve_win_pct + first_serve_pct) - One target (win_rate)"
   ]
  },
  {
   "cell_type": "code",
   "execution_count": 142,
   "metadata": {},
   "outputs": [
    {
     "data": {
      "text/html": [
       "<table>\n",
       "<caption>A tibble: 1 × 3</caption>\n",
       "<thead>\n",
       "\t<tr><th scope=col>.metric</th><th scope=col>.estimator</th><th scope=col>.estimate</th></tr>\n",
       "\t<tr><th scope=col>&lt;chr&gt;</th><th scope=col>&lt;chr&gt;</th><th scope=col>&lt;dbl&gt;</th></tr>\n",
       "</thead>\n",
       "<tbody>\n",
       "\t<tr><td>rmse</td><td>standard</td><td>9.64302</td></tr>\n",
       "</tbody>\n",
       "</table>\n"
      ],
      "text/latex": [
       "A tibble: 1 × 3\n",
       "\\begin{tabular}{lll}\n",
       " .metric & .estimator & .estimate\\\\\n",
       " <chr> & <chr> & <dbl>\\\\\n",
       "\\hline\n",
       "\t rmse & standard & 9.64302\\\\\n",
       "\\end{tabular}\n"
      ],
      "text/markdown": [
       "\n",
       "A tibble: 1 × 3\n",
       "\n",
       "| .metric &lt;chr&gt; | .estimator &lt;chr&gt; | .estimate &lt;dbl&gt; |\n",
       "|---|---|---|\n",
       "| rmse | standard | 9.64302 |\n",
       "\n"
      ],
      "text/plain": [
       "  .metric .estimator .estimate\n",
       "1 rmse    standard   9.64302  "
      ]
     },
     "metadata": {},
     "output_type": "display_data"
    }
   ],
   "source": [
    "set.seed(1)\n",
    "\n",
    "tennis_spec_lm <- linear_reg() %>%\n",
    "    set_engine(\"lm\") %>%\n",
    "    set_mode(\"regression\")\n",
    "\n",
    "tennis_recipe_lm <- recipe(win_rate ~ mean_rank_points + first_serve_win_pct + first_serve_pct, data = player_train)\n",
    "\n",
    "tennis_fit_lm <- workflow() %>%\n",
    "    add_recipe(tennis_recipe_lm) %>%\n",
    "    add_model(tennis_spec_lm) %>%\n",
    "    fit(data = player_train)\n",
    "\n",
    "tennis_results_lm <- tennis_fit_lm %>%\n",
    "    predict(player_test) %>%\n",
    "    bind_cols(player_test) %>%\n",
    "    metrics(truth = win_rate, estimate = .pred) %>%\n",
    "    filter(.metric == \"rmse\")\n",
    "\n",
    "tennis_results_lm"
   ]
  },
  {
   "cell_type": "markdown",
   "metadata": {},
   "source": [
    "Linear Regression: Multiple predictors (mean_rank_points + first_serve_pct + height) - One target (win_rate)"
   ]
  },
  {
   "cell_type": "code",
   "execution_count": 143,
   "metadata": {},
   "outputs": [
    {
     "data": {
      "text/html": [
       "<table>\n",
       "<caption>A tibble: 1 × 3</caption>\n",
       "<thead>\n",
       "\t<tr><th scope=col>.metric</th><th scope=col>.estimator</th><th scope=col>.estimate</th></tr>\n",
       "\t<tr><th scope=col>&lt;chr&gt;</th><th scope=col>&lt;chr&gt;</th><th scope=col>&lt;dbl&gt;</th></tr>\n",
       "</thead>\n",
       "<tbody>\n",
       "\t<tr><td>rmse</td><td>standard</td><td>9.71052</td></tr>\n",
       "</tbody>\n",
       "</table>\n"
      ],
      "text/latex": [
       "A tibble: 1 × 3\n",
       "\\begin{tabular}{lll}\n",
       " .metric & .estimator & .estimate\\\\\n",
       " <chr> & <chr> & <dbl>\\\\\n",
       "\\hline\n",
       "\t rmse & standard & 9.71052\\\\\n",
       "\\end{tabular}\n"
      ],
      "text/markdown": [
       "\n",
       "A tibble: 1 × 3\n",
       "\n",
       "| .metric &lt;chr&gt; | .estimator &lt;chr&gt; | .estimate &lt;dbl&gt; |\n",
       "|---|---|---|\n",
       "| rmse | standard | 9.71052 |\n",
       "\n"
      ],
      "text/plain": [
       "  .metric .estimator .estimate\n",
       "1 rmse    standard   9.71052  "
      ]
     },
     "metadata": {},
     "output_type": "display_data"
    }
   ],
   "source": [
    "set.seed(1)\n",
    "\n",
    "tennis_spec_lm <- linear_reg() %>%\n",
    "    set_engine(\"lm\") %>%\n",
    "    set_mode(\"regression\")\n",
    "\n",
    "tennis_recipe_lm <- recipe(win_rate ~ mean_rank_points + first_serve_pct + height, data = player_train)\n",
    "\n",
    "tennis_fit_lm <- workflow() %>%\n",
    "    add_recipe(tennis_recipe_lm) %>%\n",
    "    add_model(tennis_spec_lm) %>%\n",
    "    fit(data = player_train)\n",
    "\n",
    "tennis_results_lm <- tennis_fit_lm %>%\n",
    "    predict(player_test) %>%\n",
    "    bind_cols(player_test) %>%\n",
    "    metrics(truth = win_rate, estimate = .pred) %>%\n",
    "    filter(.metric == \"rmse\")\n",
    "\n",
    "tennis_results_lm"
   ]
  },
  {
   "cell_type": "code",
   "execution_count": 144,
   "metadata": {},
   "outputs": [
    {
     "data": {
      "text/html": [
       "<table>\n",
       "<caption>A tibble: 1 × 3</caption>\n",
       "<thead>\n",
       "\t<tr><th scope=col>.metric</th><th scope=col>.estimator</th><th scope=col>.estimate</th></tr>\n",
       "\t<tr><th scope=col>&lt;chr&gt;</th><th scope=col>&lt;chr&gt;</th><th scope=col>&lt;dbl&gt;</th></tr>\n",
       "</thead>\n",
       "<tbody>\n",
       "\t<tr><td>rmse</td><td>standard</td><td>9.71052</td></tr>\n",
       "</tbody>\n",
       "</table>\n"
      ],
      "text/latex": [
       "A tibble: 1 × 3\n",
       "\\begin{tabular}{lll}\n",
       " .metric & .estimator & .estimate\\\\\n",
       " <chr> & <chr> & <dbl>\\\\\n",
       "\\hline\n",
       "\t rmse & standard & 9.71052\\\\\n",
       "\\end{tabular}\n"
      ],
      "text/markdown": [
       "\n",
       "A tibble: 1 × 3\n",
       "\n",
       "| .metric &lt;chr&gt; | .estimator &lt;chr&gt; | .estimate &lt;dbl&gt; |\n",
       "|---|---|---|\n",
       "| rmse | standard | 9.71052 |\n",
       "\n"
      ],
      "text/plain": [
       "  .metric .estimator .estimate\n",
       "1 rmse    standard   9.71052  "
      ]
     },
     "metadata": {},
     "output_type": "display_data"
    }
   ],
   "source": [
    "set.seed(1)\n",
    "\n",
    "tennis_spec_lm <- linear_reg() %>%\n",
    "    set_engine(\"lm\") %>%\n",
    "    set_mode(\"regression\")\n",
    "\n",
    "tennis_recipe_lm <- recipe(win_rate ~ mean_rank_points + first_serve_pct + height, data = player_train)\n",
    "\n",
    "tennis_fit_lm <- workflow() %>%\n",
    "    add_recipe(tennis_recipe_lm) %>%\n",
    "    add_model(tennis_spec_lm) %>%\n",
    "    fit(data = player_train)\n",
    "\n",
    "tennis_results_lm <- tennis_fit_lm %>%\n",
    "    predict(player_test) %>%\n",
    "    bind_cols(player_test) %>%\n",
    "    metrics(truth = win_rate, estimate = .pred) %>%\n",
    "    filter(.metric == \"rmse\")\n",
    "\n",
    "tennis_results_lm"
   ]
  },
  {
   "cell_type": "code",
   "execution_count": 145,
   "metadata": {},
   "outputs": [
    {
     "data": {
      "text/html": [
       "<table>\n",
       "<caption>A tibble: 1 × 3</caption>\n",
       "<thead>\n",
       "\t<tr><th scope=col>.metric</th><th scope=col>.estimator</th><th scope=col>.estimate</th></tr>\n",
       "\t<tr><th scope=col>&lt;chr&gt;</th><th scope=col>&lt;chr&gt;</th><th scope=col>&lt;dbl&gt;</th></tr>\n",
       "</thead>\n",
       "<tbody>\n",
       "\t<tr><td>rmse</td><td>standard</td><td>9.71052</td></tr>\n",
       "</tbody>\n",
       "</table>\n"
      ],
      "text/latex": [
       "A tibble: 1 × 3\n",
       "\\begin{tabular}{lll}\n",
       " .metric & .estimator & .estimate\\\\\n",
       " <chr> & <chr> & <dbl>\\\\\n",
       "\\hline\n",
       "\t rmse & standard & 9.71052\\\\\n",
       "\\end{tabular}\n"
      ],
      "text/markdown": [
       "\n",
       "A tibble: 1 × 3\n",
       "\n",
       "| .metric &lt;chr&gt; | .estimator &lt;chr&gt; | .estimate &lt;dbl&gt; |\n",
       "|---|---|---|\n",
       "| rmse | standard | 9.71052 |\n",
       "\n"
      ],
      "text/plain": [
       "  .metric .estimator .estimate\n",
       "1 rmse    standard   9.71052  "
      ]
     },
     "metadata": {},
     "output_type": "display_data"
    }
   ],
   "source": [
    "tennis_results_lm"
   ]
  },
  {
   "cell_type": "markdown",
   "metadata": {},
   "source": [
    "| LINEAR REGRESSION -- Predictors                                | RMSPE    |\n",
    "|----------------------------------------------------------------|----------|\n",
    "| mean_rank_points + first_serve_win_pct                         | 9.718589 |\n",
    "| mean_rank_points + height                                      | 9.682601 |\n",
    "| mean_rank_points + first_serve_pct                             | 9.658411 |\n",
    "| mean_rank_points + first_serve_pct + first_serve_win_pct       | 9.603781 |\n",
    "| mean_rank_points + first_serve_pct + height                    | 9.668343 |"
   ]
  },
  {
   "cell_type": "code",
   "execution_count": null,
   "metadata": {},
   "outputs": [],
   "source": []
  }
 ],
 "metadata": {
  "kernelspec": {
   "display_name": "R",
   "language": "R",
   "name": "ir"
  },
  "language_info": {
   "codemirror_mode": "r",
   "file_extension": ".r",
   "mimetype": "text/x-r-source",
   "name": "R",
   "pygments_lexer": "r",
   "version": "4.0.0"
  }
 },
 "nbformat": 4,
 "nbformat_minor": 4
}
